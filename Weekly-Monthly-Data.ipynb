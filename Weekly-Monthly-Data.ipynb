{
 "cells": [
  {
   "cell_type": "code",
   "execution_count": 1,
   "metadata": {},
   "outputs": [],
   "source": [
    "%matplotlib inline  "
   ]
  },
  {
   "cell_type": "code",
   "execution_count": 2,
   "metadata": {},
   "outputs": [],
   "source": [
    "import math\n",
    "import numpy as np\n",
    "import pandas as pd\n",
    "import matplotlib.pyplot as plt\n",
    "from matplotlib.pyplot import figure\n",
    "import ipywidgets as widgets  \n",
    "import itertools\n",
    "import inspect\n",
    "from IPython.display import display\n",
    "import itertools"
   ]
  },
  {
   "cell_type": "markdown",
   "metadata": {},
   "source": [
    "#### Names of employess in their relavent groups"
   ]
  },
  {
   "cell_type": "code",
   "execution_count": 3,
   "metadata": {},
   "outputs": [],
   "source": [
    "phy_therapist=['Lars Ulrik Pedersen',\n",
    "'Anne Sylvester Walters',\n",
    "'Jacob Carsting',\n",
    "'Ida Lundager Kraaer',\n",
    "'Jesper Jin Leen Larsen',\n",
    "'Anders Kjærulff Møller',\n",
    "'Niklas Dunker Gammelmark',\n",
    "'Stefan Koch Jacobsen']\n",
    "\n",
    "bk_assistant=['Linda Wichmann',\n",
    "'Qillaq Thomas Moesgaard',\n",
    "'Bente Stigborg',\n",
    "'Marie-Louise Fugl Madsen', \n",
    "'Natascha Jensen Dresler',\n",
    "'Dina Larn Bonsvig',\n",
    "'Markus Kochendorff Støvring',\n",
    "'Hafsah Tasneem',\n",
    "'Kristina Halvorseth',\n",
    "'Stephanie Dam',\n",
    "'Gitte Larsen',\n",
    "'Nicolai Linnemann',\n",
    "'Maria Fleischer',\n",
    "'Mia Douglas',\n",
    "'Elizabeth Jeppesen',\n",
    "'Marianne Brandt',\n",
    "'Lone Bruun Houmøller',\n",
    "'Inge Chan']\n",
    "\n",
    "morning_team=['Mia Douglas','Marianne Brandt','Elizabeth Jeppesen']\n",
    "\n",
    "\n",
    "test_team=['Hafsah Tasneem','Stephanie Dam']"
   ]
  },
  {
   "cell_type": "markdown",
   "metadata": {},
   "source": [
    "#### Cleaning the dataset"
   ]
  },
  {
   "cell_type": "code",
   "execution_count": 4,
   "metadata": {},
   "outputs": [],
   "source": [
    "percentages= ['Aktiv/Klar - Samtale','Aktiv/Klar - Klar','Aktiv/Klar - Admininistrativt','Ikke Klar - Pause','Ikke Klar - Andet']\n",
    "col_list=['Login-timer / dag','Tabte Opkald per dag', 'Samtale (min) per Opkald',\n",
    "       'Aktiv/Klar (T) - Samlet per dag', \n",
    "       'Samtale (T) - per dag', 'Klar (T) - per dag',\n",
    "        'Administration (T) - per dag',\n",
    "        'Pause (T) - per dag',\n",
    "        'ikke klar (T) Andet - per dag',\n",
    "        'Ukendt/Andet (T) - per dag']\n",
    "float_col_list=col_list+percentages\n",
    "\n",
    "def remove_percentages_and_change_to_float_add_coloumn(df):\n",
    "   \n",
    "    for i in percentages:\n",
    "        df[i]=list(map(lambda x: x[:-1], df[i].values))\n",
    "    df[float_col_list]=df[float_col_list].astype(float)\n",
    "    df['In-Ud-sum']=df['Indgående Opkald per dag'] + df['Udgående Opkald per dag']"
   ]
  },
  {
   "cell_type": "markdown",
   "metadata": {},
   "source": [
    "#### Getting the name of the variable"
   ]
  },
  {
   "cell_type": "code",
   "execution_count": 5,
   "metadata": {},
   "outputs": [],
   "source": [
    "def retrieve_name(var):\n",
    "    callers_local_vars = inspect.currentframe().f_back.f_locals.items()\n",
    "    return [var_name for var_name, var_val in callers_local_vars if var_val is var]"
   ]
  },
  {
   "cell_type": "markdown",
   "metadata": {},
   "source": [
    "## Getting Weekly data for all employees"
   ]
  },
  {
   "cell_type": "code",
   "execution_count": 6,
   "metadata": {},
   "outputs": [],
   "source": [
    "oct_2019_week1=pd.read_csv(\"all_oct_1st.csv\", sep=',', encoding='utf-8')\n",
    "oct_2019_week2=pd.read_csv(\"all_oct_2nd.csv\", sep=',', encoding='utf-8')\n",
    "oct_2019_week3=pd.read_csv(\"all_oct_3rd.csv\", sep=',', encoding='utf-8')\n",
    "oct_2019_week4=pd.read_csv(\"all_oct_4th.csv\", sep=',', encoding='utf-8')\n",
    "oct_2019_week5=pd.read_csv(\"all_oct_5th.csv\", sep=',', encoding='utf-8')"
   ]
  },
  {
   "cell_type": "code",
   "execution_count": 7,
   "metadata": {},
   "outputs": [],
   "source": [
    "nov_2019_week1=pd.read_csv(\"all_nov_1st.csv\", sep=',', encoding='utf-8')\n",
    "nov_2019_week2=pd.read_csv(\"all_nov_2nd.csv\", sep=',', encoding='utf-8')\n",
    "nov_2019_week3=pd.read_csv(\"all_nov_3rd.csv\", sep=',', encoding='utf-8')\n",
    "nov_2019_week4=pd.read_csv(\"all_nov_4th.csv\", sep=',', encoding='utf-8')\n",
    "nov_2019_week5=pd.read_csv(\"all_nov_5th.csv\", sep=',', encoding='utf-8')"
   ]
  },
  {
   "cell_type": "code",
   "execution_count": 8,
   "metadata": {},
   "outputs": [],
   "source": [
    "dec_2019_week1=pd.read_csv(\"all_dec_1st.csv\", sep=',', encoding='utf-8')\n",
    "dec_2019_week2=pd.read_csv(\"all_dec_2nd.csv\", sep=',', encoding='utf-8')\n",
    "dec_2019_week3=pd.read_csv(\"all_dec_3rd.csv\", sep=',', encoding='utf-8')\n",
    "dec_2019_week4=pd.read_csv(\"all_dec_4th.csv\", sep=',', encoding='utf-8')\n",
    "dec_2019_week5=pd.read_csv(\"all_dec_5th.csv\", sep=',', encoding='utf-8')"
   ]
  },
  {
   "cell_type": "code",
   "execution_count": 9,
   "metadata": {},
   "outputs": [],
   "source": [
    "jan_2020_week1=pd.read_csv(\"all_jan_1st.csv\", sep=',', encoding='utf-8')\n",
    "jan_2020_week2=pd.read_csv(\"all_jan_2nd.csv\", sep=',', encoding='utf-8')\n",
    "jan_2020_week3=pd.read_csv(\"all_jan_3rd.csv\", sep=',', encoding='utf-8')\n",
    "jan_2020_week4=pd.read_csv(\"all_jan_4th.csv\", sep=',', encoding='utf-8')\n",
    "jan_2020_week5=pd.read_csv(\"all_jan_5th.csv\", sep=',', encoding='utf-8')"
   ]
  },
  {
   "cell_type": "code",
   "execution_count": 10,
   "metadata": {},
   "outputs": [],
   "source": [
    "feb_2020_week1=pd.read_csv(\"all_feb_1st.csv\", sep=',', encoding='utf-8')\n",
    "feb_2020_week2=pd.read_csv(\"all_feb_2nd.csv\", sep=',', encoding='utf-8')\n",
    "feb_2020_week3=pd.read_csv(\"all_feb_3rd.csv\", sep=',', encoding='utf-8')\n",
    "feb_2020_week4=pd.read_csv(\"all_feb_4th.csv\", sep=',', encoding='utf-8')"
   ]
  },
  {
   "cell_type": "code",
   "execution_count": 11,
   "metadata": {},
   "outputs": [],
   "source": [
    "mar_2020_week1=pd.read_csv(\"all_march_1st.csv\", sep=',', encoding='utf-8')\n",
    "mar_2020_week2=pd.read_csv(\"all_march_2nd.csv\", sep=',', encoding='utf-8')\n",
    "mar_2020_week3=pd.read_csv(\"all_march_3rd.csv\", sep=',', encoding='utf-8')\n",
    "mar_2020_week4=pd.read_csv(\"all_march_4th.csv\", sep=',', encoding='utf-8')\n",
    "mar_2020_week5=pd.read_csv(\"all_march_5th.csv\", sep=',', encoding='utf-8')"
   ]
  },
  {
   "cell_type": "code",
   "execution_count": 12,
   "metadata": {},
   "outputs": [],
   "source": [
    "apr_2020_week1=pd.read_csv(\"all_april_1st.csv\", sep=',', encoding='utf-8')\n",
    "apr_2020_week2=pd.read_csv(\"all_april_2nd.csv\", sep=',', encoding='utf-8')\n",
    "apr_2020_week3=pd.read_csv(\"all_april_3rd.csv\", sep=',', encoding='utf-8')\n",
    "apr_2020_week4=pd.read_csv(\"all_april_4th.csv\", sep=',', encoding='utf-8')\n",
    "apr_2020_week5=pd.read_csv(\"all_april_5th.csv\", sep=',', encoding='utf-8')"
   ]
  },
  {
   "cell_type": "code",
   "execution_count": 13,
   "metadata": {},
   "outputs": [],
   "source": [
    "may_2020_week1=pd.read_csv(\"all_may_1st.csv\", sep=',', encoding='utf-8')\n",
    "may_2020_week2=pd.read_csv(\"all_may_2nd.csv\", sep=',', encoding='utf-8')\n",
    "may_2020_week3=pd.read_csv(\"all_may_3rd.csv\", sep=',', encoding='utf-8')\n",
    "may_2020_week4=pd.read_csv(\"all_may_4th.csv\", sep=',', encoding='utf-8')\n",
    "may_2020_week5=pd.read_csv(\"all_may_5th.csv\", sep=',', encoding='utf-8')"
   ]
  },
  {
   "cell_type": "code",
   "execution_count": 14,
   "metadata": {
    "scrolled": false
   },
   "outputs": [],
   "source": [
    "jun_2020_week1=pd.read_csv(\"all_june_1st.csv\", sep=',', encoding='utf-8')\n",
    "jun_2020_week2=pd.read_csv(\"all_june_2nd.csv\", sep=',', encoding='utf-8')\n",
    "jun_2020_week3=pd.read_csv(\"all_june_3rd.csv\", sep=',', encoding='utf-8')\n",
    "jun_2020_week4=pd.read_csv(\"all_june_4th.csv\", sep=',', encoding='utf-8')\n",
    "jun_2020_week5=pd.read_csv(\"all_june_5th.csv\", sep=',', encoding='utf-8')"
   ]
  },
  {
   "cell_type": "code",
   "execution_count": 15,
   "metadata": {},
   "outputs": [],
   "source": [
    "jul_2020_week1=pd.read_csv(\"all_july_1st.csv\", sep=',', encoding='utf-8')\n",
    "jul_2020_week2=pd.read_csv(\"all_july_2nd.csv\", sep=',', encoding='utf-8')\n",
    "jul_2020_week3=pd.read_csv(\"all_july_3rd.csv\", sep=',', encoding='utf-8')\n",
    "jul_2020_week4=pd.read_csv(\"all_july_4th.csv\", sep=',', encoding='utf-8')\n",
    "jul_2020_week5=pd.read_csv(\"all_july_5th.csv\", sep=',', encoding='utf-8')"
   ]
  },
  {
   "cell_type": "code",
   "execution_count": 16,
   "metadata": {},
   "outputs": [],
   "source": [
    "jan_2020=pd.read_csv(\"Jan2020.csv\", sep=',', encoding='utf-8')\n",
    "feb_2020=pd.read_csv(\"Feb2020.csv\", sep=',', encoding='utf-8')\n",
    "mar_2020=pd.read_csv(\"March2020.csv\", sep=',', encoding='utf-8')\n",
    "apr_2020=pd.read_csv(\"April2020.csv\", sep=',', encoding='utf-8')\n",
    "may_2020=pd.read_csv(\"May2020.csv\", sep=',', encoding='utf-8')\n",
    "jun_2020=pd.read_csv(\"June2020.csv\", sep=',', encoding='utf-8')\n",
    "jul_2020=pd.read_csv(\"July2020.csv\", sep=',', encoding='utf-8') "
   ]
  },
  {
   "cell_type": "code",
   "execution_count": 17,
   "metadata": {},
   "outputs": [],
   "source": [
    "year_2019=pd.read_csv(\"all_2019.csv\", sep=',', encoding='utf-8')\n",
    "year_2020=pd.read_csv(\"all_2020_til_July.csv\", sep=',', encoding='utf-8') #til 31st July"
   ]
  },
  {
   "cell_type": "code",
   "execution_count": 18,
   "metadata": {},
   "outputs": [],
   "source": [
    "#2019 monthly data\n",
    "dec_2019=pd.read_csv(\"Dec2019.csv\", sep=',', encoding='utf-8')\n",
    "nov_2019=pd.read_csv(\"Nov2019.csv\", sep=',', encoding='utf-8')\n",
    "oct_2019=pd.read_csv(\"Oct2019.csv\", sep=',', encoding='utf-8')"
   ]
  },
  {
   "cell_type": "code",
   "execution_count": 19,
   "metadata": {},
   "outputs": [],
   "source": [
    "weekslist=[oct_2019_week1,oct_2019_week2,oct_2019_week3,oct_2019_week4,oct_2019_week5,nov_2019_week1,nov_2019_week2,nov_2019_week3,nov_2019_week4,nov_2019_week5,dec_2019_week1,dec_2019_week2,dec_2019_week3,dec_2019_week4,dec_2019_week5,jan_2020_week1,jan_2020_week2,jan_2020_week3,jan_2020_week4,jan_2020_week5,feb_2020_week1,feb_2020_week2,feb_2020_week3,feb_2020_week4,mar_2020_week1,mar_2020_week2,mar_2020_week3,mar_2020_week4,mar_2020_week5,apr_2020_week1,apr_2020_week2,apr_2020_week3,apr_2020_week4,apr_2020_week5,may_2020_week1,may_2020_week2,may_2020_week3,may_2020_week4,may_2020_week5,jun_2020_week1,jun_2020_week2,jun_2020_week3,jun_2020_week4,jun_2020_week5,jul_2020_week1,jul_2020_week2,jul_2020_week3,jul_2020_week4,jul_2020_week5]"
   ]
  },
  {
   "cell_type": "code",
   "execution_count": 20,
   "metadata": {},
   "outputs": [],
   "source": [
    "monthslist=[oct_2019,nov_2019,dec_2019,jan_2020,feb_2020,mar_2020,apr_2020,may_2020,jun_2020,jul_2020]"
   ]
  },
  {
   "cell_type": "code",
   "execution_count": 21,
   "metadata": {},
   "outputs": [],
   "source": [
    "yearsList=[year_2019,year_2020]"
   ]
  },
  {
   "cell_type": "markdown",
   "metadata": {},
   "source": [
    "#### Getting the name of the variable and setting as Period in all dfs"
   ]
  },
  {
   "cell_type": "code",
   "execution_count": 22,
   "metadata": {},
   "outputs": [],
   "source": [
    "temp_period_names=[]\n",
    "for i in range(len(weekslist)):\n",
    "    temp_period_names.append(retrieve_name(weekslist[i]))\n",
    "week_periods_names=list(itertools.chain(*temp_period_names))\n",
    "\n",
    "temp_period_names=[]\n",
    "for i in range(len(monthslist)):\n",
    "    temp_period_names.append(retrieve_name(monthslist[i]))\n",
    "months_periods_names=list(itertools.chain(*temp_period_names))\n",
    "\n",
    "temp_period_names=[]\n",
    "for i in range(len(yearsList)):\n",
    "    temp_period_names.append(retrieve_name(yearsList[i]))\n",
    "years_periods_names=list(itertools.chain(*temp_period_names))"
   ]
  },
  {
   "cell_type": "code",
   "execution_count": 23,
   "metadata": {},
   "outputs": [],
   "source": [
    " def getPeriods(period,num1,num2,splitter):\n",
    "    per= period.split(splitter)\n",
    "    per= per[num1].title() +' '+per[num2]\n",
    "    return per\n",
    "\n",
    "def getPeriodsWeekly(period,num1,num2,splitter):\n",
    "    per= period.split(splitter)\n",
    "    per= per[num1].title() +' '+per[num2]\n",
    "    return per"
   ]
  },
  {
   "cell_type": "code",
   "execution_count": 24,
   "metadata": {},
   "outputs": [],
   "source": [
    "for i in weekslist:\n",
    "    remove_percentages_and_change_to_float_add_coloumn(i)\n",
    "    i['In-Ud-sum']=i['Indgående Opkald per dag'] + i['Udgående Opkald per dag']\n",
    "\n",
    "for i in monthslist:\n",
    "    remove_percentages_and_change_to_float_add_coloumn(i)\n",
    "    i['In-Ud-sum']=i['Indgående Opkald per dag'] + i['Udgående Opkald per dag']\n",
    "    \n",
    "for i in yearsList:\n",
    "    remove_percentages_and_change_to_float_add_coloumn(i)\n",
    "    i['In-Ud-sum']=i['Indgående Opkald per dag'] + i['Udgående Opkald per dag']"
   ]
  },
  {
   "cell_type": "code",
   "execution_count": 25,
   "metadata": {},
   "outputs": [],
   "source": [
    "for i in range(len(weekslist)):    \n",
    "    weekslist[i]['PeriodName']=week_periods_names[i]\n",
    "    weekslist[i]['Period']=getPeriodsWeekly(week_periods_names[i],0,2,'_')\n",
    "\n",
    "for i in range(len(monthslist)):    \n",
    "    monthslist[i]['PeriodName']=months_periods_names[i]  \n",
    "    monthslist[i]['Period']=getPeriods(months_periods_names[i],0,1,'_')\n",
    "\n",
    "for i in range(len(yearsList)):\n",
    "    yearsList[i]['PeriodName']=years_periods_names[i]  \n",
    "    yearsList[i]['Period']=getPeriods(years_periods_names[i],0,1,'_')"
   ]
  },
  {
   "cell_type": "markdown",
   "metadata": {},
   "source": [
    "### Functions"
   ]
  },
  {
   "cell_type": "code",
   "execution_count": null,
   "metadata": {},
   "outputs": [],
   "source": []
  },
  {
   "cell_type": "code",
   "execution_count": 26,
   "metadata": {},
   "outputs": [],
   "source": [
    "def get_data_for_agent(l_list,agentname,title):\n",
    "    data=[]\n",
    "    for i in l_list:\n",
    "        data.append(i.loc[i['AgentName']==agentname])\n",
    "    data_pd=pd.concat(data,sort='false')\n",
    "    data_pd=data_pd[['AgentName','PeriodName','Period','In-Ud-sum','Indgående Opkald per dag', 'Udgående Opkald per dag',\n",
    "    'Samtale (min) per Opkald',\n",
    "       'Aktiv/Klar (T) - Samlet per dag',\n",
    "       'Samtale (T) - per dag', 'Klar (T) - per dag',\n",
    "        'Administration (T) - per dag', 'Pause (T) - per dag',\n",
    "       'ikke klar (T) Andet - per dag' ]]\n",
    "    data_pd=data_pd.rename({'Indgående Opkald per dag': 'Indgaende-Opkald-per-dag'}, axis=1)\n",
    "    data_pd=data_pd.rename({'Udgående Opkald per dag': 'Udgaende-Opkald-per-dag'}, axis=1)\n",
    "    ag_name=agentname.split(' ')\n",
    "    #data_pd.to_csv(ag_name[0]+'_'+title+'_data.csv',index = True)\n",
    "    return data_pd"
   ]
  },
  {
   "cell_type": "code",
   "execution_count": 27,
   "metadata": {},
   "outputs": [],
   "source": [
    "def change_agent_name(oldname,newname):\n",
    "    data=[]\n",
    "    listOfList=[weekslist,monthslist,yearsList]\n",
    "    for i in listOfList:\n",
    "        for j in i:\n",
    "            j.loc[j['AgentName'] == oldname, 'AgentName'] = newname\n",
    "        #data.append(j)\n",
    "    #pd_data=pd.concat(data)\n",
    "    #return pd_data"
   ]
  },
  {
   "cell_type": "code",
   "execution_count": 28,
   "metadata": {},
   "outputs": [],
   "source": [
    "change_agent_name('Dina Larn Bonsvig',  'Dina Bonsvig')\n",
    "change_agent_name('Qillaq Thomas Moesgård','Qillaq Thomas Moesgaard')"
   ]
  },
  {
   "cell_type": "markdown",
   "metadata": {},
   "source": [
    "get_data_for_agent(weekslist,test_team[0],'Weekly')"
   ]
  },
  {
   "cell_type": "code",
   "execution_count": 29,
   "metadata": {},
   "outputs": [],
   "source": [
    "pie_data_coloumn=['AgentName','Period','PeriodName','Aktiv/Klar - Samtale','Aktiv/Klar - Klar','Aktiv/Klar - Admininistrativt','Ikke Klar - Pause','Ikke Klar - Andet']\n",
    "def get_pie_data(l_list,agentname,title):\n",
    "    data=[]\n",
    "    for i in l_list:\n",
    "        data.append(i.loc[i['AgentName']==agentname])\n",
    "    pd_data=pd.concat(data)\n",
    "    pd_data=pd_data[pie_data_coloumn]\n",
    "    ag_name=agentname.split(' ')\n",
    "    #pd_data.to_csv(ag_name[0]+'_piedata_'+title+'.csv',index = True)\n",
    "    return pd_data"
   ]
  },
  {
   "cell_type": "code",
   "execution_count": 30,
   "metadata": {},
   "outputs": [],
   "source": [
    "def get_all_data_for_agent(l_list,agentname,title):\n",
    "    data=[]\n",
    "    for i in l_list:\n",
    "        data.append(i.loc[i['AgentName']==agentname])\n",
    "    data_pd=pd.concat(data,sort='false')\n",
    "    data_pd=data_pd[['AgentName','PeriodName','Period','Indgående Opkald per dag', 'Udgående Opkald per dag',\n",
    "    'Samtale (min) per Opkald',\n",
    "       'Aktiv/Klar (T) - Samlet per dag',\n",
    "       'Samtale (T) - per dag', 'Klar (T) - per dag',\n",
    "        'Administration (T) - per dag', 'Pause (T) - per dag',\n",
    "       'ikke klar (T) Andet - per dag','Login-datoer','Login-timer / dag','In-Ud-sum',\n",
    "                     'Aktiv/Klar - Samtale','Aktiv/Klar - Klar','Aktiv/Klar - Admininistrativt','Ikke Klar - Pause','Ikke Klar - Andet' ]]\n",
    "    data_pd=data_pd.rename({'Indgående Opkald per dag': 'Indgaende-Opkald-per-dag'}, axis=1)\n",
    "    data_pd=data_pd.rename({'Udgående Opkald per dag': 'Udgaende-Opkald-per-dag'}, axis=1)\n",
    "    ag_name=agentname.split(' ')\n",
    "    data_pd.to_csv(ag_name[0]+'_'+title+'_data.csv',index = True)\n",
    "    return data_pd"
   ]
  },
  {
   "cell_type": "code",
   "execution_count": 31,
   "metadata": {},
   "outputs": [],
   "source": [
    "agentNamesList=['Hafsah Tasneem','Stephanie Dam','Inge Chan','Dina Bonsvig','Qillaq Thomas Moesgaard',]\n",
    "listOfList=[weekslist,monthslist,yearsList]\n",
    "titles=['All Weeks','All Months','All Years']"
   ]
  },
  {
   "cell_type": "code",
   "execution_count": 32,
   "metadata": {},
   "outputs": [],
   "source": [
    "ag=1\n",
    "for i in range(3):\n",
    "    dd=get_all_data_for_agent(listOfList[i],agentNamesList[ag],titles[i])"
   ]
  },
  {
   "cell_type": "code",
   "execution_count": 33,
   "metadata": {},
   "outputs": [
    {
     "data": {
      "text/html": [
       "<div>\n",
       "<style scoped>\n",
       "    .dataframe tbody tr th:only-of-type {\n",
       "        vertical-align: middle;\n",
       "    }\n",
       "\n",
       "    .dataframe tbody tr th {\n",
       "        vertical-align: top;\n",
       "    }\n",
       "\n",
       "    .dataframe thead th {\n",
       "        text-align: right;\n",
       "    }\n",
       "</style>\n",
       "<table border=\"1\" class=\"dataframe\">\n",
       "  <thead>\n",
       "    <tr style=\"text-align: right;\">\n",
       "      <th></th>\n",
       "      <th>AgentName</th>\n",
       "      <th>PeriodName</th>\n",
       "      <th>Period</th>\n",
       "      <th>Indgaende-Opkald-per-dag</th>\n",
       "      <th>Udgaende-Opkald-per-dag</th>\n",
       "      <th>Samtale (min) per Opkald</th>\n",
       "      <th>Aktiv/Klar (T) - Samlet per dag</th>\n",
       "      <th>Samtale (T) - per dag</th>\n",
       "      <th>Klar (T) - per dag</th>\n",
       "      <th>Administration (T) - per dag</th>\n",
       "      <th>Pause (T) - per dag</th>\n",
       "      <th>ikke klar (T) Andet - per dag</th>\n",
       "      <th>Login-datoer</th>\n",
       "      <th>Login-timer / dag</th>\n",
       "      <th>In-Ud-sum</th>\n",
       "      <th>Aktiv/Klar - Samtale</th>\n",
       "      <th>Aktiv/Klar - Klar</th>\n",
       "      <th>Aktiv/Klar - Admininistrativt</th>\n",
       "      <th>Ikke Klar - Pause</th>\n",
       "      <th>Ikke Klar - Andet</th>\n",
       "    </tr>\n",
       "  </thead>\n",
       "  <tbody>\n",
       "    <tr>\n",
       "      <td>54</td>\n",
       "      <td>Stephanie Dam</td>\n",
       "      <td>year_2019</td>\n",
       "      <td>Year 2019</td>\n",
       "      <td>41</td>\n",
       "      <td>1</td>\n",
       "      <td>3.2</td>\n",
       "      <td>5.1</td>\n",
       "      <td>2.2</td>\n",
       "      <td>2.6</td>\n",
       "      <td>0.3</td>\n",
       "      <td>0.7</td>\n",
       "      <td>0.4</td>\n",
       "      <td>10</td>\n",
       "      <td>6.4</td>\n",
       "      <td>42</td>\n",
       "      <td>34.0</td>\n",
       "      <td>41.0</td>\n",
       "      <td>4.0</td>\n",
       "      <td>11.0</td>\n",
       "      <td>7.0</td>\n",
       "    </tr>\n",
       "    <tr>\n",
       "      <td>42</td>\n",
       "      <td>Stephanie Dam</td>\n",
       "      <td>year_2020</td>\n",
       "      <td>Year 2020</td>\n",
       "      <td>76</td>\n",
       "      <td>6</td>\n",
       "      <td>2.4</td>\n",
       "      <td>6.3</td>\n",
       "      <td>3.3</td>\n",
       "      <td>2.7</td>\n",
       "      <td>0.4</td>\n",
       "      <td>0.9</td>\n",
       "      <td>0.4</td>\n",
       "      <td>107</td>\n",
       "      <td>7.8</td>\n",
       "      <td>82</td>\n",
       "      <td>42.0</td>\n",
       "      <td>34.0</td>\n",
       "      <td>5.0</td>\n",
       "      <td>11.0</td>\n",
       "      <td>5.0</td>\n",
       "    </tr>\n",
       "  </tbody>\n",
       "</table>\n",
       "</div>"
      ],
      "text/plain": [
       "        AgentName PeriodName     Period  Indgaende-Opkald-per-dag  \\\n",
       "54  Stephanie Dam  year_2019  Year 2019                        41   \n",
       "42  Stephanie Dam  year_2020  Year 2020                        76   \n",
       "\n",
       "    Udgaende-Opkald-per-dag  Samtale (min) per Opkald  \\\n",
       "54                        1                       3.2   \n",
       "42                        6                       2.4   \n",
       "\n",
       "    Aktiv/Klar (T) - Samlet per dag  Samtale (T) - per dag  \\\n",
       "54                              5.1                    2.2   \n",
       "42                              6.3                    3.3   \n",
       "\n",
       "    Klar (T) - per dag  Administration (T) - per dag  Pause (T) - per dag  \\\n",
       "54                 2.6                           0.3                  0.7   \n",
       "42                 2.7                           0.4                  0.9   \n",
       "\n",
       "    ikke klar (T) Andet - per dag  Login-datoer  Login-timer / dag  In-Ud-sum  \\\n",
       "54                            0.4            10                6.4         42   \n",
       "42                            0.4           107                7.8         82   \n",
       "\n",
       "    Aktiv/Klar - Samtale  Aktiv/Klar - Klar  Aktiv/Klar - Admininistrativt  \\\n",
       "54                  34.0               41.0                            4.0   \n",
       "42                  42.0               34.0                            5.0   \n",
       "\n",
       "    Ikke Klar - Pause  Ikke Klar - Andet  \n",
       "54               11.0                7.0  \n",
       "42               11.0                5.0  "
      ]
     },
     "execution_count": 33,
     "metadata": {},
     "output_type": "execute_result"
    }
   ],
   "source": [
    "dd"
   ]
  },
  {
   "cell_type": "code",
   "execution_count": 34,
   "metadata": {},
   "outputs": [],
   "source": [
    "#dd=get_all_data_for_agent(monthslist,'Stefan Koch Jacobsen','All Weeks')\n",
    "#dd=get_all_data_for_agent(weekslist,'Stephanie Dam','All Weeks')\n",
    "#dd=get_all_data_for_agent(monthslist,'Inge Chan','All Weeks')\n",
    "#dd=get_all_data_for_agent(weekslist,'Hafsah Tasneem','All Weeks')\n",
    "#dd=get_all_data_for_agent(weekslist,'Qillaq Thomas Moesgaard','All Months')\n"
   ]
  },
  {
   "cell_type": "code",
   "execution_count": 36,
   "metadata": {},
   "outputs": [
    {
     "data": {
      "text/html": [
       "<div>\n",
       "<style scoped>\n",
       "    .dataframe tbody tr th:only-of-type {\n",
       "        vertical-align: middle;\n",
       "    }\n",
       "\n",
       "    .dataframe tbody tr th {\n",
       "        vertical-align: top;\n",
       "    }\n",
       "\n",
       "    .dataframe thead th {\n",
       "        text-align: right;\n",
       "    }\n",
       "</style>\n",
       "<table border=\"1\" class=\"dataframe\">\n",
       "  <thead>\n",
       "    <tr style=\"text-align: right;\">\n",
       "      <th></th>\n",
       "      <th>Period</th>\n",
       "      <th>Indgaende-Opkald-per-dag</th>\n",
       "    </tr>\n",
       "  </thead>\n",
       "  <tbody>\n",
       "    <tr>\n",
       "      <td>54</td>\n",
       "      <td>Year 2019</td>\n",
       "      <td>41</td>\n",
       "    </tr>\n",
       "    <tr>\n",
       "      <td>42</td>\n",
       "      <td>Year 2020</td>\n",
       "      <td>76</td>\n",
       "    </tr>\n",
       "  </tbody>\n",
       "</table>\n",
       "</div>"
      ],
      "text/plain": [
       "       Period  Indgaende-Opkald-per-dag\n",
       "54  Year 2019                        41\n",
       "42  Year 2020                        76"
      ]
     },
     "execution_count": 36,
     "metadata": {},
     "output_type": "execute_result"
    }
   ],
   "source": [
    "dd[['Period','Indgaende-Opkald-per-dag']]"
   ]
  },
  {
   "cell_type": "code",
   "execution_count": null,
   "metadata": {},
   "outputs": [],
   "source": []
  }
 ],
 "metadata": {
  "kernelspec": {
   "display_name": "Python 3",
   "language": "python",
   "name": "python3"
  },
  "language_info": {
   "codemirror_mode": {
    "name": "ipython",
    "version": 3
   },
   "file_extension": ".py",
   "mimetype": "text/x-python",
   "name": "python",
   "nbconvert_exporter": "python",
   "pygments_lexer": "ipython3",
   "version": "3.7.4"
  }
 },
 "nbformat": 4,
 "nbformat_minor": 2
}
