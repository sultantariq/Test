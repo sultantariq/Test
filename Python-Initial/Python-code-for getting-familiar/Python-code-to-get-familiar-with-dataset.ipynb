{
 "cells": [
  {
   "cell_type": "code",
   "execution_count": 1,
   "metadata": {},
   "outputs": [],
   "source": [
    "%matplotlib inline  "
   ]
  },
  {
   "cell_type": "code",
   "execution_count": 2,
   "metadata": {},
   "outputs": [],
   "source": [
    "import math\n",
    "import numpy as np\n",
    "import pandas as pd\n",
    "import matplotlib.pyplot as plt\n",
    "from matplotlib.pyplot import figure\n",
    "import ipywidgets as widgets  \n",
    "import itertools\n",
    "import inspect\n",
    "from IPython.display import display\n"
   ]
  },
  {
   "cell_type": "code",
   "execution_count": 3,
   "metadata": {},
   "outputs": [],
   "source": [
    "phy_therapist=['Lars Ulrik Pedersen',\n",
    "'Anne Sylvester Walters',\n",
    "'Jacob Carsting',\n",
    "'Ida Lundager Kraaer',\n",
    "'Jesper Jin Leen Larsen',\n",
    "'Anders Kjærulff Møller',\n",
    "'Niklas Dunker Gammelmark',\n",
    "'Stefan Koch Jacobsen']\n",
    "\n",
    "bk_assistant=['Linda Wichmann',\n",
    "'Qillaq Thomas Moesgaard',\n",
    "'Bente Stigborg',\n",
    "'Marie-Louise Fugl Madsen', \n",
    "'Natascha Jensen Dresler',\n",
    "'Dina Larn Bonsvig',\n",
    "'Markus Kochendorff Støvring',\n",
    "'Hafsah Tasneem',\n",
    "'Kristina Halvorseth',\n",
    "'Stephanie Dam',\n",
    "'Gitte Larsen',\n",
    "'Nicolai Linnemann',\n",
    "'Maria Fleischer',\n",
    "'Mia Douglas',\n",
    "'Elizabeth Jeppesen',\n",
    "'Marianne Brandt',\n",
    "'Lone Bruun Houmøller']\n",
    "\n",
    "morning_team=['Mia Douglas','Marianne Brandt','Elizabeth Jeppesen']\n",
    "\n",
    "\n"
   ]
  },
  {
   "cell_type": "code",
   "execution_count": 4,
   "metadata": {},
   "outputs": [],
   "source": [
    "ag_names=widgets.Dropdown(\n",
    "    options=['Stephanie Dam','Hafsah Tasneem','Jesper Jin Leen Larsen','Anne Sylvester Walters','Linda Wichmann'],\n",
    "    value='Stephanie Dam',\n",
    "    description='Agents',\n",
    "    disabled=False,\n",
    ")\n",
    "\n",
    "select_att=widgets.Dropdown(\n",
    "    options=['Login-timer / dag','Indgående Opkald per dag','Udgående Opkald per dag','Tabte Opkald per dag', 'Samtale (min) per Opkald',\n",
    "       'Aktiv/Klar (T) - Samlet per dag', \n",
    "       'Samtale (T) - per dag', 'Klar (T) - per dag',\n",
    "        'Administration (T) - per dag',\n",
    "        'Pause (T) - per dag',\n",
    "        'ikke klar (T) Andet - per dag',\n",
    "        'Ukendt/Andet (T) - per dag'],\n",
    "    value='Login-timer / dag',\n",
    "    description='Attributes',\n",
    "    disabled=False,\n",
    ")\n",
    "\n",
    "select_index=widgets.Dropdown(\n",
    "    options=['Weekly','Monthly'],\n",
    "    value='Weekly',\n",
    "    description='Select Weekly or Monthly comparion',\n",
    "    disabled=False,\n",
    ")"
   ]
  },
  {
   "cell_type": "code",
   "execution_count": 5,
   "metadata": {},
   "outputs": [
    {
     "data": {
      "application/vnd.jupyter.widget-view+json": {
       "model_id": "50bb07eedd1c45bbb65e2f6c51b72c46",
       "version_major": 2,
       "version_minor": 0
      },
      "text/plain": [
       "Dropdown(description='Agents', options=('Stephanie Dam', 'Hafsah Tasneem', 'Jesper Jin Leen Larsen', 'Anne Syl…"
      ]
     },
     "metadata": {},
     "output_type": "display_data"
    }
   ],
   "source": [
    "ag_names"
   ]
  },
  {
   "cell_type": "code",
   "execution_count": 6,
   "metadata": {},
   "outputs": [],
   "source": [
    "percentages= ['Aktiv/Klar - Samtale','Aktiv/Klar - Klar','Aktiv/Klar - Admininistrativt','Ikke Klar - Pause','Ikke Klar - Andet']\n",
    "col_list=['Login-timer / dag','Tabte Opkald per dag', 'Samtale (min) per Opkald',\n",
    "       'Aktiv/Klar (T) - Samlet per dag', \n",
    "       'Samtale (T) - per dag', 'Klar (T) - per dag',\n",
    "        'Administration (T) - per dag',\n",
    "        'Pause (T) - per dag',\n",
    "        'ikke klar (T) Andet - per dag',\n",
    "        'Ukendt/Andet (T) - per dag']\n",
    "float_col_list=col_list+percentages\n",
    "def remove_percentages_and_change_to_float_add_coloumn(df):\n",
    "   \n",
    "    for i in percentages:\n",
    "        df[i]=list(map(lambda x: x[:-1], df[i].values))\n",
    "    df[float_col_list]=df[float_col_list].astype(float)\n",
    "    df['In-Ud sum']=df['Indgående Opkald per dag'] + df['Udgående Opkald per dag']"
   ]
  },
  {
   "cell_type": "code",
   "execution_count": 7,
   "metadata": {},
   "outputs": [],
   "source": [
    "def retrieve_name(var):\n",
    "    callers_local_vars = inspect.currentframe().f_back.f_locals.items()\n",
    "    return [var_name for var_name, var_val in callers_local_vars if var_val is var]\n",
    "#for i in weekslist:\n",
    " #   i['Period']=retrieve_name(i)[0]"
   ]
  },
  {
   "cell_type": "markdown",
   "metadata": {},
   "source": [
    "###Removing % signs from data\n",
    "\n",
    "percentages= ['Aktiv/Klar - Samtale','Aktiv/Klar - Klar','Aktiv/Klar - Admininistrativt','Ikke Klar - Pause','Ikke Klar - Andet']\n",
    "def remove_percentages_and_to_float(df):\n",
    "    for i in percentages:\n",
    "        df[i]=list(map(lambda x: x[:-1], df[i].values))\n",
    "        df[i]=df[i].astype(float)\n",
    "        "
   ]
  },
  {
   "cell_type": "code",
   "execution_count": 8,
   "metadata": {},
   "outputs": [
    {
     "data": {
      "text/html": [
       "<div>\n",
       "<style scoped>\n",
       "    .dataframe tbody tr th:only-of-type {\n",
       "        vertical-align: middle;\n",
       "    }\n",
       "\n",
       "    .dataframe tbody tr th {\n",
       "        vertical-align: top;\n",
       "    }\n",
       "\n",
       "    .dataframe thead th {\n",
       "        text-align: right;\n",
       "    }\n",
       "</style>\n",
       "<table border=\"1\" class=\"dataframe\">\n",
       "  <thead>\n",
       "    <tr style=\"text-align: right;\">\n",
       "      <th></th>\n",
       "      <th>AgentName</th>\n",
       "      <th>Login-datoer</th>\n",
       "      <th>Login-timer / dag</th>\n",
       "      <th>Indgående Opkald per dag</th>\n",
       "      <th>Udgående Opkald per dag</th>\n",
       "      <th>Tabte Opkald per dag</th>\n",
       "      <th>Samtale (min) per Opkald</th>\n",
       "      <th>Aktiv/Klar (T) - Samlet per dag</th>\n",
       "      <th>Aktiv/Klar - Samlet</th>\n",
       "      <th>Samtale (T) - per dag</th>\n",
       "      <th>...</th>\n",
       "      <th>Aktiv/Klar - Klar</th>\n",
       "      <th>Administration (T) - per dag</th>\n",
       "      <th>Aktiv/Klar - Admininistrativt</th>\n",
       "      <th>Pause (T) - per dag</th>\n",
       "      <th>Ikke Klar - Pause</th>\n",
       "      <th>ikke klar (T) Andet - per dag</th>\n",
       "      <th>Ikke Klar - Andet</th>\n",
       "      <th>Ukendt/Andet (T) - per dag</th>\n",
       "      <th>In-Ud sum</th>\n",
       "      <th>Period</th>\n",
       "    </tr>\n",
       "  </thead>\n",
       "  <tbody>\n",
       "    <tr>\n",
       "      <td>0</td>\n",
       "      <td>Stephanie Dam</td>\n",
       "      <td>2</td>\n",
       "      <td>8.5</td>\n",
       "      <td>92</td>\n",
       "      <td>5</td>\n",
       "      <td>0.0</td>\n",
       "      <td>2.7</td>\n",
       "      <td>7.1</td>\n",
       "      <td>83 %</td>\n",
       "      <td>4.3</td>\n",
       "      <td>...</td>\n",
       "      <td>30.0</td>\n",
       "      <td>0.2</td>\n",
       "      <td>2.0</td>\n",
       "      <td>0.9</td>\n",
       "      <td>11.0</td>\n",
       "      <td>0.2</td>\n",
       "      <td>5.0</td>\n",
       "      <td>0.3</td>\n",
       "      <td>97</td>\n",
       "      <td>feb_w1</td>\n",
       "    </tr>\n",
       "    <tr>\n",
       "      <td>1</td>\n",
       "      <td>Linda Wichmann</td>\n",
       "      <td>2</td>\n",
       "      <td>7.9</td>\n",
       "      <td>87</td>\n",
       "      <td>1</td>\n",
       "      <td>2.5</td>\n",
       "      <td>2.0</td>\n",
       "      <td>5.5</td>\n",
       "      <td>70 %</td>\n",
       "      <td>2.9</td>\n",
       "      <td>...</td>\n",
       "      <td>24.0</td>\n",
       "      <td>0.7</td>\n",
       "      <td>8.0</td>\n",
       "      <td>1.0</td>\n",
       "      <td>13.0</td>\n",
       "      <td>1.0</td>\n",
       "      <td>4.0</td>\n",
       "      <td>0.4</td>\n",
       "      <td>88</td>\n",
       "      <td>feb_w1</td>\n",
       "    </tr>\n",
       "    <tr>\n",
       "      <td>2</td>\n",
       "      <td>Natascha Jensen Dresler</td>\n",
       "      <td>2</td>\n",
       "      <td>9.0</td>\n",
       "      <td>84</td>\n",
       "      <td>12</td>\n",
       "      <td>1.0</td>\n",
       "      <td>1.7</td>\n",
       "      <td>6.1</td>\n",
       "      <td>68 %</td>\n",
       "      <td>2.7</td>\n",
       "      <td>...</td>\n",
       "      <td>27.0</td>\n",
       "      <td>1.0</td>\n",
       "      <td>11.0</td>\n",
       "      <td>1.1</td>\n",
       "      <td>13.0</td>\n",
       "      <td>1.5</td>\n",
       "      <td>2.0</td>\n",
       "      <td>0.2</td>\n",
       "      <td>96</td>\n",
       "      <td>feb_w1</td>\n",
       "    </tr>\n",
       "    <tr>\n",
       "      <td>3</td>\n",
       "      <td>Gitte Larsen</td>\n",
       "      <td>2</td>\n",
       "      <td>8.5</td>\n",
       "      <td>79</td>\n",
       "      <td>5</td>\n",
       "      <td>0.5</td>\n",
       "      <td>3.2</td>\n",
       "      <td>7.4</td>\n",
       "      <td>87 %</td>\n",
       "      <td>4.5</td>\n",
       "      <td>...</td>\n",
       "      <td>20.0</td>\n",
       "      <td>1.2</td>\n",
       "      <td>14.0</td>\n",
       "      <td>0.6</td>\n",
       "      <td>7.0</td>\n",
       "      <td>0.3</td>\n",
       "      <td>3.0</td>\n",
       "      <td>0.3</td>\n",
       "      <td>84</td>\n",
       "      <td>feb_w1</td>\n",
       "    </tr>\n",
       "    <tr>\n",
       "      <td>4</td>\n",
       "      <td>Elizabeth Jeppesen</td>\n",
       "      <td>2</td>\n",
       "      <td>8.1</td>\n",
       "      <td>72</td>\n",
       "      <td>13</td>\n",
       "      <td>0.5</td>\n",
       "      <td>2.7</td>\n",
       "      <td>6.8</td>\n",
       "      <td>83 %</td>\n",
       "      <td>3.8</td>\n",
       "      <td>...</td>\n",
       "      <td>23.0</td>\n",
       "      <td>1.1</td>\n",
       "      <td>13.0</td>\n",
       "      <td>0.5</td>\n",
       "      <td>6.0</td>\n",
       "      <td>0.7</td>\n",
       "      <td>1.0</td>\n",
       "      <td>0.1</td>\n",
       "      <td>85</td>\n",
       "      <td>feb_w1</td>\n",
       "    </tr>\n",
       "  </tbody>\n",
       "</table>\n",
       "<p>5 rows × 22 columns</p>\n",
       "</div>"
      ],
      "text/plain": [
       "                 AgentName  Login-datoer  Login-timer / dag  \\\n",
       "0            Stephanie Dam             2                8.5   \n",
       "1           Linda Wichmann             2                7.9   \n",
       "2  Natascha Jensen Dresler             2                9.0   \n",
       "3             Gitte Larsen             2                8.5   \n",
       "4       Elizabeth Jeppesen             2                8.1   \n",
       "\n",
       "   Indgående Opkald per dag  Udgående Opkald per dag  Tabte Opkald per dag  \\\n",
       "0                        92                        5                   0.0   \n",
       "1                        87                        1                   2.5   \n",
       "2                        84                       12                   1.0   \n",
       "3                        79                        5                   0.5   \n",
       "4                        72                       13                   0.5   \n",
       "\n",
       "   Samtale (min) per Opkald  Aktiv/Klar (T) - Samlet per dag  \\\n",
       "0                       2.7                              7.1   \n",
       "1                       2.0                              5.5   \n",
       "2                       1.7                              6.1   \n",
       "3                       3.2                              7.4   \n",
       "4                       2.7                              6.8   \n",
       "\n",
       "  Aktiv/Klar - Samlet  Samtale (T) - per dag  ...  Aktiv/Klar - Klar  \\\n",
       "0                83 %                    4.3  ...               30.0   \n",
       "1                70 %                    2.9  ...               24.0   \n",
       "2                68 %                    2.7  ...               27.0   \n",
       "3                87 %                    4.5  ...               20.0   \n",
       "4                83 %                    3.8  ...               23.0   \n",
       "\n",
       "   Administration (T) - per dag  Aktiv/Klar - Admininistrativt  \\\n",
       "0                           0.2                            2.0   \n",
       "1                           0.7                            8.0   \n",
       "2                           1.0                           11.0   \n",
       "3                           1.2                           14.0   \n",
       "4                           1.1                           13.0   \n",
       "\n",
       "   Pause (T) - per dag  Ikke Klar - Pause  ikke klar (T) Andet - per dag  \\\n",
       "0                  0.9               11.0                            0.2   \n",
       "1                  1.0               13.0                            1.0   \n",
       "2                  1.1               13.0                            1.5   \n",
       "3                  0.6                7.0                            0.3   \n",
       "4                  0.5                6.0                            0.7   \n",
       "\n",
       "   Ikke Klar - Andet  Ukendt/Andet (T) - per dag  In-Ud sum  Period  \n",
       "0                5.0                         0.3         97  feb_w1  \n",
       "1                4.0                         0.4         88  feb_w1  \n",
       "2                2.0                         0.2         96  feb_w1  \n",
       "3                3.0                         0.3         84  feb_w1  \n",
       "4                1.0                         0.1         85  feb_w1  \n",
       "\n",
       "[5 rows x 22 columns]"
      ]
     },
     "execution_count": 8,
     "metadata": {},
     "output_type": "execute_result"
    }
   ],
   "source": [
    "jan_w1=pd.read_csv(\"jan_1.csv\", sep=',',decimal=\".\")\n",
    "jan_w2=pd.read_csv(\"jan_2.csv\", sep=',',decimal=\".\")\n",
    "jan_w3=pd.read_csv(\"jan_3.csv\", sep=',',decimal=\".\")\n",
    "jan_w4=pd.read_csv(\"jan_4.csv\", sep=',',decimal=\".\")\n",
    "jan_w5=pd.read_csv(\"jan_5.csv\", sep=',',decimal=\".\")\n",
    "feb_w1=pd.read_csv(\"feb_week1.csv\", sep=',',decimal=\",\")\n",
    "feb_w2=pd.read_csv(\"feb_week2.csv\", sep=',',decimal=\",\")\n",
    "feb_w3=pd.read_csv(\"feb_week3.csv\", sep=',',decimal=\",\")\n",
    "Oct2019=pd.read_csv(\"October.csv\", sep=',',decimal=\",\")\n",
    "Nov2019=pd.read_csv(\"November.csv\", sep=',',decimal=\",\")\n",
    "Dec2019=pd.read_csv(\"December.csv\", sep=',',decimal=\",\")\n",
    "Jan2020=pd.read_csv(\"January_2020.csv\", sep=',',decimal=\",\")\n",
    "Feb2020=pd.read_csv(\"Feburary_2020.csv\", sep=',',decimal=\",\")\n",
    "March2020=pd.read_csv(\"March_2020.csv\", sep=',',decimal=\",\")\n",
    "April2020=pd.read_csv(\"April_2020.csv\", sep=',',decimal=\",\")\n",
    "#download new file when June starts\n",
    "May2020=pd.read_csv(\"May_2020.csv\", sep=',',decimal=\",\")\n",
    "bonus_1st= pd.read_csv(\"Bonus_1st_Quarter.csv\", sep=',',decimal=\",\")\n",
    "\n",
    "#Update the file\n",
    "bonus_2nd= pd.read_csv(\"Bonus_2nd_Quarter_incomplete.csv\", sep=',',decimal=\",\")\n",
    "tempweekslist=[feb_w1,feb_w2,feb_w3]\n",
    "#tempweekslist=[jan_w1,jan_w2,jan_w3,jan_w4,jan_w5,feb_w1,feb_w2,feb_w3]\n",
    "tempmonthlist=[Oct2019,Nov2019,Dec2019,Jan2020,Feb2020,March2020,April2020,May2020]\n",
    "\n",
    "for i in tempweekslist:\n",
    "    remove_percentages_and_change_to_float_add_coloumn(i)\n",
    "    i['Period']=retrieve_name(i)[0]\n",
    "for i in tempmonthlist:\n",
    "    remove_percentages_and_change_to_float_add_coloumn(i)\n",
    "    i['Period']=retrieve_name(i)[0]\n",
    "    \n",
    "remove_percentages_and_change_to_float_add_coloumn(bonus_1st)\n",
    "remove_percentages_and_change_to_float_add_coloumn(bonus_2nd)\n",
    "bonus_1st['Period']='Jan2020-March2020'\n",
    "bonus_2nd['Period']='April2020-June2020'                       \n",
    "\n",
    "#remove_percentages_and_change_to_float_add_coloumn(dec1)\n",
    "#remove_percentages_and_change_to_float_add_coloumn(dec2)\n",
    "#remove_percentages_and_change_to_float_add_coloumn(dec3)\n",
    "#remove_percentages_and_change_to_float_add_coloumn(dec4)\n",
    "#remove_percentages_and_change_to_float_add_coloumn(dec5)\n",
    "#remove_percentages_and_change_to_float_add_coloumn(feb1)\n",
    "#remove_percentages_and_change_to_float_add_coloumn(feb2)\n",
    "#remove_percentages_and_change_to_float_add_coloumn(feb3)\n",
    "#remove_percentages_and_change_to_float_add_coloumn(Oct2019)\n",
    "#remove_percentages_and_change_to_float_add_coloumn(Nov2019)\n",
    "#remove_percentages_and_change_to_float_add_coloumn(Dec2019)\n",
    "#remove_percentages_and_change_to_float_add_coloumn(Jan2020)\n",
    "#remove_percentages_and_change_to_float_add_coloumn(Feb2020)\n",
    "\n",
    "\n",
    "monthsList=[Oct2019,Nov2019,Dec2019,Jan2020,Feb2020,March2020,April2020,May2020]\n",
    "weekslist=[jan_w1,jan_w2,jan_w3,jan_w4,jan_w5,feb_w1,feb_w2,feb_w3]\n",
    "weekly_index = ['Jan-Week 1', 'Week 2', 'Week 3','Week 4','Week 5','Feb-Week 1','Week 2','Week 3']\n",
    "monthly_index=  ['Oct 2019','Nov 2019', 'Dec 2019', 'Jan 2020','Feb 2020','March2020','April2020','May2020']\n",
    "bonuslist=[Jan2020,Feb2020,March2020] \n",
    "bonuslist2=[April2020,May2020] #add June when data is available\n",
    "feb_w1.head()"
   ]
  },
  {
   "cell_type": "code",
   "execution_count": 9,
   "metadata": {},
   "outputs": [],
   "source": [
    "temp=[jan_w1,jan_w2,jan_w3,jan_w4,jan_w5]"
   ]
  },
  {
   "cell_type": "code",
   "execution_count": null,
   "metadata": {},
   "outputs": [],
   "source": []
  },
  {
   "cell_type": "markdown",
   "metadata": {},
   "source": [
    "# Pie Chart for agents"
   ]
  },
  {
   "cell_type": "code",
   "execution_count": 10,
   "metadata": {},
   "outputs": [
    {
     "data": {
      "application/vnd.jupyter.widget-view+json": {
       "model_id": "50bb07eedd1c45bbb65e2f6c51b72c46",
       "version_major": 2,
       "version_minor": 0
      },
      "text/plain": [
       "Dropdown(description='Agents', options=('Stephanie Dam', 'Hafsah Tasneem', 'Jesper Jin Leen Larsen', 'Anne Syl…"
      ]
     },
     "metadata": {},
     "output_type": "display_data"
    }
   ],
   "source": [
    "ag_names"
   ]
  },
  {
   "cell_type": "code",
   "execution_count": 11,
   "metadata": {},
   "outputs": [
    {
     "data": {
      "image/png": "[encoded data removed]",
      "text/plain": [
       "<Figure size 1080x720 with 1 Axes>"
      ]
     },
     "metadata": {},
     "output_type": "display_data"
    }
   ],
   "source": [
    "\n",
    "def get_pie_chart(df,ag_names, title):\n",
    "    agentname=ag_names.value\n",
    "    ag_per=['AgentName','Aktiv/Klar - Samtale','Aktiv/Klar - Klar','Aktiv/Klar - Admininistrativt','Ikke Klar - Pause','Ikke Klar - Andet']\n",
    "    temp1=df[ag_per]\n",
    "    temp2=temp1.loc[temp1['AgentName']==agentname]\n",
    "    temp3=temp2.transpose()\n",
    "    sizes=temp3[1:].iloc[:, 0].tolist()\n",
    "    sizes = list(map(int, sizes))\n",
    "    y=temp3.columns.to_list()\n",
    "    #print(temp3)\n",
    "    temp3[1:].plot.pie(y=y,figsize=(15, 10))\n",
    "    plt.pie(sizes, autopct='%3.0f%%', #pctdistance=1.2, labeldistance=1.87,radius=1.35,explode=explode,\n",
    "        shadow=True)\n",
    "    plt.legend(loc='upper left')\n",
    "    plt.title(agentname +' - ' +title)\n",
    "    plt.savefig(agentname+' '+title)\n",
    "    plt.show()\n",
    "\n",
    "get_pie_chart(Feb2020,ag_names, 'Feb 2020')   "
   ]
  },
  {
   "cell_type": "markdown",
   "metadata": {},
   "source": [
    "# Self comparison"
   ]
  },
  {
   "cell_type": "code",
   "execution_count": 12,
   "metadata": {},
   "outputs": [],
   "source": [
    "import ipywidgets as widgets"
   ]
  },
  {
   "cell_type": "code",
   "execution_count": 13,
   "metadata": {},
   "outputs": [],
   "source": [
    "select_att=widgets.Dropdown(\n",
    "    options=['Login-timer / dag','Indgående Opkald per dag','Udgående Opkald per dag','Tabte Opkald per dag', 'Samtale (min) per Opkald',\n",
    "       'Aktiv/Klar (T) - Samlet per dag', \n",
    "       'Samtale (T) - per dag', 'Klar (T) - per dag',\n",
    "        'Administration (T) - per dag',\n",
    "        'Pause (T) - per dag',\n",
    "        'ikke klar (T) Andet - per dag',\n",
    "        'Ukendt/Andet (T) - per dag'],\n",
    "    value='Login-timer / dag',\n",
    "    description='Attributes',\n",
    "    disabled=False,\n",
    ")\n",
    "\n",
    "def get_all_data_for_agent(df):\n",
    "    temp= df.loc[df['AgentName']==agentname]\n",
    "    return temp\n",
    "\n",
    "def get_att_data_for_agent(df,agentname,att):\n",
    "    temp= df.loc[df['AgentName']==agentname]\n",
    "    ag_att=temp.iloc[0][att]\n",
    "    return ag_att\n",
    "\n",
    "def get_inbound_outbound(df,agentname):\n",
    "    temp= df.loc[df['AgentName']==agentname]\n",
    "    if temp.empty:\n",
    "        count=0\n",
    "    else:\n",
    "        inbound=temp.iloc[0]['Indgående Opkald per dag']\n",
    "        outbound=temp.iloc[0]['Udgående Opkald per dag']\n",
    "        count=inbound+outbound\n",
    "    return count"
   ]
  },
  {
   "cell_type": "code",
   "execution_count": 14,
   "metadata": {},
   "outputs": [
    {
     "data": {
      "application/vnd.jupyter.widget-view+json": {
       "model_id": "50bb07eedd1c45bbb65e2f6c51b72c46",
       "version_major": 2,
       "version_minor": 0
      },
      "text/plain": [
       "Dropdown(description='Agents', options=('Stephanie Dam', 'Hafsah Tasneem', 'Jesper Jin Leen Larsen', 'Anne Syl…"
      ]
     },
     "metadata": {},
     "output_type": "display_data"
    }
   ],
   "source": [
    "ag_names"
   ]
  },
  {
   "cell_type": "code",
   "execution_count": 15,
   "metadata": {
    "scrolled": true
   },
   "outputs": [
    {
     "data": {
      "application/vnd.jupyter.widget-view+json": {
       "model_id": "fb924d6ff07941dba0394b6af7b13cc2",
       "version_major": 2,
       "version_minor": 0
      },
      "text/plain": [
       "Dropdown(description='Attributes', options=('Login-timer / dag', 'Indgående Opkald per dag', 'Udgående Opkald …"
      ]
     },
     "metadata": {},
     "output_type": "display_data"
    }
   ],
   "source": [
    "select_att"
   ]
  },
  {
   "cell_type": "code",
   "execution_count": 16,
   "metadata": {
    "scrolled": false
   },
   "outputs": [
    {
     "data": {
      "image/png": "[encoded data removed]",
      "text/plain": [
       "<Figure size 648x504 with 1 Axes>"
      ]
     },
     "metadata": {
      "needs_background": "light"
     },
     "output_type": "display_data"
    }
   ],
   "source": [
    "att=select_att.value\n",
    "agentname=ag_names.value\n",
    "Agent_attribute_data = [get_att_data_for_agent(jan_w1,agentname,att),get_att_data_for_agent(jan_w2,agentname,att),get_att_data_for_agent(jan_w3,agentname,att),get_att_data_for_agent(jan_w4,agentname,att)]\n",
    "\n",
    "def give_comparison():\n",
    "    index = ['Week 1', 'Week 2', 'Week 3','Week 4']\n",
    "    data = pd.DataFrame({'January Average '+att: Agent_attribute_data, }, index=index)\n",
    "    ax = data.plot(kind='bar', figsize=(9,7),\n",
    "                                                  fontsize=13);\n",
    "    ax.set_alpha(0.8)\n",
    "    ax.set_title(agentname+\"'s weekly comparison for average \"+att, fontsize=18)\n",
    "    for i in ax.patches:\n",
    "    # get_x pulls left or right; get_height pushes up or down\n",
    "        if i.get_height() <= 0.5:\n",
    "            ax.text(i.get_x()+.1, i.get_height()-.09, \\\n",
    "            str(((i.get_height()))), fontsize=12,\n",
    "                color='white')\n",
    "        elif i.get_height() >= 10:\n",
    "            ax.text(i.get_x()+.1, i.get_height()-5, \\\n",
    "            str(((i.get_height()))), fontsize=12,\n",
    "                color='white')\n",
    "        else:\n",
    "             ax.text(i.get_x()+.1, i.get_height()-.5, \\\n",
    "            str(((i.get_height()))), fontsize=13,\n",
    "                color='white')\n",
    "\n",
    "give_comparison()"
   ]
  },
  {
   "cell_type": "code",
   "execution_count": 17,
   "metadata": {},
   "outputs": [],
   "source": [
    "\n",
    "def give_comparison_in_outbound(Agent_inbound_outbound,index,title,legend,agentname):\n",
    "\n",
    "    data = pd.DataFrame({legend: Agent_inbound_outbound, }, index=index)\n",
    "    ax = data.plot(kind='bar', figsize=(9,7), fontsize=13);\n",
    "    ax.set_alpha(0.8)\n",
    "    ax.set_title(agentname + title, fontsize=18)\n",
    "    \n",
    "    color='white'  \n",
    "    \n",
    "    for i in ax.patches:\n",
    "        if(agentname in bk_assistant):\n",
    "            if (i.get_height() < 75):\n",
    "                color='red'\n",
    "            else:\n",
    "                color= 'white'\n",
    "        elif (agentname in phy_therapist):\n",
    "            if i.get_height() < 40:\n",
    "                color='red'\n",
    "            else:\n",
    "                color='white'\n",
    "    # get_x pulls left or right; get_height pushes up or down\n",
    "        if i.get_height() <= 0.5:\n",
    "            ax.text(i.get_x()+.1, i.get_height()-.09, \\\n",
    "            str(((i.get_height()))), fontsize=12,\n",
    "                color=color)\n",
    "\n",
    "        elif i.get_height() >= 10:\n",
    "            ax.text(i.get_x()+.1, i.get_height()-5, \\\n",
    "            str(((i.get_height()))), fontsize=12,\n",
    "                color=color)\n",
    "        \n",
    "\n",
    "        else:\n",
    "             ax.text(i.get_x()+.1, i.get_height()-.5, \\\n",
    "            str(((i.get_height()))), fontsize=13,\n",
    "                color=color)\n",
    "    plt.savefig(agentname+title)\n",
    "    plt.show()\n",
    "    \n",
    "def give_comparison_adm_hour(Agent_inbound_outbound,index,title,legend,agentname):\n",
    "    \n",
    "    data = pd.DataFrame({legend: Agent_inbound_outbound, }, index=index)\n",
    "    ax = data.plot(kind='bar', figsize=(9,7),\n",
    "                                                  fontsize=13);\n",
    "    ax.set_alpha(0.8)\n",
    "    ax.set_title(agentname + title, fontsize=18)\n",
    "    \n",
    "    color='white'  \n",
    "    for i in ax.patches:\n",
    "    # get_x pulls left or right; get_height pushes up or down\n",
    "        if i.get_height() <= 0.5:\n",
    "            ax.text(i.get_x()+.1, i.get_height()-.09, \\\n",
    "            str(((i.get_height()))), fontsize=12,\n",
    "                color=color)\n",
    "        elif i.get_height() >= 10:\n",
    "            ax.text(i.get_x()+.1, i.get_height()-5, \\\n",
    "            str(((i.get_height()))), fontsize=12,\n",
    "                color=color)\n",
    "        else:\n",
    "             ax.text(i.get_x()+.1, i.get_height()-.5, \\\n",
    "            str(((i.get_height()))), fontsize=13,\n",
    "                color=color)\n",
    "    plt.savefig(agentname+title)\n",
    "    plt.show()\n",
    " "
   ]
  },
  {
   "cell_type": "code",
   "execution_count": 18,
   "metadata": {},
   "outputs": [],
   "source": [
    "def give_comparison_in_outbound_v2(Agent_inbound_outbound,index,title,legends,agentname):\n",
    "    \n",
    "    if agentname in bk_assistant:\n",
    "        KPI=75\n",
    "    else:\n",
    "        KPI=40\n",
    "   \n",
    "    #data = pd.DataFrame({legend: Agent_inbound_outbound, }, index=index)\n",
    "\n",
    "    clrs = ['red' if (x < KPI) else 'blue' for x in Agent_inbound_outbound ]\n",
    "\n",
    "    plt.figure(figsize=(9,7))\n",
    "    plt.bar(index, Agent_inbound_outbound, color=clrs)\n",
    "    #plt.xticks(y_pos, bars)\n",
    "    for i in range(len(Agent_inbound_outbound)):\n",
    "        plt.text(i,Agent_inbound_outbound[i]-5,Agent_inbound_outbound[i],fontsize=18, color='white')\n",
    "    plt.title(agentname + title, fontsize=18)\n",
    "    plt.legend([legends])\n",
    "    plt.savefig(agentname+title)\n",
    "    plt.show()"
   ]
  },
  {
   "cell_type": "markdown",
   "metadata": {},
   "source": [
    "## Sum of inbound/outbound and weekly comparison"
   ]
  },
  {
   "cell_type": "code",
   "execution_count": 19,
   "metadata": {},
   "outputs": [],
   "source": [
    "def chart_for_in_outbound_calls(ag_names,select_index):\n",
    "    agentname=ag_names.value\n",
    "    Agent_inbound_outbound_weekly = get_data_function(weekslist,agentname,get_inbound_outbound)\n",
    "    Agent_inbound_outbound_monthly =get_data_function(monthsList,agentname,get_inbound_outbound)\n",
    "#    weekly_index = ['Week 1', 'Week 2', 'Week 3','Week 4','Week5']\n",
    "#    monthly_index=  ['Oct 2019','Nov 2019', 'Dec 2019', 'Jan 2020']   \n",
    "    legend='Inbound + Outbound calls'\n",
    "    if select_index.value=='Weekly':\n",
    "        Agent_inbound_outbound=Agent_inbound_outbound_weekly\n",
    "        index=weekly_index\n",
    "        title= \"'s In-Udgående Opkald per dag  - 31st Dec - 23rd Feb\"\n",
    "        give_comparison_in_outbound(Agent_inbound_outbound,index,title,legend,agentname)\n",
    "    \n",
    "    else:\n",
    "        Agent_inbound_outbound=Agent_inbound_outbound_monthly\n",
    "        index=monthly_index\n",
    "        title= \"'s In-Udgående Opkald per dag\"\n",
    "        give_comparison_in_outbound(Agent_inbound_outbound,index,title,legend,agentname)"
   ]
  },
  {
   "cell_type": "code",
   "execution_count": 20,
   "metadata": {},
   "outputs": [],
   "source": [
    "def chart_for_in_outbound_calls_v2(ag_names,select_index):\n",
    "    agentname=ag_names.value\n",
    "    Agent_inbound_outbound_weekly = get_data_function(weekslist,agentname,get_inbound_outbound)\n",
    "    Agent_inbound_outbound_monthly =  get_data_function(monthsList,agentname,get_inbound_outbound)\n",
    "    legend='Inbound + Outbound calls'\n",
    "    if select_index.value=='Weekly':\n",
    "        Agent_inbound_outbound=Agent_inbound_outbound_weekly\n",
    "        index=weekly_index\n",
    "        title= \"'s In-Udgående Opkald per dag  - 31st Dec - 23rd Feb\"\n",
    "        give_comparison_in_outbound_v2(Agent_inbound_outbound,index,title,legend,agentname)\n",
    "    \n",
    "    else:\n",
    "        Agent_inbound_outbound=Agent_inbound_outbound_monthly\n",
    "        index=monthly_index\n",
    "        title= \"'s In-Undgående Opkald per dag\"\n",
    "        give_comparison_in_outbound_v2(Agent_inbound_outbound,index,title,legend,agentname)"
   ]
  },
  {
   "cell_type": "code",
   "execution_count": 21,
   "metadata": {},
   "outputs": [],
   "source": [
    "def get_avg_adm_hours(df,agentname):\n",
    "    temp= df.loc[df['AgentName']==agentname]\n",
    "    if temp.empty:\n",
    "        count=0\n",
    "    else:\n",
    "        count=temp.iloc[0]['Administration (T) - per dag']\n",
    "    return count"
   ]
  },
  {
   "cell_type": "code",
   "execution_count": 22,
   "metadata": {},
   "outputs": [],
   "source": [
    "def get_data_function(lst,agentname,function):\n",
    "    counts=[]\n",
    "    for i in (lst):\n",
    "        counts.append(function(i,agentname))\n",
    "    return counts"
   ]
  },
  {
   "cell_type": "code",
   "execution_count": 23,
   "metadata": {},
   "outputs": [],
   "source": [
    "def chart_for_admin_work(ag_names,select_index):\n",
    "#    monthsList=[Oct2019,Nov2019,Dec2019,Jan2020]\n",
    "#    weekslist=[dec1,dec2,dec3,dec4,dec5]\n",
    "    agentname=ag_names.value\n",
    "    Agent_admin_work_weekly = get_data_function(weekslist,agentname,get_avg_adm_hours)\n",
    "    Agent_admin_work_monthly = get_data_function(monthsList,agentname,get_avg_adm_hours)\n",
    "\n",
    "    legend='Administrative Hours per day'\n",
    "    if select_index.value=='Weekly':\n",
    "   \n",
    "        index=weekly_index\n",
    "        title= \"'s Administration (T) - per dag - 31st Dec - 23rd Feb \"\n",
    "        give_comparison_adm_hour(Agent_admin_work_weekly,index,title,legend,agentname)\n",
    "    \n",
    "    else:\n",
    "        index=monthly_index\n",
    "        title= \"'s Administration (T) - per dag\"\n",
    "        give_comparison_adm_hour(Agent_admin_work_monthly,index,title,legend,agentname)"
   ]
  },
  {
   "cell_type": "code",
   "execution_count": 24,
   "metadata": {},
   "outputs": [],
   "source": [
    "# For a given attribute, this counts the number and make a chart\n",
    "\n",
    "# get count of an attribute for an agent name and a particular dataframe\n",
    "def get_count_of_att(df,agentname,att):\n",
    "    temp= df.loc[df['AgentName']==agentname]\n",
    "    if temp.empty: #if agent was not there - empty dataframe\n",
    "        count=0\n",
    "    else:\n",
    "        count=temp.iloc[0][att]\n",
    "    return count\n",
    "#gives the chart on the bases of weekly or monthly selector for a given attribute\n",
    "def chart_for_att(ag_names,select_index,att,bk_KPI,tp_KPI,legend,title):\n",
    "    agentname=ag_names.value\n",
    "    Agent_counts_of_att_weekly=[]\n",
    "    Agent_counts_of_att_monthly=[]\n",
    "    for i in weekslist: #weeklist defined at the top\n",
    "        Agent_counts_of_att_weekly.append(get_count_of_att(i,agentname,att))\n",
    "    \n",
    "    \n",
    "    for j in monthsList: #weeklist defined at the top\n",
    "        Agent_counts_of_att_monthly.append(get_count_of_att(j,agentname,att))\n",
    "       \n",
    "    #legend='Inbound + Outbound calls'\n",
    "    \n",
    "    if select_index.value=='Weekly':\n",
    "        index=weekly_index\n",
    "        title= \"'s \" + title + \" weekwise\"\n",
    "        give_comparison_for_attribute(Agent_counts_of_att_weekly,index,title,legend,agentname,bk_KPI,tp_KPI)\n",
    "    \n",
    "    else:\n",
    "        index=monthly_index\n",
    "        title=  \"'s \" + title + \" monthwise\"\n",
    "        give_comparison_for_attribute(Agent_counts_of_att_monthly,index,title,legend,agentname,bk_KPI,tp_KPI)\n",
    "        \n",
    "def give_comparison_for_attribute(Agent_att_count_for_a_period,index,title,legends,agentname,bk_KPI,tp_KPI):\n",
    "    \n",
    "    if agentname in bk_assistant:\n",
    "        KPI=bk_KPI \n",
    "    else:\n",
    "        KPI=tp_KPI\n",
    "   \n",
    "    legends=legends + ' KPI: ' + str(KPI)\n",
    "    clrs = ['red' if (x > KPI) else 'limegreen' for x in Agent_att_count_for_a_period ]\n",
    "\n",
    "    plt.figure(figsize=(9,7))\n",
    "    plt.bar(index, Agent_att_count_for_a_period, color=clrs)\n",
    "    #plt.xticks(y_pos, bars)\n",
    "    for i in range(len(Agent_att_count_for_a_period)):\n",
    "        if Agent_att_count_for_a_period[i] >=10:\n",
    "            height=Agent_att_count_for_a_period[i]-5\n",
    "        elif (Agent_att_count_for_a_period[i] >=5):\n",
    "            height= Agent_att_count_for_a_period[i]-1\n",
    "        elif (Agent_att_count_for_a_period[i] <=0.5):\n",
    "            height= Agent_att_count_for_a_period[i]-0.07\n",
    "        elif (Agent_att_count_for_a_period[i] <=5):\n",
    "            height= Agent_att_count_for_a_period[i]-0.5\n",
    "        else:\n",
    "            height=Agent_att_count_for_a_period[i]-0.07\n",
    "        plt.text(i,height,Agent_att_count_for_a_period[i],fontsize=15, color='white')\n",
    "    plt.title(agentname + title, fontsize=18)\n",
    "    plt.legend([legends])\n",
    "    plt.savefig(agentname+title)\n",
    "    plt.show()"
   ]
  },
  {
   "cell_type": "markdown",
   "metadata": {},
   "source": [
    "### Charts"
   ]
  },
  {
   "cell_type": "code",
   "execution_count": 25,
   "metadata": {},
   "outputs": [
    {
     "data": {
      "application/vnd.jupyter.widget-view+json": {
       "model_id": "50bb07eedd1c45bbb65e2f6c51b72c46",
       "version_major": 2,
       "version_minor": 0
      },
      "text/plain": [
       "Dropdown(description='Agents', options=('Stephanie Dam', 'Hafsah Tasneem', 'Jesper Jin Leen Larsen', 'Anne Syl…"
      ]
     },
     "metadata": {},
     "output_type": "display_data"
    }
   ],
   "source": [
    "ag_names"
   ]
  },
  {
   "cell_type": "code",
   "execution_count": 26,
   "metadata": {},
   "outputs": [
    {
     "data": {
      "application/vnd.jupyter.widget-view+json": {
       "model_id": "8e7d76281abd442a89e3bea53238bc5a",
       "version_major": 2,
       "version_minor": 0
      },
      "text/plain": [
       "Dropdown(description='Select Weekly or Monthly comparion', options=('Weekly', 'Monthly'), value='Weekly')"
      ]
     },
     "metadata": {},
     "output_type": "display_data"
    }
   ],
   "source": [
    "select_index"
   ]
  },
  {
   "cell_type": "markdown",
   "metadata": {},
   "source": [
    "weekly_index = ['Week 1', 'Week 2', 'Week 3','Week 4','Week 5']\n",
    "give_comparison_in_outbound([80,0,39,81,10],weekly_index,'test','test','Stephanie Dam')"
   ]
  },
  {
   "cell_type": "code",
   "execution_count": 27,
   "metadata": {
    "scrolled": false
   },
   "outputs": [
    {
     "data": {
      "image/png": "[encoded data removed]",
      "text/plain": [
       "<Figure size 648x504 with 1 Axes>"
      ]
     },
     "metadata": {
      "needs_background": "light"
     },
     "output_type": "display_data"
    },
    {
     "data": {
      "text/plain": [
       "'\"\"\\nchart_for_admin_work(ag_names,select_index)\\n\\nattribute=\\'In-Ud sum\\'\\nbooking_agent_kpi=75\\ntherapist_kpi=40\\nlegend=attribute\\nchart_for_att(ag_names,select_index,attribute,booking_agent_kpi,therapist_kpi,legend,legend)\\n\\n\\n\\n\\nattribute=\\'Samtale (min) per Opkald\\'\\nbooking_agent_kpi_for_call_duration_in_min=3\\ntherapist_kpi_for_call_duration_in_min=4\\nlegend=attribute\\nchart_for_att(ag_names,select_index,attribute,booking_agent_kpi_for_call_duration_in_min,therapist_kpi_for_call_duration_in_min,legend,legend)\\n\\nattribute=\\'Pause (T) - per dag\\'\\nbooking_agent_kpi_for_pause_in_hour=1.0\\ntherapist_kpi_for_pause_in_hour=1.0\\nlegend=attribute\\nchart_for_att(ag_names,select_index,attribute,booking_agent_kpi_for_pause_in_hour,therapist_kpi_for_pause_in_hour,legend,legend)\\n\\n\\nif select_index.value == \\'Monthly\\':\\n    get_pie_chart(Dec2019,ag_names,\\'Dec 2019\\')\\n    get_pie_chart(Jan2020,ag_names,\\'Jan 2020\\')\\n    get_pie_chart(Feb2020,ag_names,\\'Jan 2020\\')\\n'"
      ]
     },
     "execution_count": 27,
     "metadata": {},
     "output_type": "execute_result"
    }
   ],
   "source": [
    "chart_for_in_outbound_calls(ag_names,select_index)\n",
    "#chart_for_in_outbound_calls_v2(ag_names,select_index)\n",
    " \n",
    "\n",
    "\"\"\"\"\"\n",
    "chart_for_admin_work(ag_names,select_index)\n",
    "\n",
    "attribute='In-Ud sum'\n",
    "booking_agent_kpi=75\n",
    "therapist_kpi=40\n",
    "legend=attribute\n",
    "chart_for_att(ag_names,select_index,attribute,booking_agent_kpi,therapist_kpi,legend,legend)\n",
    "\n",
    "\n",
    "\n",
    "\n",
    "attribute='Samtale (min) per Opkald'\n",
    "booking_agent_kpi_for_call_duration_in_min=3\n",
    "therapist_kpi_for_call_duration_in_min=4\n",
    "legend=attribute\n",
    "chart_for_att(ag_names,select_index,attribute,booking_agent_kpi_for_call_duration_in_min,therapist_kpi_for_call_duration_in_min,legend,legend)\n",
    "\n",
    "attribute='Pause (T) - per dag'\n",
    "booking_agent_kpi_for_pause_in_hour=1.0\n",
    "therapist_kpi_for_pause_in_hour=1.0\n",
    "legend=attribute\n",
    "chart_for_att(ag_names,select_index,attribute,booking_agent_kpi_for_pause_in_hour,therapist_kpi_for_pause_in_hour,legend,legend)\n",
    "\n",
    "\n",
    "if select_index.value == 'Monthly':\n",
    "    get_pie_chart(Dec2019,ag_names,'Dec 2019')\n",
    "    get_pie_chart(Jan2020,ag_names,'Jan 2020')\n",
    "    get_pie_chart(Feb2020,ag_names,'Jan 2020')\n",
    "\"\"\"\"\"\n"
   ]
  },
  {
   "cell_type": "code",
   "execution_count": 28,
   "metadata": {},
   "outputs": [
    {
     "data": {
      "image/png": "[encoded data removed]",
      "text/plain": [
       "<Figure size 648x504 with 1 Axes>"
      ]
     },
     "metadata": {
      "needs_background": "light"
     },
     "output_type": "display_data"
    }
   ],
   "source": [
    "attribute='ikke klar (T) Andet - per dag'\n",
    "booking_agent_kpi_for_pause_in_hour=1.0\n",
    "therapist_kpi_for_pause_in_hour=1.0\n",
    "legend=attribute\n",
    "chart_for_att(ag_names,select_index,attribute,booking_agent_kpi_for_pause_in_hour,therapist_kpi_for_pause_in_hour,legend,legend)\n"
   ]
  },
  {
   "cell_type": "code",
   "execution_count": 29,
   "metadata": {},
   "outputs": [],
   "source": [
    "# Multiple bar chart"
   ]
  },
  {
   "cell_type": "code",
   "execution_count": 30,
   "metadata": {},
   "outputs": [],
   "source": [
    "def get_count_of_att_multiple(df,agentname,att):\n",
    "    temp= df.loc[df['AgentName']==agentname]\n",
    "    #listOfLists = [[] for i in range(len(att))]\n",
    "   \n",
    "    count=[]\n",
    "    for i in range(len(att)):\n",
    "        if temp.empty: #if agent was not there - empty dataframe\n",
    "            count.append(0)\n",
    "        else:\n",
    "            count.append(temp.iloc[0][att[i]])\n",
    "    \n",
    "    return count\n",
    "\n",
    "def get_count_wise(count1):\n",
    "    count_wise=[]\n",
    "    for i in range(len(count1[0])):\n",
    "         count_wise.append([item[i] for item in count1])\n",
    "    return count_wise\n",
    "\n",
    "def chart_for_att_multiple(ag_names,select_index,att,title):\n",
    "    agentname=ag_names\n",
    "    tempAgent_counts_of_att_weekly=[]\n",
    "    tempAgent_counts_of_att_monthly=[]\n",
    "   \n",
    "   \n",
    "    for i in (weekslist):#weeklist defined at the top\n",
    "        tempAgent_counts_of_att_weekly.append(get_count_of_att_multiple(i,agentname,att))\n",
    "    \n",
    "  \n",
    "    for j in monthsList: #weeklist defined at the top\n",
    "        tempAgent_counts_of_att_monthly.append(get_count_of_att_multiple(j,agentname,att))\n",
    "    \n",
    "    Agent_counts_of_att_weekly=get_count_wise(tempAgent_counts_of_att_weekly)\n",
    "\n",
    "    Agent_counts_of_att_monthly=get_count_wise(tempAgent_counts_of_att_monthly)\n",
    "    \n",
    "    \n",
    "    if select_index.value=='Weekly':\n",
    "        labels=weekly_index\n",
    "        agent_count_period= Agent_counts_of_att_weekly\n",
    "    else:\n",
    "        labels=monthly_index\n",
    "        agent_count_period=Agent_counts_of_att_monthly\n",
    "    x = np.arange(len(labels))  # the label locations\n",
    "    width = 0.33  # the width of the bars\n",
    "\n",
    "    fig, ax = plt.subplots()\n",
    "    \n",
    "    rects=[]\n",
    "\n",
    "    w=[-width/4, width,width/4]\n",
    "    w=[-.3/2,.3/2,.43]\n",
    "    for i in range(len(att)):\n",
    "        rects.append(ax.bar(x + w[i], agent_count_period[i], width, label=att[i]))\n",
    "        \n",
    "# Add some text for labels, title and custom x-axis tick labels, etc.\n",
    "    #ax.set_ylabel('Scores')\n",
    "    ax.set_title(title)\n",
    "    ax.set_xticks(x)\n",
    "    ax.set_xticklabels((labels))\n",
    "    ax.legend()\n",
    "    plt.rcParams[\"figure.figsize\"] = [9,7]\n",
    "\n",
    "\n",
    "\n",
    "\n",
    "    def autolabel(rects):\n",
    "    #\"\"\"Attach a text label above each bar in *rects*, displaying its height.\"\"\"\n",
    "\n",
    "        for rect in rects:\n",
    "            height = rect.get_height()\n",
    "            ax.annotate('{}'.format(height),\n",
    "                    xy=(rect.get_x() + rect.get_width()/2, height),\n",
    "                    xytext=(0, 3),  # 3 points vertical offset\n",
    "                    textcoords=\"offset points\",\n",
    "                    ha='center', va='bottom')\n",
    "   \n",
    "        \n",
    "    for i in rects:\n",
    "        autolabel(i)\n",
    "\n",
    "    fig.tight_layout()\n",
    "    #plt.savefig(agentname+\"'s Weekly \"+str(att))\n",
    "    plt.show()"
   ]
  },
  {
   "cell_type": "code",
   "execution_count": null,
   "metadata": {},
   "outputs": [],
   "source": []
  },
  {
   "cell_type": "code",
   "execution_count": 31,
   "metadata": {},
   "outputs": [],
   "source": [
    "col_in_hours=['Login-timer / dag',\n",
    "       'Indgående Opkald per dag', 'Udgående Opkald per dag',\n",
    "       'Tabte Opkald per dag', 'Samtale (min) per Opkald',\n",
    "       'Aktiv/Klar (T) - Samlet per dag',\n",
    "       'Samtale (T) - per dag', 'Klar (T) - per dag',\n",
    "        'Administration (T) - per dag',\n",
    "        'Pause (T) - per dag',\n",
    "        'ikke klar (T) Andet - per dag',\n",
    "        'Ukendt/Andet (T) - per dag', 'In-Ud sum']\n",
    "col_selector=widgets.SelectMultiple(\n",
    "    options=col_in_hours,\n",
    "     value=('Aktiv/Klar (T) - Samlet per dag','Administration (T) - per dag'),\n",
    "    description='Attribute Selector',\n",
    "    rows=len(col_in_hours))"
   ]
  },
  {
   "cell_type": "code",
   "execution_count": 32,
   "metadata": {},
   "outputs": [
    {
     "data": {
      "application/vnd.jupyter.widget-view+json": {
       "model_id": "50bb07eedd1c45bbb65e2f6c51b72c46",
       "version_major": 2,
       "version_minor": 0
      },
      "text/plain": [
       "Dropdown(description='Agents', options=('Stephanie Dam', 'Hafsah Tasneem', 'Jesper Jin Leen Larsen', 'Anne Syl…"
      ]
     },
     "metadata": {},
     "output_type": "display_data"
    }
   ],
   "source": [
    "ag_names"
   ]
  },
  {
   "cell_type": "code",
   "execution_count": 33,
   "metadata": {},
   "outputs": [
    {
     "data": {
      "application/vnd.jupyter.widget-view+json": {
       "model_id": "8e7d76281abd442a89e3bea53238bc5a",
       "version_major": 2,
       "version_minor": 0
      },
      "text/plain": [
       "Dropdown(description='Select Weekly or Monthly comparion', options=('Weekly', 'Monthly'), value='Weekly')"
      ]
     },
     "metadata": {},
     "output_type": "display_data"
    }
   ],
   "source": [
    "select_index"
   ]
  },
  {
   "cell_type": "code",
   "execution_count": 34,
   "metadata": {},
   "outputs": [
    {
     "data": {
      "application/vnd.jupyter.widget-view+json": {
       "model_id": "fa3e2581ff01403a82c9cac4b5bfbcd4",
       "version_major": 2,
       "version_minor": 0
      },
      "text/plain": [
       "SelectMultiple(description='Attribute Selector', index=(5, 8), options=('Login-timer / dag', 'Indgående Opkald…"
      ]
     },
     "metadata": {},
     "output_type": "display_data"
    }
   ],
   "source": [
    "col_selector"
   ]
  },
  {
   "cell_type": "code",
   "execution_count": 44,
   "metadata": {},
   "outputs": [
    {
     "data": {
      "image/png": "[encoded data removed]",
      "text/plain": [
       "<Figure size 648x504 with 1 Axes>"
      ]
     },
     "metadata": {
      "needs_background": "light"
     },
     "output_type": "display_data"
    }
   ],
   "source": [
    "attt=list(col_selector.value)\n",
    "#get_data_function(weekslist,agentname,get_count_of_att_multiple(Dec2019,'Linda Wichmann',attt))\n",
    "booking_agent_kpi_for_pause_in_hour=1.0\n",
    "therapist_kpi_for_pause_in_hour=1.0\n",
    "agentname=ag_names.value\n",
    "title=[agentname,\"'s \"]\n",
    "for i in range(len(attt)):\n",
    "    #if i == len(att):\n",
    "    title.append(attt[i]+' &')\n",
    "\n",
    "title=(' '.join(title))[:-1]\n",
    "\n",
    "#title=agentname+\"'s '\"+attt[0]+' & '+attt[1]\n",
    "chart_for_att_multiple(agentname,select_index,attt,title)"
   ]
  },
  {
   "cell_type": "code",
   "execution_count": 36,
   "metadata": {},
   "outputs": [],
   "source": [
    "def get_all_data_for_agent(df,agentname):\n",
    "    temp=df.loc[df['AgentName']==agentname]\n",
    "    return temp\n",
    "def get_data(agentname,wl):\n",
    "    temp_dfs=[]\n",
    "    for index,i in enumerate(wl):\n",
    "         temp_dfs.append(get_all_data_for_agent(i,'Hafsah Tasneem'))\n",
    "    all_data=pd.concat(temp_dfs)\n",
    "    return all_data"
   ]
  },
  {
   "cell_type": "code",
   "execution_count": 37,
   "metadata": {},
   "outputs": [
    {
     "data": {
      "text/plain": [
       "8"
      ]
     },
     "execution_count": 37,
     "metadata": {},
     "output_type": "execute_result"
    }
   ],
   "source": [
    "len(weekslist)\n",
    "#Have to change this after adding more weeks"
   ]
  },
  {
   "cell_type": "code",
   "execution_count": 38,
   "metadata": {},
   "outputs": [],
   "source": [
    "wl_jan=weekslist[0:5]\n",
    "wl_feb=weekslist[5:8]\n",
    "df_all_data_jan=pd.concat(wl_jan)\n",
    "ALL = 'ALL'"
   ]
  },
  {
   "cell_type": "code",
   "execution_count": 39,
   "metadata": {},
   "outputs": [
    {
     "data": {
      "text/html": [
       "<div>\n",
       "<style scoped>\n",
       "    .dataframe tbody tr th:only-of-type {\n",
       "        vertical-align: middle;\n",
       "    }\n",
       "\n",
       "    .dataframe tbody tr th {\n",
       "        vertical-align: top;\n",
       "    }\n",
       "\n",
       "    .dataframe thead th {\n",
       "        text-align: right;\n",
       "    }\n",
       "</style>\n",
       "<table border=\"1\" class=\"dataframe\">\n",
       "  <thead>\n",
       "    <tr style=\"text-align: right;\">\n",
       "      <th></th>\n",
       "      <th>AgentName</th>\n",
       "      <th>Login-datoer</th>\n",
       "      <th>Login-timer / dag</th>\n",
       "      <th>Indgående Opkald per dag</th>\n",
       "      <th>Udgående Opkald per dag</th>\n",
       "      <th>Tabte Opkald per dag</th>\n",
       "      <th>Samtale (min) per Opkald</th>\n",
       "      <th>Aktiv/Klar (T) - Samlet per dag</th>\n",
       "      <th>Aktiv/Klar - Samlet</th>\n",
       "      <th>Samtale (T) - per dag</th>\n",
       "      <th>Aktiv/Klar - Samtale</th>\n",
       "      <th>Klar (T) - per dag</th>\n",
       "      <th>Aktiv/Klar - Klar</th>\n",
       "      <th>Administration (T) - per dag</th>\n",
       "      <th>Aktiv/Klar - Admininistrativt</th>\n",
       "      <th>Pause (T) - per dag</th>\n",
       "      <th>Ikke Klar - Pause</th>\n",
       "      <th>ikke klar (T) Andet - per dag</th>\n",
       "      <th>Ikke Klar - Andet</th>\n",
       "      <th>Ukendt/Andet (T) - per dag</th>\n",
       "    </tr>\n",
       "  </thead>\n",
       "  <tbody>\n",
       "    <tr>\n",
       "      <td>0</td>\n",
       "      <td>Anders Kjærulff Møller</td>\n",
       "      <td>2</td>\n",
       "      <td>6.9</td>\n",
       "      <td>33</td>\n",
       "      <td>12</td>\n",
       "      <td>0.0</td>\n",
       "      <td>3.6</td>\n",
       "      <td>5.8</td>\n",
       "      <td>85 %</td>\n",
       "      <td>2.7</td>\n",
       "      <td>39 %</td>\n",
       "      <td>0.8</td>\n",
       "      <td>12 %</td>\n",
       "      <td>2.3</td>\n",
       "      <td>33 %</td>\n",
       "      <td>0.9</td>\n",
       "      <td>13 %</td>\n",
       "      <td>0.0</td>\n",
       "      <td>2 %</td>\n",
       "      <td>0.1</td>\n",
       "    </tr>\n",
       "  </tbody>\n",
       "</table>\n",
       "</div>"
      ],
      "text/plain": [
       "                AgentName  Login-datoer  Login-timer / dag  \\\n",
       "0  Anders Kjærulff Møller             2                6.9   \n",
       "\n",
       "   Indgående Opkald per dag  Udgående Opkald per dag  Tabte Opkald per dag  \\\n",
       "0                        33                       12                   0.0   \n",
       "\n",
       "   Samtale (min) per Opkald  Aktiv/Klar (T) - Samlet per dag  \\\n",
       "0                       3.6                              5.8   \n",
       "\n",
       "  Aktiv/Klar - Samlet  Samtale (T) - per dag Aktiv/Klar - Samtale  \\\n",
       "0                85 %                    2.7                 39 %   \n",
       "\n",
       "   Klar (T) - per dag Aktiv/Klar - Klar  Administration (T) - per dag  \\\n",
       "0                 0.8              12 %                           2.3   \n",
       "\n",
       "  Aktiv/Klar - Admininistrativt  Pause (T) - per dag Ikke Klar - Pause  \\\n",
       "0                          33 %                  0.9              13 %   \n",
       "\n",
       "   ikke klar (T) Andet - per dag Ikke Klar - Andet  Ukendt/Andet (T) - per dag  \n",
       "0                            0.0               2 %                         0.1  "
      ]
     },
     "execution_count": 39,
     "metadata": {},
     "output_type": "execute_result"
    }
   ],
   "source": [
    "df_all_data_jan.reset_index()\n",
    "df_all_data_jan.head(1)"
   ]
  },
  {
   "cell_type": "code",
   "execution_count": 40,
   "metadata": {},
   "outputs": [
    {
     "data": {
      "application/vnd.jupyter.widget-view+json": {
       "model_id": "e6ddcbbc040a4e39853bb25354b4dd4b",
       "version_major": 2,
       "version_minor": 0
      },
      "text/plain": [
       "Dropdown(options=('Anders Kjærulff Møller', 'Anne Sylvester Walters', 'Bente Stigborg', 'Bettina Daugaard', 'C…"
      ]
     },
     "metadata": {},
     "output_type": "display_data"
    }
   ],
   "source": [
    "\n",
    "dropdown_year =  widgets.Dropdown(options = df_all_data_jan.AgentName)\n",
    "\n",
    "\n",
    "output_year=widgets.Output()\n",
    "def dropdown_year_eventhandler(change):\n",
    "    output_year.clear_output()\n",
    "    with output_year:\n",
    "        if (change.new == ALL):\n",
    "            display(df_all_data_jan.head(3))\n",
    "        else:\n",
    "            display(df_all_data_jan[df_all_data_jan.AgentName == change.new])\n",
    "        \n",
    "dropdown_year.observe(dropdown_year_eventhandler, names='value')                    \n",
    "display(dropdown_year)\n"
   ]
  },
  {
   "cell_type": "code",
   "execution_count": 41,
   "metadata": {},
   "outputs": [
    {
     "data": {
      "application/vnd.jupyter.widget-view+json": {
       "model_id": "8c9b9f1a615c4f0a96c87c93bb12701b",
       "version_major": 2,
       "version_minor": 0
      },
      "text/plain": [
       "Output()"
      ]
     },
     "metadata": {},
     "output_type": "display_data"
    }
   ],
   "source": [
    "display(output_year)"
   ]
  },
  {
   "cell_type": "code",
   "execution_count": 42,
   "metadata": {},
   "outputs": [],
   "source": [
    "def unique_sorted_values_plus_ALL(array):\n",
    "    unique = array.unique().tolist()\n",
    "    unique.sort()\n",
    "    #unique.insert(0, ALL)\n",
    "    return unique"
   ]
  },
  {
   "cell_type": "code",
   "execution_count": 62,
   "metadata": {},
   "outputs": [],
   "source": [
    "def get_bonus_df(df,KPI):\n",
    "    tempdf= df.sort_values('Indgående Opkald per dag',ascending=False)\n",
    "    tempdf=tempdf.loc[tempdf['Indgående Opkald per dag']>=KPI]\n",
    "    return tempdf[['AgentName','Indgående Opkald per dag']]"
   ]
  },
  {
   "cell_type": "code",
   "execution_count": 63,
   "metadata": {},
   "outputs": [],
   "source": [
    "#temp=bonus_1st.loc[bonus_1st['AgentName'].isin(phy_therapist)]\n",
    "#temp.loc[temp['In-Ud sum']>=40]"
   ]
  },
  {
   "cell_type": "code",
   "execution_count": 64,
   "metadata": {},
   "outputs": [],
   "source": [
    "def getTop5(df):\n",
    "    tempdf= df.sort_values('Indgående Opkald per dag',ascending=False)\n",
    "    \n",
    "    return tempdf[['AgentName','Indgående Opkald per dag']].head(5)"
   ]
  },
  {
   "cell_type": "code",
   "execution_count": 65,
   "metadata": {},
   "outputs": [
    {
     "data": {
      "application/vnd.jupyter.widget-view+json": {
       "model_id": "d4c3346b040c4ce9b9f5fea0759d7659",
       "version_major": 2,
       "version_minor": 0
      },
      "text/plain": [
       "Dropdown(description='Select', options=('Booking Assistant', 'Therapists'), value='Booking Assistant')"
      ]
     },
     "metadata": {},
     "output_type": "display_data"
    }
   ],
   "source": [
    "select_group=widgets.Dropdown(\n",
    "    options=['Booking Assistant','Therapists'],\n",
    "    value='Booking Assistant',\n",
    "    description='Select',\n",
    "    disabled=False,\n",
    ")\n",
    "select_group"
   ]
  },
  {
   "cell_type": "code",
   "execution_count": 66,
   "metadata": {},
   "outputs": [],
   "source": [
    "def get_bonus_eligible():\n",
    "\n",
    "    if select_group.value=='Therapists':\n",
    "        #bonus_thp= bonus_1st.copy()\n",
    "        #bonus_thp.loc[bonus_thp['AgentName'].isin(phy_therapist)]\n",
    "        return get_bonus_df(bonus_1st.loc[bonus_1st['AgentName'].isin(phy_therapist)],40)\n",
    "    else:\n",
    "        #bonus_bk= bonus_1st.copy()\n",
    "        #bonus_bk.loc[bonus_bk['AgentName'].isin(bk_assistant)]\n",
    "        return get_bonus_df(bonus_1st.loc[bonus_1st['AgentName'].isin(bk_assistant)],75)"
   ]
  },
  {
   "cell_type": "code",
   "execution_count": 67,
   "metadata": {},
   "outputs": [
    {
     "data": {
      "text/html": [
       "<div>\n",
       "<style scoped>\n",
       "    .dataframe tbody tr th:only-of-type {\n",
       "        vertical-align: middle;\n",
       "    }\n",
       "\n",
       "    .dataframe tbody tr th {\n",
       "        vertical-align: top;\n",
       "    }\n",
       "\n",
       "    .dataframe thead th {\n",
       "        text-align: right;\n",
       "    }\n",
       "</style>\n",
       "<table border=\"1\" class=\"dataframe\">\n",
       "  <thead>\n",
       "    <tr style=\"text-align: right;\">\n",
       "      <th></th>\n",
       "      <th>AgentName</th>\n",
       "      <th>Indgående Opkald per dag</th>\n",
       "    </tr>\n",
       "  </thead>\n",
       "  <tbody>\n",
       "  </tbody>\n",
       "</table>\n",
       "</div>"
      ],
      "text/plain": [
       "Empty DataFrame\n",
       "Columns: [AgentName, Indgående Opkald per dag]\n",
       "Index: []"
      ]
     },
     "execution_count": 67,
     "metadata": {},
     "output_type": "execute_result"
    }
   ],
   "source": [
    "get_bonus_eligible()"
   ]
  },
  {
   "cell_type": "code",
   "execution_count": 68,
   "metadata": {},
   "outputs": [
    {
     "data": {
      "text/html": [
       "<div>\n",
       "<style scoped>\n",
       "    .dataframe tbody tr th:only-of-type {\n",
       "        vertical-align: middle;\n",
       "    }\n",
       "\n",
       "    .dataframe tbody tr th {\n",
       "        vertical-align: top;\n",
       "    }\n",
       "\n",
       "    .dataframe thead th {\n",
       "        text-align: right;\n",
       "    }\n",
       "</style>\n",
       "<table border=\"1\" class=\"dataframe\">\n",
       "  <thead>\n",
       "    <tr style=\"text-align: right;\">\n",
       "      <th></th>\n",
       "      <th>AgentName</th>\n",
       "      <th>Indgående Opkald per dag</th>\n",
       "    </tr>\n",
       "  </thead>\n",
       "  <tbody>\n",
       "    <tr>\n",
       "      <td>39</td>\n",
       "      <td>Stephanie Dam</td>\n",
       "      <td>74</td>\n",
       "    </tr>\n",
       "    <tr>\n",
       "      <td>21</td>\n",
       "      <td>Linda Wichmann</td>\n",
       "      <td>73</td>\n",
       "    </tr>\n",
       "    <tr>\n",
       "      <td>9</td>\n",
       "      <td>Hafsah Tasneem</td>\n",
       "      <td>73</td>\n",
       "    </tr>\n",
       "    <tr>\n",
       "      <td>12</td>\n",
       "      <td>Inge Chan</td>\n",
       "      <td>66</td>\n",
       "    </tr>\n",
       "    <tr>\n",
       "      <td>26</td>\n",
       "      <td>Marie-Louise Fugl Madsen</td>\n",
       "      <td>66</td>\n",
       "    </tr>\n",
       "  </tbody>\n",
       "</table>\n",
       "</div>"
      ],
      "text/plain": [
       "                   AgentName  Indgående Opkald per dag\n",
       "39             Stephanie Dam                        74\n",
       "21            Linda Wichmann                        73\n",
       "9             Hafsah Tasneem                        73\n",
       "12                 Inge Chan                        66\n",
       "26  Marie-Louise Fugl Madsen                        66"
      ]
     },
     "execution_count": 68,
     "metadata": {},
     "output_type": "execute_result"
    }
   ],
   "source": [
    "getTop5(bonus_1st)"
   ]
  },
  {
   "cell_type": "code",
   "execution_count": 69,
   "metadata": {},
   "outputs": [],
   "source": [
    "def whatshouldido(current_avg,avg_to_achieve):\n",
    "    return (2*avg_to_achieve)-current_avg"
   ]
  },
  {
   "cell_type": "code",
   "execution_count": 70,
   "metadata": {},
   "outputs": [
    {
     "data": {
      "text/plain": [
       "69"
      ]
     },
     "execution_count": 70,
     "metadata": {},
     "output_type": "execute_result"
    }
   ],
   "source": [
    "whatshouldido(81,75)"
   ]
  },
  {
   "cell_type": "code",
   "execution_count": 71,
   "metadata": {},
   "outputs": [
    {
     "data": {
      "text/html": [
       "<div>\n",
       "<style scoped>\n",
       "    .dataframe tbody tr th:only-of-type {\n",
       "        vertical-align: middle;\n",
       "    }\n",
       "\n",
       "    .dataframe tbody tr th {\n",
       "        vertical-align: top;\n",
       "    }\n",
       "\n",
       "    .dataframe thead th {\n",
       "        text-align: right;\n",
       "    }\n",
       "</style>\n",
       "<table border=\"1\" class=\"dataframe\">\n",
       "  <thead>\n",
       "    <tr style=\"text-align: right;\">\n",
       "      <th></th>\n",
       "      <th>AgentName</th>\n",
       "      <th>Login-datoer</th>\n",
       "      <th>Login-timer / dag</th>\n",
       "      <th>Indgående Opkald per dag</th>\n",
       "      <th>Udgående Opkald per dag</th>\n",
       "      <th>Tabte Opkald per dag</th>\n",
       "      <th>Samtale (min) per Opkald</th>\n",
       "      <th>Aktiv/Klar (T) - Samlet per dag</th>\n",
       "      <th>Aktiv/Klar - Samlet</th>\n",
       "      <th>Samtale (T) - per dag</th>\n",
       "      <th>...</th>\n",
       "      <th>Aktiv/Klar - Klar</th>\n",
       "      <th>Administration (T) - per dag</th>\n",
       "      <th>Aktiv/Klar - Admininistrativt</th>\n",
       "      <th>Pause (T) - per dag</th>\n",
       "      <th>Ikke Klar - Pause</th>\n",
       "      <th>ikke klar (T) Andet - per dag</th>\n",
       "      <th>Ikke Klar - Andet</th>\n",
       "      <th>Ukendt/Andet (T) - per dag</th>\n",
       "      <th>In-Ud sum</th>\n",
       "      <th>Period</th>\n",
       "    </tr>\n",
       "  </thead>\n",
       "  <tbody>\n",
       "    <tr>\n",
       "      <td>0</td>\n",
       "      <td>Stephanie Dam</td>\n",
       "      <td>2</td>\n",
       "      <td>8.5</td>\n",
       "      <td>92</td>\n",
       "      <td>5</td>\n",
       "      <td>0.0</td>\n",
       "      <td>2.7</td>\n",
       "      <td>7.1</td>\n",
       "      <td>83 %</td>\n",
       "      <td>4.3</td>\n",
       "      <td>...</td>\n",
       "      <td>30.0</td>\n",
       "      <td>0.2</td>\n",
       "      <td>2.0</td>\n",
       "      <td>0.9</td>\n",
       "      <td>11.0</td>\n",
       "      <td>0.2</td>\n",
       "      <td>5.0</td>\n",
       "      <td>0.3</td>\n",
       "      <td>97</td>\n",
       "      <td>feb_w1</td>\n",
       "    </tr>\n",
       "  </tbody>\n",
       "</table>\n",
       "<p>1 rows × 22 columns</p>\n",
       "</div>"
      ],
      "text/plain": [
       "       AgentName  Login-datoer  Login-timer / dag  Indgående Opkald per dag  \\\n",
       "0  Stephanie Dam             2                8.5                        92   \n",
       "\n",
       "   Udgående Opkald per dag  Tabte Opkald per dag  Samtale (min) per Opkald  \\\n",
       "0                        5                   0.0                       2.7   \n",
       "\n",
       "   Aktiv/Klar (T) - Samlet per dag Aktiv/Klar - Samlet  Samtale (T) - per dag  \\\n",
       "0                              7.1                83 %                    4.3   \n",
       "\n",
       "   ...  Aktiv/Klar - Klar  Administration (T) - per dag  \\\n",
       "0  ...               30.0                           0.2   \n",
       "\n",
       "   Aktiv/Klar - Admininistrativt  Pause (T) - per dag  Ikke Klar - Pause  \\\n",
       "0                            2.0                  0.9               11.0   \n",
       "\n",
       "   ikke klar (T) Andet - per dag  Ikke Klar - Andet  \\\n",
       "0                            0.2                5.0   \n",
       "\n",
       "   Ukendt/Andet (T) - per dag  In-Ud sum  Period  \n",
       "0                         0.3         97  feb_w1  \n",
       "\n",
       "[1 rows x 22 columns]"
      ]
     },
     "execution_count": 71,
     "metadata": {},
     "output_type": "execute_result"
    }
   ],
   "source": [
    "feb_w1.head(1)"
   ]
  },
  {
   "cell_type": "code",
   "execution_count": 72,
   "metadata": {},
   "outputs": [],
   "source": [
    "def whatsmystatus(agent):\n",
    "    temp=bonus_1st.loc[bonus_1st['AgentName']==agent]\n",
    "    if agent in phy_therapist:\n",
    "        val1=temp[['Indgående Opkald per dag']].values.tolist()[0][0]\n",
    "        val2=temp[['Udgående Opkald per dag']].values.tolist()[0][0]\n",
    "        val=val1+val2\n",
    "    elif agent in bk_assistant:\n",
    "        val=temp[['Indgående Opkald per dag']].values.tolist()[0][0]\n",
    "    \n",
    "    return int(val)"
   ]
  },
  {
   "cell_type": "code",
   "execution_count": 73,
   "metadata": {},
   "outputs": [
    {
     "data": {
      "text/plain": [
       "31"
      ]
     },
     "execution_count": 73,
     "metadata": {},
     "output_type": "execute_result"
    }
   ],
   "source": [
    "whatsmystatus('Jesper Jin Leen Larsen')"
   ]
  },
  {
   "cell_type": "code",
   "execution_count": 74,
   "metadata": {},
   "outputs": [
    {
     "data": {
      "text/plain": [
       "73"
      ]
     },
     "execution_count": 74,
     "metadata": {},
     "output_type": "execute_result"
    }
   ],
   "source": [
    "whatsmystatus('Hafsah Tasneem')"
   ]
  },
  {
   "cell_type": "code",
   "execution_count": 75,
   "metadata": {},
   "outputs": [
    {
     "data": {
      "text/plain": [
       "41"
      ]
     },
     "execution_count": 75,
     "metadata": {},
     "output_type": "execute_result"
    }
   ],
   "source": [
    "whatshouldido(whatsmystatus('Anders Kjærulff Møller'),40)"
   ]
  },
  {
   "cell_type": "code",
   "execution_count": 76,
   "metadata": {},
   "outputs": [
    {
     "name": "stdout",
     "output_type": "stream",
     "text": [
      "name:  Anne Sylvester Walters\n",
      "Avg In-Ud:  35\n",
      "Need this average:  45\n"
     ]
    }
   ],
   "source": [
    "print('name: ',phy_therapist[1])\n",
    "print('Avg In-Ud: ',whatsmystatus(phy_therapist[1]))\n",
    "print('Need this average: ',whatshouldido(whatsmystatus(phy_therapist[1]),40))"
   ]
  },
  {
   "cell_type": "code",
   "execution_count": 77,
   "metadata": {},
   "outputs": [],
   "source": [
    "def get_bonus_status_for_agent(agent,kpi):\n",
    "    print('name: ',agent)\n",
    "    status= whatsmystatus(agent)\n",
    "    \n",
    "    print('Current Avg In-Ud: ',status)\n",
    "    print('Need this average to get bonus: ',whatshouldido(status,kpi))"
   ]
  },
  {
   "cell_type": "code",
   "execution_count": 78,
   "metadata": {},
   "outputs": [
    {
     "name": "stdout",
     "output_type": "stream",
     "text": [
      "\u001b[31mText in red\n"
     ]
    }
   ],
   "source": [
    "print(\"\\x1b[31mText in red\")"
   ]
  },
  {
   "cell_type": "code",
   "execution_count": 79,
   "metadata": {},
   "outputs": [
    {
     "name": "stdout",
     "output_type": "stream",
     "text": [
      "name:  Hafsah Tasneem\n",
      "Current Avg In-Ud:  73\n",
      "Need this average to get bonus:  77\n",
      "name:  Stephanie Dam\n",
      "Current Avg In-Ud:  74\n",
      "Need this average to get bonus:  76\n"
     ]
    }
   ],
   "source": [
    "get_bonus_status_for_agent('Hafsah Tasneem',75)\n",
    "get_bonus_status_for_agent('Stephanie Dam',75)"
   ]
  },
  {
   "cell_type": "code",
   "execution_count": 80,
   "metadata": {},
   "outputs": [
    {
     "name": "stdout",
     "output_type": "stream",
     "text": [
      "name:  Jesper Jin Leen Larsen\n",
      "Current Avg In-Ud:  31\n",
      "Need this average to get bonus:  49\n"
     ]
    }
   ],
   "source": [
    "get_bonus_status_for_agent('Jesper Jin Leen Larsen',40)"
   ]
  },
  {
   "cell_type": "code",
   "execution_count": 81,
   "metadata": {},
   "outputs": [
    {
     "data": {
      "text/markdown": [
       "Avg In-Ud <span style=\"color: #ff0000\">red</span>."
      ],
      "text/plain": [
       "<IPython.core.display.Markdown object>"
      ]
     },
     "metadata": {},
     "output_type": "display_data"
    }
   ],
   "source": [
    "from IPython.display import Markdown\n",
    "if whatsmystatus('Jesper Jin Leen Larsen') < 40:\n",
    "    display (Markdown('Avg In-Ud <span style=\"color: #ff0000\">red</span>.'))"
   ]
  },
  {
   "cell_type": "code",
   "execution_count": 82,
   "metadata": {},
   "outputs": [
    {
     "data": {
      "text/html": [
       "<div>\n",
       "<style scoped>\n",
       "    .dataframe tbody tr th:only-of-type {\n",
       "        vertical-align: middle;\n",
       "    }\n",
       "\n",
       "    .dataframe tbody tr th {\n",
       "        vertical-align: top;\n",
       "    }\n",
       "\n",
       "    .dataframe thead th {\n",
       "        text-align: right;\n",
       "    }\n",
       "</style>\n",
       "<table border=\"1\" class=\"dataframe\">\n",
       "  <thead>\n",
       "    <tr style=\"text-align: right;\">\n",
       "      <th></th>\n",
       "      <th>AgentName</th>\n",
       "      <th>Login-datoer</th>\n",
       "      <th>Login-timer / dag</th>\n",
       "      <th>Indgående Opkald per dag</th>\n",
       "      <th>Udgående Opkald per dag</th>\n",
       "      <th>Tabte Opkald per dag</th>\n",
       "      <th>Samtale (min) per Opkald</th>\n",
       "      <th>Aktiv/Klar (T) - Samlet per dag</th>\n",
       "      <th>Aktiv/Klar - Samlet</th>\n",
       "      <th>Samtale (T) - per dag</th>\n",
       "      <th>...</th>\n",
       "      <th>Aktiv/Klar - Klar</th>\n",
       "      <th>Administration (T) - per dag</th>\n",
       "      <th>Aktiv/Klar - Admininistrativt</th>\n",
       "      <th>Pause (T) - per dag</th>\n",
       "      <th>Ikke Klar - Pause</th>\n",
       "      <th>ikke klar (T) Andet - per dag</th>\n",
       "      <th>Ikke Klar - Andet</th>\n",
       "      <th>Ukendt/Andet (T) - per dag</th>\n",
       "      <th>In-Ud sum</th>\n",
       "      <th>Period</th>\n",
       "    </tr>\n",
       "  </thead>\n",
       "  <tbody>\n",
       "    <tr>\n",
       "      <td>9</td>\n",
       "      <td>Hafsah Tasneem</td>\n",
       "      <td>45</td>\n",
       "      <td>7.5</td>\n",
       "      <td>73</td>\n",
       "      <td>7</td>\n",
       "      <td>0.2</td>\n",
       "      <td>1.9</td>\n",
       "      <td>6.0</td>\n",
       "      <td>80 %</td>\n",
       "      <td>2.5</td>\n",
       "      <td>...</td>\n",
       "      <td>42.0</td>\n",
       "      <td>0.3</td>\n",
       "      <td>4.0</td>\n",
       "      <td>0.8</td>\n",
       "      <td>11.0</td>\n",
       "      <td>0.5</td>\n",
       "      <td>6.0</td>\n",
       "      <td>0.2</td>\n",
       "      <td>80</td>\n",
       "      <td>Jan2020-March2020</td>\n",
       "    </tr>\n",
       "  </tbody>\n",
       "</table>\n",
       "<p>1 rows × 22 columns</p>\n",
       "</div>"
      ],
      "text/plain": [
       "        AgentName  Login-datoer  Login-timer / dag  Indgående Opkald per dag  \\\n",
       "9  Hafsah Tasneem            45                7.5                        73   \n",
       "\n",
       "   Udgående Opkald per dag  Tabte Opkald per dag  Samtale (min) per Opkald  \\\n",
       "9                        7                   0.2                       1.9   \n",
       "\n",
       "   Aktiv/Klar (T) - Samlet per dag Aktiv/Klar - Samlet  Samtale (T) - per dag  \\\n",
       "9                              6.0                80 %                    2.5   \n",
       "\n",
       "   ...  Aktiv/Klar - Klar  Administration (T) - per dag  \\\n",
       "9  ...               42.0                           0.3   \n",
       "\n",
       "   Aktiv/Klar - Admininistrativt  Pause (T) - per dag  Ikke Klar - Pause  \\\n",
       "9                            4.0                  0.8               11.0   \n",
       "\n",
       "   ikke klar (T) Andet - per dag  Ikke Klar - Andet  \\\n",
       "9                            0.5                6.0   \n",
       "\n",
       "   Ukendt/Andet (T) - per dag  In-Ud sum             Period  \n",
       "9                         0.2         80  Jan2020-March2020  \n",
       "\n",
       "[1 rows x 22 columns]"
      ]
     },
     "execution_count": 82,
     "metadata": {},
     "output_type": "execute_result"
    }
   ],
   "source": [
    "bonus_1st.loc[bonus_1st['AgentName']=='Hafsah Tasneem']"
   ]
  },
  {
   "cell_type": "code",
   "execution_count": 83,
   "metadata": {},
   "outputs": [
    {
     "data": {
      "text/html": [
       "<div>\n",
       "<style scoped>\n",
       "    .dataframe tbody tr th:only-of-type {\n",
       "        vertical-align: middle;\n",
       "    }\n",
       "\n",
       "    .dataframe tbody tr th {\n",
       "        vertical-align: top;\n",
       "    }\n",
       "\n",
       "    .dataframe thead th {\n",
       "        text-align: right;\n",
       "    }\n",
       "</style>\n",
       "<table border=\"1\" class=\"dataframe\">\n",
       "  <thead>\n",
       "    <tr style=\"text-align: right;\">\n",
       "      <th></th>\n",
       "      <th>AgentName</th>\n",
       "      <th>Login-datoer</th>\n",
       "      <th>Login-timer / dag</th>\n",
       "      <th>Indgående Opkald per dag</th>\n",
       "      <th>Udgående Opkald per dag</th>\n",
       "      <th>Tabte Opkald per dag</th>\n",
       "      <th>Samtale (min) per Opkald</th>\n",
       "      <th>Aktiv/Klar (T) - Samlet per dag</th>\n",
       "      <th>Aktiv/Klar - Samlet</th>\n",
       "      <th>Samtale (T) - per dag</th>\n",
       "      <th>...</th>\n",
       "      <th>Aktiv/Klar - Klar</th>\n",
       "      <th>Administration (T) - per dag</th>\n",
       "      <th>Aktiv/Klar - Admininistrativt</th>\n",
       "      <th>Pause (T) - per dag</th>\n",
       "      <th>Ikke Klar - Pause</th>\n",
       "      <th>ikke klar (T) Andet - per dag</th>\n",
       "      <th>Ikke Klar - Andet</th>\n",
       "      <th>Ukendt/Andet (T) - per dag</th>\n",
       "      <th>In-Ud sum</th>\n",
       "      <th>Period</th>\n",
       "    </tr>\n",
       "  </thead>\n",
       "  <tbody>\n",
       "    <tr>\n",
       "      <td>13</td>\n",
       "      <td>Hafsah Tasneem</td>\n",
       "      <td>2</td>\n",
       "      <td>6.2</td>\n",
       "      <td>37</td>\n",
       "      <td>1</td>\n",
       "      <td>0.0</td>\n",
       "      <td>3.4</td>\n",
       "      <td>4.2</td>\n",
       "      <td>69 %</td>\n",
       "      <td>2.1</td>\n",
       "      <td>...</td>\n",
       "      <td>29.0</td>\n",
       "      <td>0.3</td>\n",
       "      <td>5.0</td>\n",
       "      <td>1.0</td>\n",
       "      <td>16.0</td>\n",
       "      <td>0.9</td>\n",
       "      <td>11.0</td>\n",
       "      <td>0.0</td>\n",
       "      <td>38</td>\n",
       "      <td>Nov2019</td>\n",
       "    </tr>\n",
       "    <tr>\n",
       "      <td>11</td>\n",
       "      <td>Hafsah Tasneem</td>\n",
       "      <td>12</td>\n",
       "      <td>7.5</td>\n",
       "      <td>38</td>\n",
       "      <td>3</td>\n",
       "      <td>0.1</td>\n",
       "      <td>3.2</td>\n",
       "      <td>5.6</td>\n",
       "      <td>75 %</td>\n",
       "      <td>2.2</td>\n",
       "      <td>...</td>\n",
       "      <td>38.0</td>\n",
       "      <td>0.5</td>\n",
       "      <td>7.0</td>\n",
       "      <td>0.8</td>\n",
       "      <td>11.0</td>\n",
       "      <td>1.0</td>\n",
       "      <td>13.0</td>\n",
       "      <td>0.1</td>\n",
       "      <td>41</td>\n",
       "      <td>Dec2019</td>\n",
       "    </tr>\n",
       "    <tr>\n",
       "      <td>9</td>\n",
       "      <td>Hafsah Tasneem</td>\n",
       "      <td>21</td>\n",
       "      <td>7.8</td>\n",
       "      <td>74</td>\n",
       "      <td>8</td>\n",
       "      <td>0.1</td>\n",
       "      <td>2.3</td>\n",
       "      <td>6.0</td>\n",
       "      <td>78 %</td>\n",
       "      <td>3.1</td>\n",
       "      <td>...</td>\n",
       "      <td>34.0</td>\n",
       "      <td>0.3</td>\n",
       "      <td>4.0</td>\n",
       "      <td>0.9</td>\n",
       "      <td>12.0</td>\n",
       "      <td>0.6</td>\n",
       "      <td>7.0</td>\n",
       "      <td>0.2</td>\n",
       "      <td>82</td>\n",
       "      <td>Jan2020</td>\n",
       "    </tr>\n",
       "    <tr>\n",
       "      <td>1</td>\n",
       "      <td>Hafsah Tasneem</td>\n",
       "      <td>15</td>\n",
       "      <td>7.0</td>\n",
       "      <td>69</td>\n",
       "      <td>7</td>\n",
       "      <td>0.3</td>\n",
       "      <td>1.7</td>\n",
       "      <td>5.7</td>\n",
       "      <td>81 %</td>\n",
       "      <td>2.1</td>\n",
       "      <td>...</td>\n",
       "      <td>47.0</td>\n",
       "      <td>0.3</td>\n",
       "      <td>4.0</td>\n",
       "      <td>0.7</td>\n",
       "      <td>10.0</td>\n",
       "      <td>0.5</td>\n",
       "      <td>6.0</td>\n",
       "      <td>0.1</td>\n",
       "      <td>76</td>\n",
       "      <td>Feb2020</td>\n",
       "    </tr>\n",
       "    <tr>\n",
       "      <td>9</td>\n",
       "      <td>Hafsah Tasneem</td>\n",
       "      <td>9</td>\n",
       "      <td>7.5</td>\n",
       "      <td>78</td>\n",
       "      <td>7</td>\n",
       "      <td>0.4</td>\n",
       "      <td>1.5</td>\n",
       "      <td>6.2</td>\n",
       "      <td>83 %</td>\n",
       "      <td>2.1</td>\n",
       "      <td>...</td>\n",
       "      <td>53.0</td>\n",
       "      <td>0.2</td>\n",
       "      <td>2.0</td>\n",
       "      <td>0.8</td>\n",
       "      <td>10.0</td>\n",
       "      <td>0.3</td>\n",
       "      <td>4.0</td>\n",
       "      <td>0.2</td>\n",
       "      <td>85</td>\n",
       "      <td>March2020</td>\n",
       "    </tr>\n",
       "    <tr>\n",
       "      <td>7</td>\n",
       "      <td>Hafsah Tasneem</td>\n",
       "      <td>9</td>\n",
       "      <td>8.0</td>\n",
       "      <td>106</td>\n",
       "      <td>8</td>\n",
       "      <td>0.1</td>\n",
       "      <td>2.0</td>\n",
       "      <td>6.6</td>\n",
       "      <td>83 %</td>\n",
       "      <td>3.7</td>\n",
       "      <td>...</td>\n",
       "      <td>32.0</td>\n",
       "      <td>0.3</td>\n",
       "      <td>4.0</td>\n",
       "      <td>0.7</td>\n",
       "      <td>9.0</td>\n",
       "      <td>0.6</td>\n",
       "      <td>6.0</td>\n",
       "      <td>0.1</td>\n",
       "      <td>114</td>\n",
       "      <td>April2020</td>\n",
       "    </tr>\n",
       "    <tr>\n",
       "      <td>10</td>\n",
       "      <td>Hafsah Tasneem</td>\n",
       "      <td>14</td>\n",
       "      <td>7.3</td>\n",
       "      <td>84</td>\n",
       "      <td>9</td>\n",
       "      <td>0.6</td>\n",
       "      <td>2.0</td>\n",
       "      <td>5.5</td>\n",
       "      <td>76 %</td>\n",
       "      <td>3.1</td>\n",
       "      <td>...</td>\n",
       "      <td>26.0</td>\n",
       "      <td>0.6</td>\n",
       "      <td>8.0</td>\n",
       "      <td>0.7</td>\n",
       "      <td>10.0</td>\n",
       "      <td>0.9</td>\n",
       "      <td>5.0</td>\n",
       "      <td>0.1</td>\n",
       "      <td>93</td>\n",
       "      <td>May2020</td>\n",
       "    </tr>\n",
       "  </tbody>\n",
       "</table>\n",
       "<p>7 rows × 22 columns</p>\n",
       "</div>"
      ],
      "text/plain": [
       "         AgentName  Login-datoer  Login-timer / dag  Indgående Opkald per dag  \\\n",
       "13  Hafsah Tasneem             2                6.2                        37   \n",
       "11  Hafsah Tasneem            12                7.5                        38   \n",
       "9   Hafsah Tasneem            21                7.8                        74   \n",
       "1   Hafsah Tasneem            15                7.0                        69   \n",
       "9   Hafsah Tasneem             9                7.5                        78   \n",
       "7   Hafsah Tasneem             9                8.0                       106   \n",
       "10  Hafsah Tasneem            14                7.3                        84   \n",
       "\n",
       "    Udgående Opkald per dag  Tabte Opkald per dag  Samtale (min) per Opkald  \\\n",
       "13                        1                   0.0                       3.4   \n",
       "11                        3                   0.1                       3.2   \n",
       "9                         8                   0.1                       2.3   \n",
       "1                         7                   0.3                       1.7   \n",
       "9                         7                   0.4                       1.5   \n",
       "7                         8                   0.1                       2.0   \n",
       "10                        9                   0.6                       2.0   \n",
       "\n",
       "    Aktiv/Klar (T) - Samlet per dag Aktiv/Klar - Samlet  \\\n",
       "13                              4.2                69 %   \n",
       "11                              5.6                75 %   \n",
       "9                               6.0                78 %   \n",
       "1                               5.7                81 %   \n",
       "9                               6.2                83 %   \n",
       "7                               6.6                83 %   \n",
       "10                              5.5                76 %   \n",
       "\n",
       "    Samtale (T) - per dag  ...  Aktiv/Klar - Klar  \\\n",
       "13                    2.1  ...               29.0   \n",
       "11                    2.2  ...               38.0   \n",
       "9                     3.1  ...               34.0   \n",
       "1                     2.1  ...               47.0   \n",
       "9                     2.1  ...               53.0   \n",
       "7                     3.7  ...               32.0   \n",
       "10                    3.1  ...               26.0   \n",
       "\n",
       "    Administration (T) - per dag  Aktiv/Klar - Admininistrativt  \\\n",
       "13                           0.3                            5.0   \n",
       "11                           0.5                            7.0   \n",
       "9                            0.3                            4.0   \n",
       "1                            0.3                            4.0   \n",
       "9                            0.2                            2.0   \n",
       "7                            0.3                            4.0   \n",
       "10                           0.6                            8.0   \n",
       "\n",
       "    Pause (T) - per dag  Ikke Klar - Pause  ikke klar (T) Andet - per dag  \\\n",
       "13                  1.0               16.0                            0.9   \n",
       "11                  0.8               11.0                            1.0   \n",
       "9                   0.9               12.0                            0.6   \n",
       "1                   0.7               10.0                            0.5   \n",
       "9                   0.8               10.0                            0.3   \n",
       "7                   0.7                9.0                            0.6   \n",
       "10                  0.7               10.0                            0.9   \n",
       "\n",
       "    Ikke Klar - Andet  Ukendt/Andet (T) - per dag  In-Ud sum     Period  \n",
       "13               11.0                         0.0         38    Nov2019  \n",
       "11               13.0                         0.1         41    Dec2019  \n",
       "9                 7.0                         0.2         82    Jan2020  \n",
       "1                 6.0                         0.1         76    Feb2020  \n",
       "9                 4.0                         0.2         85  March2020  \n",
       "7                 6.0                         0.1        114  April2020  \n",
       "10                5.0                         0.1         93    May2020  \n",
       "\n",
       "[7 rows x 22 columns]"
      ]
     },
     "execution_count": 83,
     "metadata": {},
     "output_type": "execute_result"
    }
   ],
   "source": [
    "ag='Hafsah Tasneem'\n",
    "a=[]\n",
    "for i in monthsList:\n",
    "    a.append(i.loc[i['AgentName']==ag])\n",
    "ab=pd.concat(a)\n",
    "ab"
   ]
  },
  {
   "cell_type": "code",
   "execution_count": 84,
   "metadata": {},
   "outputs": [],
   "source": [
    "ab=ab[['Period','In-Ud sum','Indgående Opkald per dag', 'Udgående Opkald per dag',\n",
    "    'Samtale (min) per Opkald',\n",
    "       'Aktiv/Klar (T) - Samlet per dag',\n",
    "       'Samtale (T) - per dag', 'Klar (T) - per dag',\n",
    "        'Administration (T) - per dag', 'Pause (T) - per dag',\n",
    "       'ikke klar (T) Andet - per dag' ]]\n",
    "ab=ab.rename({'In-Ud sum': 'In-Ud-sum'}, axis=1)\n",
    "ab=ab.rename({'Indgående Opkald per dag': 'Indgaende-Opkald-per-dag'}, axis=1)\n",
    "ab=ab.rename({'Udgående Opkald per dag': 'Udgaende-Opkald-per-dag'}, axis=1)"
   ]
  },
  {
   "cell_type": "code",
   "execution_count": 85,
   "metadata": {},
   "outputs": [
    {
     "data": {
      "text/html": [
       "<div>\n",
       "<style scoped>\n",
       "    .dataframe tbody tr th:only-of-type {\n",
       "        vertical-align: middle;\n",
       "    }\n",
       "\n",
       "    .dataframe tbody tr th {\n",
       "        vertical-align: top;\n",
       "    }\n",
       "\n",
       "    .dataframe thead th {\n",
       "        text-align: right;\n",
       "    }\n",
       "</style>\n",
       "<table border=\"1\" class=\"dataframe\">\n",
       "  <thead>\n",
       "    <tr style=\"text-align: right;\">\n",
       "      <th></th>\n",
       "      <th>Period</th>\n",
       "      <th>In-Ud-sum</th>\n",
       "      <th>Indgaende-Opkald-per-dag</th>\n",
       "      <th>Udgaende-Opkald-per-dag</th>\n",
       "      <th>Samtale (min) per Opkald</th>\n",
       "      <th>Aktiv/Klar (T) - Samlet per dag</th>\n",
       "      <th>Samtale (T) - per dag</th>\n",
       "      <th>Klar (T) - per dag</th>\n",
       "      <th>Administration (T) - per dag</th>\n",
       "      <th>Pause (T) - per dag</th>\n",
       "      <th>ikke klar (T) Andet - per dag</th>\n",
       "    </tr>\n",
       "  </thead>\n",
       "  <tbody>\n",
       "    <tr>\n",
       "      <td>13</td>\n",
       "      <td>Nov2019</td>\n",
       "      <td>38</td>\n",
       "      <td>37</td>\n",
       "      <td>1</td>\n",
       "      <td>3.4</td>\n",
       "      <td>4.2</td>\n",
       "      <td>2.1</td>\n",
       "      <td>1.8</td>\n",
       "      <td>0.3</td>\n",
       "      <td>1.0</td>\n",
       "      <td>0.9</td>\n",
       "    </tr>\n",
       "    <tr>\n",
       "      <td>11</td>\n",
       "      <td>Dec2019</td>\n",
       "      <td>41</td>\n",
       "      <td>38</td>\n",
       "      <td>3</td>\n",
       "      <td>3.2</td>\n",
       "      <td>5.6</td>\n",
       "      <td>2.2</td>\n",
       "      <td>2.8</td>\n",
       "      <td>0.5</td>\n",
       "      <td>0.8</td>\n",
       "      <td>1.0</td>\n",
       "    </tr>\n",
       "    <tr>\n",
       "      <td>9</td>\n",
       "      <td>Jan2020</td>\n",
       "      <td>82</td>\n",
       "      <td>74</td>\n",
       "      <td>8</td>\n",
       "      <td>2.3</td>\n",
       "      <td>6.0</td>\n",
       "      <td>3.1</td>\n",
       "      <td>2.6</td>\n",
       "      <td>0.3</td>\n",
       "      <td>0.9</td>\n",
       "      <td>0.6</td>\n",
       "    </tr>\n",
       "    <tr>\n",
       "      <td>1</td>\n",
       "      <td>Feb2020</td>\n",
       "      <td>76</td>\n",
       "      <td>69</td>\n",
       "      <td>7</td>\n",
       "      <td>1.7</td>\n",
       "      <td>5.7</td>\n",
       "      <td>2.1</td>\n",
       "      <td>3.3</td>\n",
       "      <td>0.3</td>\n",
       "      <td>0.7</td>\n",
       "      <td>0.5</td>\n",
       "    </tr>\n",
       "    <tr>\n",
       "      <td>9</td>\n",
       "      <td>March2020</td>\n",
       "      <td>85</td>\n",
       "      <td>78</td>\n",
       "      <td>7</td>\n",
       "      <td>1.5</td>\n",
       "      <td>6.2</td>\n",
       "      <td>2.1</td>\n",
       "      <td>4.0</td>\n",
       "      <td>0.2</td>\n",
       "      <td>0.8</td>\n",
       "      <td>0.3</td>\n",
       "    </tr>\n",
       "    <tr>\n",
       "      <td>7</td>\n",
       "      <td>April2020</td>\n",
       "      <td>114</td>\n",
       "      <td>106</td>\n",
       "      <td>8</td>\n",
       "      <td>2.0</td>\n",
       "      <td>6.6</td>\n",
       "      <td>3.7</td>\n",
       "      <td>2.6</td>\n",
       "      <td>0.3</td>\n",
       "      <td>0.7</td>\n",
       "      <td>0.6</td>\n",
       "    </tr>\n",
       "    <tr>\n",
       "      <td>10</td>\n",
       "      <td>May2020</td>\n",
       "      <td>93</td>\n",
       "      <td>84</td>\n",
       "      <td>9</td>\n",
       "      <td>2.0</td>\n",
       "      <td>5.5</td>\n",
       "      <td>3.1</td>\n",
       "      <td>1.9</td>\n",
       "      <td>0.6</td>\n",
       "      <td>0.7</td>\n",
       "      <td>0.9</td>\n",
       "    </tr>\n",
       "  </tbody>\n",
       "</table>\n",
       "</div>"
      ],
      "text/plain": [
       "       Period  In-Ud-sum  Indgaende-Opkald-per-dag  Udgaende-Opkald-per-dag  \\\n",
       "13    Nov2019         38                        37                        1   \n",
       "11    Dec2019         41                        38                        3   \n",
       "9     Jan2020         82                        74                        8   \n",
       "1     Feb2020         76                        69                        7   \n",
       "9   March2020         85                        78                        7   \n",
       "7   April2020        114                       106                        8   \n",
       "10    May2020         93                        84                        9   \n",
       "\n",
       "    Samtale (min) per Opkald  Aktiv/Klar (T) - Samlet per dag  \\\n",
       "13                       3.4                              4.2   \n",
       "11                       3.2                              5.6   \n",
       "9                        2.3                              6.0   \n",
       "1                        1.7                              5.7   \n",
       "9                        1.5                              6.2   \n",
       "7                        2.0                              6.6   \n",
       "10                       2.0                              5.5   \n",
       "\n",
       "    Samtale (T) - per dag  Klar (T) - per dag  Administration (T) - per dag  \\\n",
       "13                    2.1                 1.8                           0.3   \n",
       "11                    2.2                 2.8                           0.5   \n",
       "9                     3.1                 2.6                           0.3   \n",
       "1                     2.1                 3.3                           0.3   \n",
       "9                     2.1                 4.0                           0.2   \n",
       "7                     3.7                 2.6                           0.3   \n",
       "10                    3.1                 1.9                           0.6   \n",
       "\n",
       "    Pause (T) - per dag  ikke klar (T) Andet - per dag  \n",
       "13                  1.0                            0.9  \n",
       "11                  0.8                            1.0  \n",
       "9                   0.9                            0.6  \n",
       "1                   0.7                            0.5  \n",
       "9                   0.8                            0.3  \n",
       "7                   0.7                            0.6  \n",
       "10                  0.7                            0.9  "
      ]
     },
     "execution_count": 85,
     "metadata": {},
     "output_type": "execute_result"
    }
   ],
   "source": [
    "ab"
   ]
  },
  {
   "cell_type": "code",
   "execution_count": 86,
   "metadata": {},
   "outputs": [],
   "source": [
    "ab.to_csv(ag+'_pd_Monthlydata.csv',index = True)"
   ]
  },
  {
   "cell_type": "code",
   "execution_count": 87,
   "metadata": {},
   "outputs": [],
   "source": [
    "def get_all_monthly(ag) :   \n",
    "    a=[]\n",
    "    for i in monthsList:\n",
    "        a.append(i.loc[i['AgentName']==ag])\n",
    "    ab=pd.concat(a)\n",
    "    ab=ab[['Period','In-Ud sum','Indgående Opkald per dag', 'Udgående Opkald per dag',\n",
    "    'Samtale (min) per Opkald',\n",
    "       'Aktiv/Klar (T) - Samlet per dag',\n",
    "       'Samtale (T) - per dag', 'Klar (T) - per dag',\n",
    "        'Administration (T) - per dag', 'Pause (T) - per dag',\n",
    "       'ikke klar (T) Andet - per dag' ]]\n",
    "    ab=ab.rename({'In-Ud sum': 'In-Ud-sum'}, axis=1)\n",
    "    ab=ab.rename({'Indgående Opkald per dag': 'Indgaende-Opkald-per-dag'}, axis=1)\n",
    "    ab=ab.rename({'Udgående Opkald per dag': 'Udgaende-Opkald-per-dag'}, axis=1)\n",
    "    ab.to_csv(ag+'_pd_Monthlydata.csv',index = True)"
   ]
  },
  {
   "cell_type": "code",
   "execution_count": 88,
   "metadata": {},
   "outputs": [],
   "source": [
    "pie_data_coloumn=['Period','Aktiv/Klar - Samtale','Aktiv/Klar - Klar','Aktiv/Klar - Admininistrativt','Ikke Klar - Pause','Ikke Klar - Andet']"
   ]
  },
  {
   "cell_type": "code",
   "execution_count": 89,
   "metadata": {},
   "outputs": [],
   "source": [
    "chart_data_coloumn=['Period','In-Ud sum','Indgående Opkald per dag', 'Udgående Opkald per dag',\n",
    "    'Samtale (min) per Opkald',\n",
    "       'Aktiv/Klar (T) - Samlet per dag',\n",
    "       'Samtale (T) - per dag', 'Klar (T) - per dag',\n",
    "        'Administration (T) - per dag', 'Pause (T) - per dag',\n",
    "       'ikke klar (T) Andet - per dag' ]"
   ]
  },
  {
   "cell_type": "code",
   "execution_count": 90,
   "metadata": {},
   "outputs": [],
   "source": [
    "def get_pie_data_monthly(ag):\n",
    "    a=[]\n",
    "    for i in monthsList:\n",
    "        a.append(i.loc[i['AgentName']==ag])\n",
    "    ab=pd.concat(a)\n",
    "    ab=ab[pie_data_coloumn]\n",
    "    ab.to_csv(ag+'_pd_pieMonthlydata.csv',index = True)\n",
    "    return ab\n",
    "\n",
    "def get_pie_data_bonus(ag,df,title):\n",
    "    bonusdf=df\n",
    "    temp=bonusdf.loc[bonusdf['AgentName']==ag]\n",
    "    cols=pie_data_coloumn[1:]\n",
    "    temp=temp[cols]\n",
    "    temp.to_csv(ag+'_'+title+'_pd_pieBonusdata.csv',index = True)\n",
    "    return temp\n",
    "\n",
    "def get_bonus_data(ag,df,title):\n",
    "    bonusdf=df\n",
    "    temp=bonusdf.loc[bonusdf['AgentName']==ag]\n",
    "    cols=chart_data_coloumn\n",
    "    temp=temp[cols]\n",
    "    temp.to_csv(ag+'_'+title+'_pd_chartBonusdata.csv',index = True)\n",
    "    return temp"
   ]
  },
  {
   "cell_type": "code",
   "execution_count": 91,
   "metadata": {},
   "outputs": [
    {
     "data": {
      "text/html": [
       "<div>\n",
       "<style scoped>\n",
       "    .dataframe tbody tr th:only-of-type {\n",
       "        vertical-align: middle;\n",
       "    }\n",
       "\n",
       "    .dataframe tbody tr th {\n",
       "        vertical-align: top;\n",
       "    }\n",
       "\n",
       "    .dataframe thead th {\n",
       "        text-align: right;\n",
       "    }\n",
       "</style>\n",
       "<table border=\"1\" class=\"dataframe\">\n",
       "  <thead>\n",
       "    <tr style=\"text-align: right;\">\n",
       "      <th></th>\n",
       "      <th>Period</th>\n",
       "      <th>Aktiv/Klar - Samtale</th>\n",
       "      <th>Aktiv/Klar - Klar</th>\n",
       "      <th>Aktiv/Klar - Admininistrativt</th>\n",
       "      <th>Ikke Klar - Pause</th>\n",
       "      <th>Ikke Klar - Andet</th>\n",
       "    </tr>\n",
       "  </thead>\n",
       "  <tbody>\n",
       "    <tr>\n",
       "      <td>13</td>\n",
       "      <td>Nov2019</td>\n",
       "      <td>34.0</td>\n",
       "      <td>29.0</td>\n",
       "      <td>5.0</td>\n",
       "      <td>16.0</td>\n",
       "      <td>11.0</td>\n",
       "    </tr>\n",
       "    <tr>\n",
       "      <td>11</td>\n",
       "      <td>Dec2019</td>\n",
       "      <td>30.0</td>\n",
       "      <td>38.0</td>\n",
       "      <td>7.0</td>\n",
       "      <td>11.0</td>\n",
       "      <td>13.0</td>\n",
       "    </tr>\n",
       "    <tr>\n",
       "      <td>9</td>\n",
       "      <td>Jan2020</td>\n",
       "      <td>39.0</td>\n",
       "      <td>34.0</td>\n",
       "      <td>4.0</td>\n",
       "      <td>12.0</td>\n",
       "      <td>7.0</td>\n",
       "    </tr>\n",
       "    <tr>\n",
       "      <td>1</td>\n",
       "      <td>Feb2020</td>\n",
       "      <td>30.0</td>\n",
       "      <td>47.0</td>\n",
       "      <td>4.0</td>\n",
       "      <td>10.0</td>\n",
       "      <td>6.0</td>\n",
       "    </tr>\n",
       "    <tr>\n",
       "      <td>9</td>\n",
       "      <td>March2020</td>\n",
       "      <td>28.0</td>\n",
       "      <td>53.0</td>\n",
       "      <td>2.0</td>\n",
       "      <td>10.0</td>\n",
       "      <td>4.0</td>\n",
       "    </tr>\n",
       "    <tr>\n",
       "      <td>7</td>\n",
       "      <td>April2020</td>\n",
       "      <td>46.0</td>\n",
       "      <td>32.0</td>\n",
       "      <td>4.0</td>\n",
       "      <td>9.0</td>\n",
       "      <td>6.0</td>\n",
       "    </tr>\n",
       "    <tr>\n",
       "      <td>10</td>\n",
       "      <td>May2020</td>\n",
       "      <td>43.0</td>\n",
       "      <td>26.0</td>\n",
       "      <td>8.0</td>\n",
       "      <td>10.0</td>\n",
       "      <td>5.0</td>\n",
       "    </tr>\n",
       "  </tbody>\n",
       "</table>\n",
       "</div>"
      ],
      "text/plain": [
       "       Period  Aktiv/Klar - Samtale  Aktiv/Klar - Klar  \\\n",
       "13    Nov2019                  34.0               29.0   \n",
       "11    Dec2019                  30.0               38.0   \n",
       "9     Jan2020                  39.0               34.0   \n",
       "1     Feb2020                  30.0               47.0   \n",
       "9   March2020                  28.0               53.0   \n",
       "7   April2020                  46.0               32.0   \n",
       "10    May2020                  43.0               26.0   \n",
       "\n",
       "    Aktiv/Klar - Admininistrativt  Ikke Klar - Pause  Ikke Klar - Andet  \n",
       "13                            5.0               16.0               11.0  \n",
       "11                            7.0               11.0               13.0  \n",
       "9                             4.0               12.0                7.0  \n",
       "1                             4.0               10.0                6.0  \n",
       "9                             2.0               10.0                4.0  \n",
       "7                             4.0                9.0                6.0  \n",
       "10                            8.0               10.0                5.0  "
      ]
     },
     "execution_count": 91,
     "metadata": {},
     "output_type": "execute_result"
    }
   ],
   "source": [
    "get_pie_data_monthly(ag)"
   ]
  },
  {
   "cell_type": "code",
   "execution_count": 92,
   "metadata": {},
   "outputs": [
    {
     "data": {
      "text/html": [
       "<div>\n",
       "<style scoped>\n",
       "    .dataframe tbody tr th:only-of-type {\n",
       "        vertical-align: middle;\n",
       "    }\n",
       "\n",
       "    .dataframe tbody tr th {\n",
       "        vertical-align: top;\n",
       "    }\n",
       "\n",
       "    .dataframe thead th {\n",
       "        text-align: right;\n",
       "    }\n",
       "</style>\n",
       "<table border=\"1\" class=\"dataframe\">\n",
       "  <thead>\n",
       "    <tr style=\"text-align: right;\">\n",
       "      <th></th>\n",
       "      <th>Period</th>\n",
       "      <th>In-Ud sum</th>\n",
       "      <th>Indgående Opkald per dag</th>\n",
       "      <th>Udgående Opkald per dag</th>\n",
       "      <th>Samtale (min) per Opkald</th>\n",
       "      <th>Aktiv/Klar (T) - Samlet per dag</th>\n",
       "      <th>Samtale (T) - per dag</th>\n",
       "      <th>Klar (T) - per dag</th>\n",
       "      <th>Administration (T) - per dag</th>\n",
       "      <th>Pause (T) - per dag</th>\n",
       "      <th>ikke klar (T) Andet - per dag</th>\n",
       "    </tr>\n",
       "  </thead>\n",
       "  <tbody>\n",
       "    <tr>\n",
       "      <td>10</td>\n",
       "      <td>April2020-June2020</td>\n",
       "      <td>102</td>\n",
       "      <td>93</td>\n",
       "      <td>9</td>\n",
       "      <td>2.0</td>\n",
       "      <td>6.0</td>\n",
       "      <td>3.3</td>\n",
       "      <td>2.2</td>\n",
       "      <td>0.5</td>\n",
       "      <td>0.7</td>\n",
       "      <td>0.8</td>\n",
       "    </tr>\n",
       "  </tbody>\n",
       "</table>\n",
       "</div>"
      ],
      "text/plain": [
       "                Period  In-Ud sum  Indgående Opkald per dag  \\\n",
       "10  April2020-June2020        102                        93   \n",
       "\n",
       "    Udgående Opkald per dag  Samtale (min) per Opkald  \\\n",
       "10                        9                       2.0   \n",
       "\n",
       "    Aktiv/Klar (T) - Samlet per dag  Samtale (T) - per dag  \\\n",
       "10                              6.0                    3.3   \n",
       "\n",
       "    Klar (T) - per dag  Administration (T) - per dag  Pause (T) - per dag  \\\n",
       "10                 2.2                           0.5                  0.7   \n",
       "\n",
       "    ikke klar (T) Andet - per dag  \n",
       "10                            0.8  "
      ]
     },
     "execution_count": 92,
     "metadata": {},
     "output_type": "execute_result"
    }
   ],
   "source": [
    "get_bonus_data(ag,bonus_2nd,'Q2')"
   ]
  },
  {
   "cell_type": "code",
   "execution_count": 93,
   "metadata": {},
   "outputs": [
    {
     "data": {
      "text/html": [
       "<div>\n",
       "<style scoped>\n",
       "    .dataframe tbody tr th:only-of-type {\n",
       "        vertical-align: middle;\n",
       "    }\n",
       "\n",
       "    .dataframe tbody tr th {\n",
       "        vertical-align: top;\n",
       "    }\n",
       "\n",
       "    .dataframe thead th {\n",
       "        text-align: right;\n",
       "    }\n",
       "</style>\n",
       "<table border=\"1\" class=\"dataframe\">\n",
       "  <thead>\n",
       "    <tr style=\"text-align: right;\">\n",
       "      <th></th>\n",
       "      <th>Aktiv/Klar - Samtale</th>\n",
       "      <th>Aktiv/Klar - Klar</th>\n",
       "      <th>Aktiv/Klar - Admininistrativt</th>\n",
       "      <th>Ikke Klar - Pause</th>\n",
       "      <th>Ikke Klar - Andet</th>\n",
       "    </tr>\n",
       "  </thead>\n",
       "  <tbody>\n",
       "    <tr>\n",
       "      <td>10</td>\n",
       "      <td>44.0</td>\n",
       "      <td>29.0</td>\n",
       "      <td>6.0</td>\n",
       "      <td>9.0</td>\n",
       "      <td>5.0</td>\n",
       "    </tr>\n",
       "  </tbody>\n",
       "</table>\n",
       "</div>"
      ],
      "text/plain": [
       "    Aktiv/Klar - Samtale  Aktiv/Klar - Klar  Aktiv/Klar - Admininistrativt  \\\n",
       "10                  44.0               29.0                            6.0   \n",
       "\n",
       "    Ikke Klar - Pause  Ikke Klar - Andet  \n",
       "10                9.0                5.0  "
      ]
     },
     "execution_count": 93,
     "metadata": {},
     "output_type": "execute_result"
    }
   ],
   "source": [
    "get_pie_data_bonus(ag,bonus_2nd,'Q2')"
   ]
  },
  {
   "cell_type": "code",
   "execution_count": 94,
   "metadata": {},
   "outputs": [],
   "source": [
    "test=pd.read_csv(\"for_bonus-daily-data-4.csv\", sep=',',decimal=\",\")"
   ]
  },
  {
   "cell_type": "code",
   "execution_count": 95,
   "metadata": {},
   "outputs": [
    {
     "data": {
      "text/html": [
       "<div>\n",
       "<style scoped>\n",
       "    .dataframe tbody tr th:only-of-type {\n",
       "        vertical-align: middle;\n",
       "    }\n",
       "\n",
       "    .dataframe tbody tr th {\n",
       "        vertical-align: top;\n",
       "    }\n",
       "\n",
       "    .dataframe thead th {\n",
       "        text-align: right;\n",
       "    }\n",
       "</style>\n",
       "<table border=\"1\" class=\"dataframe\">\n",
       "  <thead>\n",
       "    <tr style=\"text-align: right;\">\n",
       "      <th></th>\n",
       "      <th>AgentName</th>\n",
       "      <th>Month</th>\n",
       "      <th>Day</th>\n",
       "      <th>IndgaendeOpkaldperdag</th>\n",
       "      <th>Udgående Opkald per dag</th>\n",
       "      <th>Tid - Admin per dag (H)</th>\n",
       "      <th>Tid - Pause per dag (H)</th>\n",
       "    </tr>\n",
       "  </thead>\n",
       "  <tbody>\n",
       "    <tr>\n",
       "      <td>0</td>\n",
       "      <td>Anne Sylvester Walters</td>\n",
       "      <td>January</td>\n",
       "      <td>2</td>\n",
       "      <td>27</td>\n",
       "      <td>8</td>\n",
       "      <td>2.4</td>\n",
       "      <td>0.5</td>\n",
       "    </tr>\n",
       "    <tr>\n",
       "      <td>1</td>\n",
       "      <td>Anne Sylvester Walters</td>\n",
       "      <td>January</td>\n",
       "      <td>3</td>\n",
       "      <td>12</td>\n",
       "      <td>12</td>\n",
       "      <td>3.4</td>\n",
       "      <td>0.5</td>\n",
       "    </tr>\n",
       "    <tr>\n",
       "      <td>2</td>\n",
       "      <td>Anne Sylvester Walters</td>\n",
       "      <td>January</td>\n",
       "      <td>6</td>\n",
       "      <td>21</td>\n",
       "      <td>16</td>\n",
       "      <td>3.2</td>\n",
       "      <td>0.6</td>\n",
       "    </tr>\n",
       "    <tr>\n",
       "      <td>3</td>\n",
       "      <td>Anne Sylvester Walters</td>\n",
       "      <td>January</td>\n",
       "      <td>7</td>\n",
       "      <td>22</td>\n",
       "      <td>26</td>\n",
       "      <td>2.2</td>\n",
       "      <td>0.6</td>\n",
       "    </tr>\n",
       "    <tr>\n",
       "      <td>4</td>\n",
       "      <td>Anne Sylvester Walters</td>\n",
       "      <td>January</td>\n",
       "      <td>8</td>\n",
       "      <td>35</td>\n",
       "      <td>17</td>\n",
       "      <td>2.0</td>\n",
       "      <td>0.5</td>\n",
       "    </tr>\n",
       "  </tbody>\n",
       "</table>\n",
       "</div>"
      ],
      "text/plain": [
       "                AgentName    Month  Day  IndgaendeOpkaldperdag  \\\n",
       "0  Anne Sylvester Walters  January    2                     27   \n",
       "1  Anne Sylvester Walters  January    3                     12   \n",
       "2  Anne Sylvester Walters  January    6                     21   \n",
       "3  Anne Sylvester Walters  January    7                     22   \n",
       "4  Anne Sylvester Walters  January    8                     35   \n",
       "\n",
       "   Udgående Opkald per dag Tid - Admin per dag (H) Tid - Pause per dag (H)  \n",
       "0                        8                     2.4                     0.5  \n",
       "1                       12                     3.4                     0.5  \n",
       "2                       16                     3.2                     0.6  \n",
       "3                       26                     2.2                     0.6  \n",
       "4                       17                     2.0                     0.5  "
      ]
     },
     "execution_count": 95,
     "metadata": {},
     "output_type": "execute_result"
    }
   ],
   "source": [
    "test.head(5)"
   ]
  },
  {
   "cell_type": "code",
   "execution_count": 96,
   "metadata": {},
   "outputs": [],
   "source": [
    "test['Tid - Admin per dag (H)']=test['Tid - Admin per dag (H)'].astype(float)\n",
    "test['Tid - Pause per dag (H)']=test['Tid - Pause per dag (H)'].astype(float)"
   ]
  },
  {
   "cell_type": "code",
   "execution_count": 97,
   "metadata": {},
   "outputs": [
    {
     "data": {
      "text/plain": [
       "AgentName                   object\n",
       "Month                       object\n",
       "Day                          int64\n",
       "IndgaendeOpkaldperdag        int64\n",
       "Udgående Opkald per dag      int64\n",
       "Tid - Admin per dag (H)    float64\n",
       "Tid - Pause per dag (H)    float64\n",
       "dtype: object"
      ]
     },
     "execution_count": 97,
     "metadata": {},
     "output_type": "execute_result"
    }
   ],
   "source": [
    "test.dtypes"
   ]
  },
  {
   "cell_type": "code",
   "execution_count": 98,
   "metadata": {},
   "outputs": [],
   "source": [
    "hafsah=test.loc[test['AgentName']=='Hafsah Tasneem']"
   ]
  },
  {
   "cell_type": "code",
   "execution_count": null,
   "metadata": {},
   "outputs": [],
   "source": []
  },
  {
   "cell_type": "code",
   "execution_count": 99,
   "metadata": {},
   "outputs": [
    {
     "data": {
      "text/plain": [
       "73.76190476190476"
      ]
     },
     "execution_count": 99,
     "metadata": {},
     "output_type": "execute_result"
    }
   ],
   "source": [
    "(hafsah['IndgaendeOpkaldperdag'].sum()/len(hafsah))"
   ]
  },
  {
   "cell_type": "markdown",
   "metadata": {},
   "source": [
    "# Post Covid break"
   ]
  },
  {
   "cell_type": "code",
   "execution_count": 100,
   "metadata": {},
   "outputs": [],
   "source": [
    "#Updated\n",
    "def whatsmystatus(agent):\n",
    "    temp=bonus_1st.loc[bonus_1st['AgentName']==agent]\n",
    "    if agent in phy_therapist:\n",
    "        val1=temp[['Indgående Opkald per dag']].values.tolist()[0][0]\n",
    "        val2=temp[['Udgående Opkald per dag']].values.tolist()[0][0]\n",
    "        val=val1+val2\n",
    "    elif agent in bk_assistant:\n",
    "        val=temp[['Indgående Opkald per dag']].values.tolist()[0][0]\n",
    "    \n",
    "    return int(val)"
   ]
  },
  {
   "cell_type": "code",
   "execution_count": 101,
   "metadata": {},
   "outputs": [],
   "source": [
    "def correct_list_of_eligible_bonus(df):\n",
    "    bonus_1st=df\n",
    "    temp_thp=bonus_1st.loc[bonus_1st['AgentName'].isin(phy_therapist)][['AgentName','In-Ud sum']]\n",
    "    temp_thp=temp_thp.sort_values('In-Ud sum',ascending=False)\n",
    "    temp_thp=temp_thp.loc[temp_thp['In-Ud sum']>=40]\n",
    "    temp_thp['KPI']=40\n",
    "    temp_thp=temp_thp.rename({'In-Ud sum': 'Achieved KPI'}, axis=1)\n",
    "    \n",
    "    temp_bk=bonus_1st.loc[bonus_1st['AgentName'].isin(bk_assistant)][['AgentName','Indgående Opkald per dag']]\n",
    "    temp_bk=temp_bk.sort_values('Indgående Opkald per dag',ascending=False)\n",
    "    temp_bk=temp_bk.loc[temp_bk['Indgående Opkald per dag']>=75]\n",
    "    temp_bk['KPI']=75\n",
    "    temp_bk=temp_bk.rename({'Indgående Opkald per dag': 'Achieved KPI'}, axis=1)\n",
    "    frames = [temp_bk, temp_thp]\n",
    "    result = pd.concat(frames,sort='false')\n",
    "    return result"
   ]
  },
  {
   "cell_type": "code",
   "execution_count": 102,
   "metadata": {},
   "outputs": [
    {
     "data": {
      "text/html": [
       "<div>\n",
       "<style scoped>\n",
       "    .dataframe tbody tr th:only-of-type {\n",
       "        vertical-align: middle;\n",
       "    }\n",
       "\n",
       "    .dataframe tbody tr th {\n",
       "        vertical-align: top;\n",
       "    }\n",
       "\n",
       "    .dataframe thead th {\n",
       "        text-align: right;\n",
       "    }\n",
       "</style>\n",
       "<table border=\"1\" class=\"dataframe\">\n",
       "  <thead>\n",
       "    <tr style=\"text-align: right;\">\n",
       "      <th></th>\n",
       "      <th>Achieved KPI</th>\n",
       "      <th>AgentName</th>\n",
       "      <th>KPI</th>\n",
       "    </tr>\n",
       "  </thead>\n",
       "  <tbody>\n",
       "    <tr>\n",
       "      <td>10</td>\n",
       "      <td>93</td>\n",
       "      <td>Hafsah Tasneem</td>\n",
       "      <td>75</td>\n",
       "    </tr>\n",
       "    <tr>\n",
       "      <td>38</td>\n",
       "      <td>82</td>\n",
       "      <td>Stephanie Dam</td>\n",
       "      <td>75</td>\n",
       "    </tr>\n",
       "    <tr>\n",
       "      <td>37</td>\n",
       "      <td>43</td>\n",
       "      <td>Stefan Koch Jacobsen</td>\n",
       "      <td>40</td>\n",
       "    </tr>\n",
       "  </tbody>\n",
       "</table>\n",
       "</div>"
      ],
      "text/plain": [
       "    Achieved KPI             AgentName  KPI\n",
       "10            93        Hafsah Tasneem   75\n",
       "38            82         Stephanie Dam   75\n",
       "37            43  Stefan Koch Jacobsen   40"
      ]
     },
     "execution_count": 102,
     "metadata": {},
     "output_type": "execute_result"
    }
   ],
   "source": [
    "correct_list_of_eligible_bonus(bonus_2nd)"
   ]
  },
  {
   "cell_type": "code",
   "execution_count": 103,
   "metadata": {},
   "outputs": [],
   "source": [
    "def close_to_get_bonus(df):\n",
    "    bonus_1st=df\n",
    "    temp_thp=bonus_1st.loc[bonus_1st['AgentName'].isin(phy_therapist)][['AgentName','In-Ud sum']]\n",
    "    temp_thp=temp_thp.sort_values('In-Ud sum',ascending=False)\n",
    "    temp_thp=temp_thp.loc[temp_thp['In-Ud sum']<40].head(3)\n",
    "    temp_thp['KPI']=40\n",
    "    temp_thp=temp_thp.rename({'In-Ud sum': 'Achieved KPI'}, axis=1)\n",
    "    \n",
    "    temp_bk=bonus_1st.loc[bonus_1st['AgentName'].isin(bk_assistant)][['AgentName','Indgående Opkald per dag']]\n",
    "    temp_bk=temp_bk.sort_values('Indgående Opkald per dag',ascending=False)\n",
    "    temp_bk=temp_bk.loc[temp_bk['Indgående Opkald per dag']<75].head(3)\n",
    "    temp_bk['KPI']=75\n",
    "    temp_bk=temp_bk.rename({'Indgående Opkald per dag': 'Achieved KPI'}, axis=1)\n",
    "    \n",
    "    temp_mor=bonus_1st.loc[bonus_1st['AgentName'].isin(morning_team)][['AgentName','In-Ud sum']]\n",
    "    temp_mor=temp_mor.sort_values('In-Ud sum',ascending=False)\n",
    "    temp_mor=temp_mor.loc[temp_mor['In-Ud sum']<70].head(3)\n",
    "    temp_mor['KPI']=70\n",
    "    temp_mor=temp_mor.rename({'In-Ud sum': 'Achieved KPI'}, axis=1)\n",
    "    \n",
    "    frames = [temp_bk,temp_mor, temp_thp]\n",
    "    result = pd.concat(frames,sort='false')\n",
    "    return result.sort_values('Achieved KPI',ascending=False)"
   ]
  },
  {
   "cell_type": "code",
   "execution_count": 104,
   "metadata": {
    "scrolled": true
   },
   "outputs": [
    {
     "data": {
      "text/html": [
       "<div>\n",
       "<style scoped>\n",
       "    .dataframe tbody tr th:only-of-type {\n",
       "        vertical-align: middle;\n",
       "    }\n",
       "\n",
       "    .dataframe tbody tr th {\n",
       "        vertical-align: top;\n",
       "    }\n",
       "\n",
       "    .dataframe thead th {\n",
       "        text-align: right;\n",
       "    }\n",
       "</style>\n",
       "<table border=\"1\" class=\"dataframe\">\n",
       "  <thead>\n",
       "    <tr style=\"text-align: right;\">\n",
       "      <th></th>\n",
       "      <th>Achieved KPI</th>\n",
       "      <th>AgentName</th>\n",
       "      <th>KPI</th>\n",
       "    </tr>\n",
       "  </thead>\n",
       "  <tbody>\n",
       "    <tr>\n",
       "      <td>39</td>\n",
       "      <td>74</td>\n",
       "      <td>Stephanie Dam</td>\n",
       "      <td>75</td>\n",
       "    </tr>\n",
       "    <tr>\n",
       "      <td>9</td>\n",
       "      <td>73</td>\n",
       "      <td>Hafsah Tasneem</td>\n",
       "      <td>75</td>\n",
       "    </tr>\n",
       "    <tr>\n",
       "      <td>21</td>\n",
       "      <td>73</td>\n",
       "      <td>Linda Wichmann</td>\n",
       "      <td>75</td>\n",
       "    </tr>\n",
       "    <tr>\n",
       "      <td>25</td>\n",
       "      <td>63</td>\n",
       "      <td>Marianne Brandt</td>\n",
       "      <td>70</td>\n",
       "    </tr>\n",
       "    <tr>\n",
       "      <td>28</td>\n",
       "      <td>62</td>\n",
       "      <td>Mia Douglas</td>\n",
       "      <td>70</td>\n",
       "    </tr>\n",
       "    <tr>\n",
       "      <td>0</td>\n",
       "      <td>39</td>\n",
       "      <td>Anders Kjærulff Møller</td>\n",
       "      <td>40</td>\n",
       "    </tr>\n",
       "    <tr>\n",
       "      <td>1</td>\n",
       "      <td>35</td>\n",
       "      <td>Anne Sylvester Walters</td>\n",
       "      <td>40</td>\n",
       "    </tr>\n",
       "    <tr>\n",
       "      <td>32</td>\n",
       "      <td>35</td>\n",
       "      <td>Niklas Dunker Gammelmark</td>\n",
       "      <td>40</td>\n",
       "    </tr>\n",
       "  </tbody>\n",
       "</table>\n",
       "</div>"
      ],
      "text/plain": [
       "    Achieved KPI                 AgentName  KPI\n",
       "39            74             Stephanie Dam   75\n",
       "9             73            Hafsah Tasneem   75\n",
       "21            73            Linda Wichmann   75\n",
       "25            63           Marianne Brandt   70\n",
       "28            62               Mia Douglas   70\n",
       "0             39    Anders Kjærulff Møller   40\n",
       "1             35    Anne Sylvester Walters   40\n",
       "32            35  Niklas Dunker Gammelmark   40"
      ]
     },
     "execution_count": 104,
     "metadata": {},
     "output_type": "execute_result"
    }
   ],
   "source": [
    "close_to_get_bonus(bonus_1st)"
   ]
  },
  {
   "cell_type": "code",
   "execution_count": 105,
   "metadata": {},
   "outputs": [
    {
     "data": {
      "text/plain": [
       "57"
      ]
     },
     "execution_count": 105,
     "metadata": {},
     "output_type": "execute_result"
    }
   ],
   "source": [
    "avg_to_achieve=75\n",
    "current_avg=93\n",
    "(2*avg_to_achieve)-current_avg"
   ]
  },
  {
   "cell_type": "code",
   "execution_count": 106,
   "metadata": {},
   "outputs": [],
   "source": [
    "def get_bonus_eligibility_criteria(group):\n",
    "    if group==bk_assistant:\n",
    "        criteria='Indgående Opkald per dag'\n",
    "        KPI=75\n",
    "    elif group==phy_therapist:\n",
    "        criteria='In-Ud sum'\n",
    "        KPI=40\n",
    "    elif group==morning_team:\n",
    "        criteria='In-Ud sum'\n",
    "        KPI=70    \n",
    "    return criteria,KPI"
   ]
  },
  {
   "cell_type": "code",
   "execution_count": 107,
   "metadata": {},
   "outputs": [
    {
     "data": {
      "text/plain": [
       "('In-Ud sum', 70)"
      ]
     },
     "execution_count": 107,
     "metadata": {},
     "output_type": "execute_result"
    }
   ],
   "source": [
    "get_bonus_eligibility_criteria(morning_team)"
   ]
  },
  {
   "cell_type": "code",
   "execution_count": 108,
   "metadata": {},
   "outputs": [],
   "source": [
    "def get_list_of_all_eligible_bonus(bonus_df):\n",
    "#bonus_df=bonus_1st\n",
    "    groups=[phy_therapist,bk_assistant,morning_team]\n",
    "    all_groups=[]\n",
    "    for i in groups:\n",
    "        criteria,KPI=get_bonus_eligibility_criteria(i)\n",
    "        temp=bonus_df.loc[bonus_df['AgentName'].isin(i)][['AgentName',criteria]]\n",
    "        temp=temp.sort_values(criteria,ascending=False)\n",
    "        temp=temp.loc[temp[criteria]>=KPI]\n",
    "        temp['KPI']=KPI\n",
    "\n",
    "        temp=temp.rename({criteria: 'Achieved KPI'}, axis=1)\n",
    "    #print(temp)\n",
    "        all_groups.append(temp)\n",
    "        result_goal_achieved = pd.concat(all_groups,sort='false')\n",
    "    return result_goal_achieved"
   ]
  },
  {
   "cell_type": "code",
   "execution_count": 109,
   "metadata": {
    "scrolled": true
   },
   "outputs": [
    {
     "data": {
      "text/html": [
       "<div>\n",
       "<style scoped>\n",
       "    .dataframe tbody tr th:only-of-type {\n",
       "        vertical-align: middle;\n",
       "    }\n",
       "\n",
       "    .dataframe tbody tr th {\n",
       "        vertical-align: top;\n",
       "    }\n",
       "\n",
       "    .dataframe thead th {\n",
       "        text-align: right;\n",
       "    }\n",
       "</style>\n",
       "<table border=\"1\" class=\"dataframe\">\n",
       "  <thead>\n",
       "    <tr style=\"text-align: right;\">\n",
       "      <th></th>\n",
       "      <th>Achieved KPI</th>\n",
       "      <th>AgentName</th>\n",
       "      <th>KPI</th>\n",
       "    </tr>\n",
       "  </thead>\n",
       "  <tbody>\n",
       "    <tr>\n",
       "      <td>37</td>\n",
       "      <td>43</td>\n",
       "      <td>Stefan Koch Jacobsen</td>\n",
       "      <td>40</td>\n",
       "    </tr>\n",
       "    <tr>\n",
       "      <td>10</td>\n",
       "      <td>93</td>\n",
       "      <td>Hafsah Tasneem</td>\n",
       "      <td>75</td>\n",
       "    </tr>\n",
       "    <tr>\n",
       "      <td>38</td>\n",
       "      <td>82</td>\n",
       "      <td>Stephanie Dam</td>\n",
       "      <td>75</td>\n",
       "    </tr>\n",
       "  </tbody>\n",
       "</table>\n",
       "</div>"
      ],
      "text/plain": [
       "    Achieved KPI             AgentName  KPI\n",
       "37            43  Stefan Koch Jacobsen   40\n",
       "10            93        Hafsah Tasneem   75\n",
       "38            82         Stephanie Dam   75"
      ]
     },
     "execution_count": 109,
     "metadata": {},
     "output_type": "execute_result"
    }
   ],
   "source": [
    "get_list_of_all_eligible_bonus(bonus_2nd)"
   ]
  },
  {
   "cell_type": "code",
   "execution_count": null,
   "metadata": {},
   "outputs": [],
   "source": []
  },
  {
   "cell_type": "code",
   "execution_count": 110,
   "metadata": {},
   "outputs": [
    {
     "data": {
      "text/html": [
       "<div>\n",
       "<style scoped>\n",
       "    .dataframe tbody tr th:only-of-type {\n",
       "        vertical-align: middle;\n",
       "    }\n",
       "\n",
       "    .dataframe tbody tr th {\n",
       "        vertical-align: top;\n",
       "    }\n",
       "\n",
       "    .dataframe thead th {\n",
       "        text-align: right;\n",
       "    }\n",
       "</style>\n",
       "<table border=\"1\" class=\"dataframe\">\n",
       "  <thead>\n",
       "    <tr style=\"text-align: right;\">\n",
       "      <th></th>\n",
       "      <th>AgentName</th>\n",
       "      <th>Login-datoer</th>\n",
       "      <th>Login-timer / dag</th>\n",
       "      <th>Indgående Opkald per dag</th>\n",
       "      <th>Udgående Opkald per dag</th>\n",
       "      <th>Tabte Opkald per dag</th>\n",
       "      <th>Samtale (min) per Opkald</th>\n",
       "      <th>Aktiv/Klar (T) - Samlet per dag</th>\n",
       "      <th>Aktiv/Klar - Samlet</th>\n",
       "      <th>Samtale (T) - per dag</th>\n",
       "      <th>...</th>\n",
       "      <th>Aktiv/Klar - Klar</th>\n",
       "      <th>Administration (T) - per dag</th>\n",
       "      <th>Aktiv/Klar - Admininistrativt</th>\n",
       "      <th>Pause (T) - per dag</th>\n",
       "      <th>Ikke Klar - Pause</th>\n",
       "      <th>ikke klar (T) Andet - per dag</th>\n",
       "      <th>Ikke Klar - Andet</th>\n",
       "      <th>Ukendt/Andet (T) - per dag</th>\n",
       "      <th>In-Ud sum</th>\n",
       "      <th>Period</th>\n",
       "    </tr>\n",
       "  </thead>\n",
       "  <tbody>\n",
       "    <tr>\n",
       "      <td>7</td>\n",
       "      <td>Elizabeth Jeppesen</td>\n",
       "      <td>28</td>\n",
       "      <td>8.0</td>\n",
       "      <td>48</td>\n",
       "      <td>14</td>\n",
       "      <td>2.2</td>\n",
       "      <td>3.3</td>\n",
       "      <td>6.6</td>\n",
       "      <td>82 %</td>\n",
       "      <td>3.4</td>\n",
       "      <td>...</td>\n",
       "      <td>23.0</td>\n",
       "      <td>1.3</td>\n",
       "      <td>16.0</td>\n",
       "      <td>0.5</td>\n",
       "      <td>6.0</td>\n",
       "      <td>0.7</td>\n",
       "      <td>4.0</td>\n",
       "      <td>0.2</td>\n",
       "      <td>62</td>\n",
       "      <td>April2020-June2020</td>\n",
       "    </tr>\n",
       "  </tbody>\n",
       "</table>\n",
       "<p>1 rows × 22 columns</p>\n",
       "</div>"
      ],
      "text/plain": [
       "            AgentName  Login-datoer  Login-timer / dag  \\\n",
       "7  Elizabeth Jeppesen            28                8.0   \n",
       "\n",
       "   Indgående Opkald per dag  Udgående Opkald per dag  Tabte Opkald per dag  \\\n",
       "7                        48                       14                   2.2   \n",
       "\n",
       "   Samtale (min) per Opkald  Aktiv/Klar (T) - Samlet per dag  \\\n",
       "7                       3.3                              6.6   \n",
       "\n",
       "  Aktiv/Klar - Samlet  Samtale (T) - per dag  ...  Aktiv/Klar - Klar  \\\n",
       "7                82 %                    3.4  ...               23.0   \n",
       "\n",
       "   Administration (T) - per dag  Aktiv/Klar - Admininistrativt  \\\n",
       "7                           1.3                           16.0   \n",
       "\n",
       "   Pause (T) - per dag  Ikke Klar - Pause  ikke klar (T) Andet - per dag  \\\n",
       "7                  0.5                6.0                            0.7   \n",
       "\n",
       "   Ikke Klar - Andet  Ukendt/Andet (T) - per dag  In-Ud sum  \\\n",
       "7                4.0                         0.2         62   \n",
       "\n",
       "               Period  \n",
       "7  April2020-June2020  \n",
       "\n",
       "[1 rows x 22 columns]"
      ]
     },
     "execution_count": 110,
     "metadata": {},
     "output_type": "execute_result"
    }
   ],
   "source": [
    "bonus_2nd.loc[bonus_2nd['AgentName']==morning_team[2]]"
   ]
  },
  {
   "cell_type": "code",
   "execution_count": 111,
   "metadata": {},
   "outputs": [
    {
     "data": {
      "text/html": [
       "<div>\n",
       "<style scoped>\n",
       "    .dataframe tbody tr th:only-of-type {\n",
       "        vertical-align: middle;\n",
       "    }\n",
       "\n",
       "    .dataframe tbody tr th {\n",
       "        vertical-align: top;\n",
       "    }\n",
       "\n",
       "    .dataframe thead th {\n",
       "        text-align: right;\n",
       "    }\n",
       "</style>\n",
       "<table border=\"1\" class=\"dataframe\">\n",
       "  <thead>\n",
       "    <tr style=\"text-align: right;\">\n",
       "      <th></th>\n",
       "      <th>Achieved KPI</th>\n",
       "      <th>AgentName</th>\n",
       "      <th>KPI</th>\n",
       "    </tr>\n",
       "  </thead>\n",
       "  <tbody>\n",
       "    <tr>\n",
       "      <td>1</td>\n",
       "      <td>40</td>\n",
       "      <td>Anders Kjærulff Møller</td>\n",
       "      <td>40</td>\n",
       "    </tr>\n",
       "    <tr>\n",
       "      <td>37</td>\n",
       "      <td>40</td>\n",
       "      <td>Stefan Koch Jacobsen</td>\n",
       "      <td>40</td>\n",
       "    </tr>\n",
       "    <tr>\n",
       "      <td>10</td>\n",
       "      <td>84</td>\n",
       "      <td>Hafsah Tasneem</td>\n",
       "      <td>75</td>\n",
       "    </tr>\n",
       "    <tr>\n",
       "      <td>38</td>\n",
       "      <td>81</td>\n",
       "      <td>Stephanie Dam</td>\n",
       "      <td>75</td>\n",
       "    </tr>\n",
       "  </tbody>\n",
       "</table>\n",
       "</div>"
      ],
      "text/plain": [
       "    Achieved KPI               AgentName  KPI\n",
       "1             40  Anders Kjærulff Møller   40\n",
       "37            40    Stefan Koch Jacobsen   40\n",
       "10            84          Hafsah Tasneem   75\n",
       "38            81           Stephanie Dam   75"
      ]
     },
     "execution_count": 111,
     "metadata": {},
     "output_type": "execute_result"
    }
   ],
   "source": [
    "get_list_of_all_eligible_bonus(May2020)"
   ]
  },
  {
   "cell_type": "code",
   "execution_count": 112,
   "metadata": {},
   "outputs": [],
   "source": [
    "def get_all_data_in_csv(df,ag_name):\n",
    "    agent_name=ag_name\n",
    "    get_pie_data_monthly(agent_name)\n",
    "    get_pie_data_bonus(agent_name,df,'test')\n",
    "    get_all_monthly(agent_name)"
   ]
  },
  {
   "cell_type": "code",
   "execution_count": 113,
   "metadata": {},
   "outputs": [],
   "source": [
    "get_all_data_in_csv(May2020,'Anders Kjærulff Møller')"
   ]
  },
  {
   "cell_type": "code",
   "execution_count": 114,
   "metadata": {},
   "outputs": [
    {
     "data": {
      "text/html": [
       "<div>\n",
       "<style scoped>\n",
       "    .dataframe tbody tr th:only-of-type {\n",
       "        vertical-align: middle;\n",
       "    }\n",
       "\n",
       "    .dataframe tbody tr th {\n",
       "        vertical-align: top;\n",
       "    }\n",
       "\n",
       "    .dataframe thead th {\n",
       "        text-align: right;\n",
       "    }\n",
       "</style>\n",
       "<table border=\"1\" class=\"dataframe\">\n",
       "  <thead>\n",
       "    <tr style=\"text-align: right;\">\n",
       "      <th></th>\n",
       "      <th>AgentName</th>\n",
       "      <th>Login-datoer</th>\n",
       "      <th>Login-timer / dag</th>\n",
       "      <th>Indgående Opkald per dag</th>\n",
       "      <th>Udgående Opkald per dag</th>\n",
       "      <th>Tabte Opkald per dag</th>\n",
       "      <th>Samtale (min) per Opkald</th>\n",
       "      <th>Aktiv/Klar (T) - Samlet per dag</th>\n",
       "      <th>Aktiv/Klar - Samlet</th>\n",
       "      <th>Samtale (T) - per dag</th>\n",
       "      <th>...</th>\n",
       "      <th>Aktiv/Klar - Klar</th>\n",
       "      <th>Administration (T) - per dag</th>\n",
       "      <th>Aktiv/Klar - Admininistrativt</th>\n",
       "      <th>Pause (T) - per dag</th>\n",
       "      <th>Ikke Klar - Pause</th>\n",
       "      <th>ikke klar (T) Andet - per dag</th>\n",
       "      <th>Ikke Klar - Andet</th>\n",
       "      <th>Ukendt/Andet (T) - per dag</th>\n",
       "      <th>In-Ud sum</th>\n",
       "      <th>Period</th>\n",
       "    </tr>\n",
       "  </thead>\n",
       "  <tbody>\n",
       "    <tr>\n",
       "      <td>11</td>\n",
       "      <td>Hafsah Tasneem</td>\n",
       "      <td>1</td>\n",
       "      <td>2.0</td>\n",
       "      <td>46</td>\n",
       "      <td>2</td>\n",
       "      <td>0.0</td>\n",
       "      <td>1.3</td>\n",
       "      <td>1.5</td>\n",
       "      <td>77 %</td>\n",
       "      <td>1.1</td>\n",
       "      <td>...</td>\n",
       "      <td>12.0</td>\n",
       "      <td>0.2</td>\n",
       "      <td>11.0</td>\n",
       "      <td>0.2</td>\n",
       "      <td>11.0</td>\n",
       "      <td>0.2</td>\n",
       "      <td>2.0</td>\n",
       "      <td>0.0</td>\n",
       "      <td>48</td>\n",
       "      <td>feb_w1</td>\n",
       "    </tr>\n",
       "  </tbody>\n",
       "</table>\n",
       "<p>1 rows × 22 columns</p>\n",
       "</div>"
      ],
      "text/plain": [
       "         AgentName  Login-datoer  Login-timer / dag  Indgående Opkald per dag  \\\n",
       "11  Hafsah Tasneem             1                2.0                        46   \n",
       "\n",
       "    Udgående Opkald per dag  Tabte Opkald per dag  Samtale (min) per Opkald  \\\n",
       "11                        2                   0.0                       1.3   \n",
       "\n",
       "    Aktiv/Klar (T) - Samlet per dag Aktiv/Klar - Samlet  \\\n",
       "11                              1.5                77 %   \n",
       "\n",
       "    Samtale (T) - per dag  ...  Aktiv/Klar - Klar  \\\n",
       "11                    1.1  ...               12.0   \n",
       "\n",
       "    Administration (T) - per dag  Aktiv/Klar - Admininistrativt  \\\n",
       "11                           0.2                           11.0   \n",
       "\n",
       "    Pause (T) - per dag  Ikke Klar - Pause  ikke klar (T) Andet - per dag  \\\n",
       "11                  0.2               11.0                            0.2   \n",
       "\n",
       "    Ikke Klar - Andet  Ukendt/Andet (T) - per dag  In-Ud sum  Period  \n",
       "11                2.0                         0.0         48  feb_w1  \n",
       "\n",
       "[1 rows x 22 columns]"
      ]
     },
     "execution_count": 114,
     "metadata": {},
     "output_type": "execute_result"
    }
   ],
   "source": [
    "tempweekslist[0].loc[tempweekslist[0]['AgentName']=='Hafsah Tasneem']"
   ]
  },
  {
   "cell_type": "code",
   "execution_count": 115,
   "metadata": {},
   "outputs": [],
   "source": [
    "#remove_percentages_and_change_to_float_add_coloumn(jan_w4)"
   ]
  },
  {
   "cell_type": "code",
   "execution_count": 116,
   "metadata": {},
   "outputs": [],
   "source": [
    "xx=[]\n",
    "for i in range(5):\n",
    "    xx.append(temp[i].loc[temp[i]['AgentName']=='Hafsah Tasneem'])"
   ]
  },
  {
   "cell_type": "code",
   "execution_count": 117,
   "metadata": {},
   "outputs": [],
   "source": [
    " ab=pd.concat(xx,sort='false')"
   ]
  },
  {
   "cell_type": "code",
   "execution_count": 118,
   "metadata": {},
   "outputs": [
    {
     "data": {
      "text/html": [
       "<div>\n",
       "<style scoped>\n",
       "    .dataframe tbody tr th:only-of-type {\n",
       "        vertical-align: middle;\n",
       "    }\n",
       "\n",
       "    .dataframe tbody tr th {\n",
       "        vertical-align: top;\n",
       "    }\n",
       "\n",
       "    .dataframe thead th {\n",
       "        text-align: right;\n",
       "    }\n",
       "</style>\n",
       "<table border=\"1\" class=\"dataframe\">\n",
       "  <thead>\n",
       "    <tr style=\"text-align: right;\">\n",
       "      <th></th>\n",
       "      <th>Administration (T) - per dag</th>\n",
       "      <th>AgentName</th>\n",
       "      <th>Aktiv/Klar (T) - Samlet per dag</th>\n",
       "      <th>Aktiv/Klar - Admininistrativt</th>\n",
       "      <th>Aktiv/Klar - Klar</th>\n",
       "      <th>Aktiv/Klar - Samlet</th>\n",
       "      <th>Aktiv/Klar - Samtale</th>\n",
       "      <th>Ikke Klar - Andet</th>\n",
       "      <th>Ikke Klar - Pause</th>\n",
       "      <th>Indgående Opkald per dag</th>\n",
       "      <th>Klar (T) - per dag</th>\n",
       "      <th>Login-datoer</th>\n",
       "      <th>Login-timer / dag</th>\n",
       "      <th>Pause (T) - per dag</th>\n",
       "      <th>Samtale (T) - per dag</th>\n",
       "      <th>Samtale (min) per Opkald</th>\n",
       "      <th>Tabte Opkald per dag</th>\n",
       "      <th>Udgående Opkald per dag</th>\n",
       "      <th>Ukendt/Andet (T) - per dag</th>\n",
       "      <th>ikke klar (T) Andet - per dag</th>\n",
       "    </tr>\n",
       "  </thead>\n",
       "  <tbody>\n",
       "    <tr>\n",
       "      <td>7</td>\n",
       "      <td>0.2</td>\n",
       "      <td>Hafsah Tasneem</td>\n",
       "      <td>6.0</td>\n",
       "      <td>2 %</td>\n",
       "      <td>30 %</td>\n",
       "      <td>81 %</td>\n",
       "      <td>49 %</td>\n",
       "      <td>2 %</td>\n",
       "      <td>14 %</td>\n",
       "      <td>68</td>\n",
       "      <td>2.2</td>\n",
       "      <td>2</td>\n",
       "      <td>7.4</td>\n",
       "      <td>1.0</td>\n",
       "      <td>3.6</td>\n",
       "      <td>3.0</td>\n",
       "      <td>0.5</td>\n",
       "      <td>6</td>\n",
       "      <td>0.1</td>\n",
       "      <td>0.3</td>\n",
       "    </tr>\n",
       "    <tr>\n",
       "      <td>7</td>\n",
       "      <td>0.4</td>\n",
       "      <td>Hafsah Tasneem</td>\n",
       "      <td>6.3</td>\n",
       "      <td>5 %</td>\n",
       "      <td>30 %</td>\n",
       "      <td>79 %</td>\n",
       "      <td>44 %</td>\n",
       "      <td>5 %</td>\n",
       "      <td>13 %</td>\n",
       "      <td>70</td>\n",
       "      <td>2.4</td>\n",
       "      <td>5</td>\n",
       "      <td>8.0</td>\n",
       "      <td>1.0</td>\n",
       "      <td>3.5</td>\n",
       "      <td>2.7</td>\n",
       "      <td>0.0</td>\n",
       "      <td>7</td>\n",
       "      <td>0.2</td>\n",
       "      <td>0.5</td>\n",
       "    </tr>\n",
       "    <tr>\n",
       "      <td>8</td>\n",
       "      <td>0.4</td>\n",
       "      <td>Hafsah Tasneem</td>\n",
       "      <td>6.3</td>\n",
       "      <td>5 %</td>\n",
       "      <td>46 %</td>\n",
       "      <td>81 %</td>\n",
       "      <td>30 %</td>\n",
       "      <td>4 %</td>\n",
       "      <td>13 %</td>\n",
       "      <td>67</td>\n",
       "      <td>3.6</td>\n",
       "      <td>4</td>\n",
       "      <td>7.8</td>\n",
       "      <td>1.0</td>\n",
       "      <td>2.3</td>\n",
       "      <td>1.9</td>\n",
       "      <td>0.0</td>\n",
       "      <td>6</td>\n",
       "      <td>0.2</td>\n",
       "      <td>0.3</td>\n",
       "    </tr>\n",
       "    <tr>\n",
       "      <td>9</td>\n",
       "      <td>0.4</td>\n",
       "      <td>Hafsah Tasneem</td>\n",
       "      <td>5.4</td>\n",
       "      <td>5 %</td>\n",
       "      <td>22 %</td>\n",
       "      <td>72 %</td>\n",
       "      <td>44 %</td>\n",
       "      <td>13 %</td>\n",
       "      <td>11 %</td>\n",
       "      <td>78</td>\n",
       "      <td>1.7</td>\n",
       "      <td>5</td>\n",
       "      <td>7.5</td>\n",
       "      <td>0.9</td>\n",
       "      <td>3.3</td>\n",
       "      <td>2.3</td>\n",
       "      <td>0.2</td>\n",
       "      <td>8</td>\n",
       "      <td>0.2</td>\n",
       "      <td>1.1</td>\n",
       "    </tr>\n",
       "    <tr>\n",
       "      <td>8</td>\n",
       "      <td>0.2</td>\n",
       "      <td>Hafsah Tasneem</td>\n",
       "      <td>6.2</td>\n",
       "      <td>3 %</td>\n",
       "      <td>41 %</td>\n",
       "      <td>78 %</td>\n",
       "      <td>35 %</td>\n",
       "      <td>9 %</td>\n",
       "      <td>11 %</td>\n",
       "      <td>82</td>\n",
       "      <td>3.2</td>\n",
       "      <td>5</td>\n",
       "      <td>7.9</td>\n",
       "      <td>0.8</td>\n",
       "      <td>2.7</td>\n",
       "      <td>1.8</td>\n",
       "      <td>0.0</td>\n",
       "      <td>10</td>\n",
       "      <td>0.3</td>\n",
       "      <td>0.6</td>\n",
       "    </tr>\n",
       "  </tbody>\n",
       "</table>\n",
       "</div>"
      ],
      "text/plain": [
       "   Administration (T) - per dag       AgentName  \\\n",
       "7                           0.2  Hafsah Tasneem   \n",
       "7                           0.4  Hafsah Tasneem   \n",
       "8                           0.4  Hafsah Tasneem   \n",
       "9                           0.4  Hafsah Tasneem   \n",
       "8                           0.2  Hafsah Tasneem   \n",
       "\n",
       "   Aktiv/Klar (T) - Samlet per dag Aktiv/Klar - Admininistrativt  \\\n",
       "7                              6.0                           2 %   \n",
       "7                              6.3                           5 %   \n",
       "8                              6.3                           5 %   \n",
       "9                              5.4                           5 %   \n",
       "8                              6.2                           3 %   \n",
       "\n",
       "  Aktiv/Klar - Klar Aktiv/Klar - Samlet Aktiv/Klar - Samtale  \\\n",
       "7              30 %                81 %                 49 %   \n",
       "7              30 %                79 %                 44 %   \n",
       "8              46 %                81 %                 30 %   \n",
       "9              22 %                72 %                 44 %   \n",
       "8              41 %                78 %                 35 %   \n",
       "\n",
       "  Ikke Klar - Andet Ikke Klar - Pause  Indgående Opkald per dag  \\\n",
       "7               2 %              14 %                        68   \n",
       "7               5 %              13 %                        70   \n",
       "8               4 %              13 %                        67   \n",
       "9              13 %              11 %                        78   \n",
       "8               9 %              11 %                        82   \n",
       "\n",
       "   Klar (T) - per dag  Login-datoer  Login-timer / dag  Pause (T) - per dag  \\\n",
       "7                 2.2             2                7.4                  1.0   \n",
       "7                 2.4             5                8.0                  1.0   \n",
       "8                 3.6             4                7.8                  1.0   \n",
       "9                 1.7             5                7.5                  0.9   \n",
       "8                 3.2             5                7.9                  0.8   \n",
       "\n",
       "   Samtale (T) - per dag  Samtale (min) per Opkald  Tabte Opkald per dag  \\\n",
       "7                    3.6                       3.0                   0.5   \n",
       "7                    3.5                       2.7                   0.0   \n",
       "8                    2.3                       1.9                   0.0   \n",
       "9                    3.3                       2.3                   0.2   \n",
       "8                    2.7                       1.8                   0.0   \n",
       "\n",
       "   Udgående Opkald per dag  Ukendt/Andet (T) - per dag  \\\n",
       "7                        6                         0.1   \n",
       "7                        7                         0.2   \n",
       "8                        6                         0.2   \n",
       "9                        8                         0.2   \n",
       "8                       10                         0.3   \n",
       "\n",
       "   ikke klar (T) Andet - per dag  \n",
       "7                            0.3  \n",
       "7                            0.5  \n",
       "8                            0.3  \n",
       "9                            1.1  \n",
       "8                            0.6  "
      ]
     },
     "execution_count": 118,
     "metadata": {},
     "output_type": "execute_result"
    }
   ],
   "source": [
    "ab"
   ]
  },
  {
   "cell_type": "code",
   "execution_count": 119,
   "metadata": {},
   "outputs": [
    {
     "data": {
      "text/html": [
       "<div>\n",
       "<style scoped>\n",
       "    .dataframe tbody tr th:only-of-type {\n",
       "        vertical-align: middle;\n",
       "    }\n",
       "\n",
       "    .dataframe tbody tr th {\n",
       "        vertical-align: top;\n",
       "    }\n",
       "\n",
       "    .dataframe thead th {\n",
       "        text-align: right;\n",
       "    }\n",
       "</style>\n",
       "<table border=\"1\" class=\"dataframe\">\n",
       "  <thead>\n",
       "    <tr style=\"text-align: right;\">\n",
       "      <th></th>\n",
       "      <th>AgentName</th>\n",
       "      <th>Login-datoer</th>\n",
       "      <th>Login-timer / dag</th>\n",
       "      <th>Indgående Opkald per dag</th>\n",
       "      <th>Udgående Opkald per dag</th>\n",
       "      <th>Tabte Opkald per dag</th>\n",
       "      <th>Samtale (min) per Opkald</th>\n",
       "      <th>Aktiv/Klar (T) - Samlet per dag</th>\n",
       "      <th>Aktiv/Klar - Samlet</th>\n",
       "      <th>Samtale (T) - per dag</th>\n",
       "      <th>...</th>\n",
       "      <th>Aktiv/Klar - Klar</th>\n",
       "      <th>Administration (T) - per dag</th>\n",
       "      <th>Aktiv/Klar - Admininistrativt</th>\n",
       "      <th>Pause (T) - per dag</th>\n",
       "      <th>Ikke Klar - Pause</th>\n",
       "      <th>ikke klar (T) Andet - per dag</th>\n",
       "      <th>Ikke Klar - Andet</th>\n",
       "      <th>Ukendt/Andet (T) - per dag</th>\n",
       "      <th>In-Ud sum</th>\n",
       "      <th>Period</th>\n",
       "    </tr>\n",
       "  </thead>\n",
       "  <tbody>\n",
       "    <tr>\n",
       "      <td>9</td>\n",
       "      <td>Hafsah Tasneem</td>\n",
       "      <td>21</td>\n",
       "      <td>7.8</td>\n",
       "      <td>74</td>\n",
       "      <td>8</td>\n",
       "      <td>0.1</td>\n",
       "      <td>2.3</td>\n",
       "      <td>6.0</td>\n",
       "      <td>78 %</td>\n",
       "      <td>3.1</td>\n",
       "      <td>...</td>\n",
       "      <td>34.0</td>\n",
       "      <td>0.3</td>\n",
       "      <td>4.0</td>\n",
       "      <td>0.9</td>\n",
       "      <td>12.0</td>\n",
       "      <td>0.6</td>\n",
       "      <td>7.0</td>\n",
       "      <td>0.2</td>\n",
       "      <td>82</td>\n",
       "      <td>Jan2020</td>\n",
       "    </tr>\n",
       "  </tbody>\n",
       "</table>\n",
       "<p>1 rows × 22 columns</p>\n",
       "</div>"
      ],
      "text/plain": [
       "        AgentName  Login-datoer  Login-timer / dag  Indgående Opkald per dag  \\\n",
       "9  Hafsah Tasneem            21                7.8                        74   \n",
       "\n",
       "   Udgående Opkald per dag  Tabte Opkald per dag  Samtale (min) per Opkald  \\\n",
       "9                        8                   0.1                       2.3   \n",
       "\n",
       "   Aktiv/Klar (T) - Samlet per dag Aktiv/Klar - Samlet  Samtale (T) - per dag  \\\n",
       "9                              6.0                78 %                    3.1   \n",
       "\n",
       "   ...  Aktiv/Klar - Klar  Administration (T) - per dag  \\\n",
       "9  ...               34.0                           0.3   \n",
       "\n",
       "   Aktiv/Klar - Admininistrativt  Pause (T) - per dag  Ikke Klar - Pause  \\\n",
       "9                            4.0                  0.9               12.0   \n",
       "\n",
       "   ikke klar (T) Andet - per dag  Ikke Klar - Andet  \\\n",
       "9                            0.6                7.0   \n",
       "\n",
       "   Ukendt/Andet (T) - per dag  In-Ud sum   Period  \n",
       "9                         0.2         82  Jan2020  \n",
       "\n",
       "[1 rows x 22 columns]"
      ]
     },
     "execution_count": 119,
     "metadata": {},
     "output_type": "execute_result"
    }
   ],
   "source": [
    "Jan2020.loc[Jan2020['AgentName']=='Hafsah Tasneem']"
   ]
  },
  {
   "cell_type": "code",
   "execution_count": 120,
   "metadata": {},
   "outputs": [
    {
     "data": {
      "text/plain": [
       "(3.0799999999999996, 9    3.1\n",
       " Name: Samtale (T) - per dag, dtype: float64)"
      ]
     },
     "execution_count": 120,
     "metadata": {},
     "output_type": "execute_result"
    }
   ],
   "source": [
    "sum(ab['Samtale (T) - per dag'])/5 , Jan2020.loc[Jan2020['AgentName']=='Hafsah Tasneem']['Samtale (T) - per dag']"
   ]
  },
  {
   "cell_type": "code",
   "execution_count": 121,
   "metadata": {},
   "outputs": [
    {
     "data": {
      "text/plain": [
       "4"
      ]
     },
     "execution_count": 121,
     "metadata": {},
     "output_type": "execute_result"
    }
   ],
   "source": [
    "math.ceil(3.0799999999999996)"
   ]
  },
  {
   "cell_type": "code",
   "execution_count": 122,
   "metadata": {},
   "outputs": [],
   "source": [
    "formatted_float = \"{:.2f}\".format(3.0799999999999996)"
   ]
  },
  {
   "cell_type": "code",
   "execution_count": 123,
   "metadata": {},
   "outputs": [
    {
     "data": {
      "text/plain": [
       "'3.08'"
      ]
     },
     "execution_count": 123,
     "metadata": {},
     "output_type": "execute_result"
    }
   ],
   "source": [
    "formatted_float"
   ]
  },
  {
   "cell_type": "code",
   "execution_count": 124,
   "metadata": {},
   "outputs": [
    {
     "data": {
      "text/html": [
       "<div>\n",
       "<style scoped>\n",
       "    .dataframe tbody tr th:only-of-type {\n",
       "        vertical-align: middle;\n",
       "    }\n",
       "\n",
       "    .dataframe tbody tr th {\n",
       "        vertical-align: top;\n",
       "    }\n",
       "\n",
       "    .dataframe thead th {\n",
       "        text-align: right;\n",
       "    }\n",
       "</style>\n",
       "<table border=\"1\" class=\"dataframe\">\n",
       "  <thead>\n",
       "    <tr style=\"text-align: right;\">\n",
       "      <th></th>\n",
       "      <th>AgentName</th>\n",
       "      <th>Login-datoer</th>\n",
       "      <th>Login-timer / dag</th>\n",
       "      <th>Indgående Opkald per dag</th>\n",
       "      <th>Udgående Opkald per dag</th>\n",
       "      <th>Tabte Opkald per dag</th>\n",
       "      <th>Samtale (min) per Opkald</th>\n",
       "      <th>Aktiv/Klar (T) - Samlet per dag</th>\n",
       "      <th>Aktiv/Klar - Samlet</th>\n",
       "      <th>Samtale (T) - per dag</th>\n",
       "      <th>...</th>\n",
       "      <th>Aktiv/Klar - Klar</th>\n",
       "      <th>Administration (T) - per dag</th>\n",
       "      <th>Aktiv/Klar - Admininistrativt</th>\n",
       "      <th>Pause (T) - per dag</th>\n",
       "      <th>Ikke Klar - Pause</th>\n",
       "      <th>ikke klar (T) Andet - per dag</th>\n",
       "      <th>Ikke Klar - Andet</th>\n",
       "      <th>Ukendt/Andet (T) - per dag</th>\n",
       "      <th>In-Ud sum</th>\n",
       "      <th>Period</th>\n",
       "    </tr>\n",
       "  </thead>\n",
       "  <tbody>\n",
       "    <tr>\n",
       "      <td>10</td>\n",
       "      <td>Hafsah Tasneem</td>\n",
       "      <td>23</td>\n",
       "      <td>7.6</td>\n",
       "      <td>93</td>\n",
       "      <td>9</td>\n",
       "      <td>0.4</td>\n",
       "      <td>2.0</td>\n",
       "      <td>6.0</td>\n",
       "      <td>79 %</td>\n",
       "      <td>3.3</td>\n",
       "      <td>...</td>\n",
       "      <td>29.0</td>\n",
       "      <td>0.5</td>\n",
       "      <td>6.0</td>\n",
       "      <td>0.7</td>\n",
       "      <td>9.0</td>\n",
       "      <td>0.8</td>\n",
       "      <td>5.0</td>\n",
       "      <td>0.1</td>\n",
       "      <td>102</td>\n",
       "      <td>April2020-June2020</td>\n",
       "    </tr>\n",
       "  </tbody>\n",
       "</table>\n",
       "<p>1 rows × 22 columns</p>\n",
       "</div>"
      ],
      "text/plain": [
       "         AgentName  Login-datoer  Login-timer / dag  Indgående Opkald per dag  \\\n",
       "10  Hafsah Tasneem            23                7.6                        93   \n",
       "\n",
       "    Udgående Opkald per dag  Tabte Opkald per dag  Samtale (min) per Opkald  \\\n",
       "10                        9                   0.4                       2.0   \n",
       "\n",
       "    Aktiv/Klar (T) - Samlet per dag Aktiv/Klar - Samlet  \\\n",
       "10                              6.0                79 %   \n",
       "\n",
       "    Samtale (T) - per dag  ...  Aktiv/Klar - Klar  \\\n",
       "10                    3.3  ...               29.0   \n",
       "\n",
       "    Administration (T) - per dag  Aktiv/Klar - Admininistrativt  \\\n",
       "10                           0.5                            6.0   \n",
       "\n",
       "    Pause (T) - per dag  Ikke Klar - Pause  ikke klar (T) Andet - per dag  \\\n",
       "10                  0.7                9.0                            0.8   \n",
       "\n",
       "    Ikke Klar - Andet  Ukendt/Andet (T) - per dag  In-Ud sum  \\\n",
       "10                5.0                         0.1        102   \n",
       "\n",
       "                Period  \n",
       "10  April2020-June2020  \n",
       "\n",
       "[1 rows x 22 columns]"
      ]
     },
     "execution_count": 124,
     "metadata": {},
     "output_type": "execute_result"
    }
   ],
   "source": [
    "bonus_2nd.loc[bonus_2nd['AgentName']=='Hafsah Tasneem']"
   ]
  },
  {
   "cell_type": "code",
   "execution_count": 125,
   "metadata": {},
   "outputs": [
    {
     "data": {
      "text/plain": [
       "42.0"
      ]
     },
     "execution_count": 125,
     "metadata": {},
     "output_type": "execute_result"
    }
   ],
   "source": [
    "0.7*60\n"
   ]
  },
  {
   "cell_type": "code",
   "execution_count": 126,
   "metadata": {},
   "outputs": [
    {
     "data": {
      "text/html": [
       "<div>\n",
       "<style scoped>\n",
       "    .dataframe tbody tr th:only-of-type {\n",
       "        vertical-align: middle;\n",
       "    }\n",
       "\n",
       "    .dataframe tbody tr th {\n",
       "        vertical-align: top;\n",
       "    }\n",
       "\n",
       "    .dataframe thead th {\n",
       "        text-align: right;\n",
       "    }\n",
       "</style>\n",
       "<table border=\"1\" class=\"dataframe\">\n",
       "  <thead>\n",
       "    <tr style=\"text-align: right;\">\n",
       "      <th></th>\n",
       "      <th>AgentName</th>\n",
       "      <th>Login-datoer</th>\n",
       "      <th>Login-timer / dag</th>\n",
       "      <th>Indgående Opkald per dag</th>\n",
       "      <th>Udgående Opkald per dag</th>\n",
       "      <th>Tabte Opkald per dag</th>\n",
       "      <th>Samtale (min) per Opkald</th>\n",
       "      <th>Aktiv/Klar (T) - Samlet per dag</th>\n",
       "      <th>Aktiv/Klar - Samlet</th>\n",
       "      <th>Samtale (T) - per dag</th>\n",
       "      <th>...</th>\n",
       "      <th>Aktiv/Klar - Klar</th>\n",
       "      <th>Administration (T) - per dag</th>\n",
       "      <th>Aktiv/Klar - Admininistrativt</th>\n",
       "      <th>Pause (T) - per dag</th>\n",
       "      <th>Ikke Klar - Pause</th>\n",
       "      <th>ikke klar (T) Andet - per dag</th>\n",
       "      <th>Ikke Klar - Andet</th>\n",
       "      <th>Ukendt/Andet (T) - per dag</th>\n",
       "      <th>In-Ud sum</th>\n",
       "      <th>Period</th>\n",
       "    </tr>\n",
       "  </thead>\n",
       "  <tbody>\n",
       "    <tr>\n",
       "      <td>1</td>\n",
       "      <td>Hafsah Tasneem</td>\n",
       "      <td>15</td>\n",
       "      <td>7.0</td>\n",
       "      <td>69</td>\n",
       "      <td>7</td>\n",
       "      <td>0.3</td>\n",
       "      <td>1.7</td>\n",
       "      <td>5.7</td>\n",
       "      <td>81 %</td>\n",
       "      <td>2.1</td>\n",
       "      <td>...</td>\n",
       "      <td>47.0</td>\n",
       "      <td>0.3</td>\n",
       "      <td>4.0</td>\n",
       "      <td>0.7</td>\n",
       "      <td>10.0</td>\n",
       "      <td>0.5</td>\n",
       "      <td>6.0</td>\n",
       "      <td>0.1</td>\n",
       "      <td>76</td>\n",
       "      <td>Feb2020</td>\n",
       "    </tr>\n",
       "  </tbody>\n",
       "</table>\n",
       "<p>1 rows × 22 columns</p>\n",
       "</div>"
      ],
      "text/plain": [
       "        AgentName  Login-datoer  Login-timer / dag  Indgående Opkald per dag  \\\n",
       "1  Hafsah Tasneem            15                7.0                        69   \n",
       "\n",
       "   Udgående Opkald per dag  Tabte Opkald per dag  Samtale (min) per Opkald  \\\n",
       "1                        7                   0.3                       1.7   \n",
       "\n",
       "   Aktiv/Klar (T) - Samlet per dag Aktiv/Klar - Samlet  Samtale (T) - per dag  \\\n",
       "1                              5.7                81 %                    2.1   \n",
       "\n",
       "   ...  Aktiv/Klar - Klar  Administration (T) - per dag  \\\n",
       "1  ...               47.0                           0.3   \n",
       "\n",
       "   Aktiv/Klar - Admininistrativt  Pause (T) - per dag  Ikke Klar - Pause  \\\n",
       "1                            4.0                  0.7               10.0   \n",
       "\n",
       "   ikke klar (T) Andet - per dag  Ikke Klar - Andet  \\\n",
       "1                            0.5                6.0   \n",
       "\n",
       "   Ukendt/Andet (T) - per dag  In-Ud sum   Period  \n",
       "1                         0.1         76  Feb2020  \n",
       "\n",
       "[1 rows x 22 columns]"
      ]
     },
     "execution_count": 126,
     "metadata": {},
     "output_type": "execute_result"
    }
   ],
   "source": [
    "Feb2020.loc[Feb2020['AgentName']=='Hafsah Tasneem']"
   ]
  },
  {
   "cell_type": "code",
   "execution_count": 127,
   "metadata": {},
   "outputs": [],
   "source": [
    "get_all_monthly('Hafsah Tasneem')"
   ]
  }
 ],
 "metadata": {
  "kernelspec": {
   "display_name": "Python 3",
   "language": "python",
   "name": "python3"
  },
  "language_info": {
   "codemirror_mode": {
    "name": "ipython",
    "version": 3
   },
   "file_extension": ".py",
   "mimetype": "text/x-python",
   "name": "python",
   "nbconvert_exporter": "python",
   "pygments_lexer": "ipython3",
   "version": "3.7.4"
  },
  "widgets": {
   "application/vnd.jupyter.widget-state+json": {
    "state": {
     "000e22cfd85e4799a62cba1c3f2b7afb": {
      "model_module": "@jupyter-widgets/base",
      "model_module_version": "1.2.0",
      "model_name": "LayoutModel",
      "state": {}
     },
     "04eb41fb04724faf933c57fe7267c9b8": {
      "model_module": "@jupyter-widgets/base",
      "model_module_version": "1.2.0",
      "model_name": "LayoutModel",
      "state": {}
     },
     "059069b53f7340d4831a7c1948a8db05": {
      "model_module": "@jupyter-widgets/controls",
      "model_module_version": "1.5.0",
      "model_name": "DropdownModel",
      "state": {
       "_options_labels": [
        "Login-timer / dag",
        "Indgående Opkald per dag",
        "Udgående Opkald per dag",
        "Tabte Opkald per dag",
        "Samtale (min) per Opkald",
        "Aktiv/Klar (T) - Samlet per dag",
        "Samtale (T) - per dag",
        "Klar (T) - per dag",
        "Administration (T) - per dag",
        "Pause (T) - per dag",
        "ikke klar (T) Andet - per dag",
        "Ukendt/Andet (T) - per dag"
       ],
       "description": "Attributes",
       "index": 9,
       "layout": "IPY_MODEL_6b152914eaac4d5280b16012f959157d",
       "style": "IPY_MODEL_b2b71d73d6094adda424aba2d372f4b8"
      }
     },
     "0abb11d9113d4a48ae1a6c2a8bed8282": {
      "model_module": "@jupyter-widgets/controls",
      "model_module_version": "1.5.0",
      "model_name": "DescriptionStyleModel",
      "state": {
       "description_width": ""
      }
     },
     "0ed4efcce5654d3f946433d63bb84fdc": {
      "model_module": "@jupyter-widgets/controls",
      "model_module_version": "1.5.0",
      "model_name": "DropdownModel",
      "state": {
       "_options_labels": [
        "Stephanie Dam",
        "Hafsah Tasneem",
        "Jesper Jin Leen Larsen",
        "Anne Sylvester Walters"
       ],
       "description": "Agents",
       "index": 1,
       "layout": "IPY_MODEL_586e6980b2084933a6611e53502f52ef",
       "style": "IPY_MODEL_da0e9c64b2824dbe8e4b4f9cb5b45053"
      }
     },
     "0f1713cb174b4bf6a43f5b6bd0902537": {
      "model_module": "@jupyter-widgets/base",
      "model_module_version": "1.2.0",
      "model_name": "LayoutModel",
      "state": {}
     },
     "11e910c46e2a4c179610f2b7e5a3a23f": {
      "model_module": "@jupyter-widgets/controls",
      "model_module_version": "1.5.0",
      "model_name": "DescriptionStyleModel",
      "state": {
       "description_width": ""
      }
     },
     "125c98017ce3491482976bc03aafa762": {
      "model_module": "@jupyter-widgets/controls",
      "model_module_version": "1.5.0",
      "model_name": "DescriptionStyleModel",
      "state": {
       "description_width": ""
      }
     },
     "1401b6701ef54f8cabd3cb461939c7c7": {
      "model_module": "@jupyter-widgets/base",
      "model_module_version": "1.2.0",
      "model_name": "LayoutModel",
      "state": {}
     },
     "145ea28cbde64058bb3e4264d79e1fea": {
      "model_module": "@jupyter-widgets/controls",
      "model_module_version": "1.5.0",
      "model_name": "DropdownModel",
      "state": {
       "_options_labels": [
        "Stephanie Dam",
        "Hafsah Tasneem",
        "Jesper Jin Leen Larsen"
       ],
       "description": "Agents",
       "index": 0,
       "layout": "IPY_MODEL_0f1713cb174b4bf6a43f5b6bd0902537",
       "style": "IPY_MODEL_ebc41df03bbb49359a52e5e43be1f4c6"
      }
     },
     "169b02edea8948308fe534859a9b35f3": {
      "model_module": "@jupyter-widgets/controls",
      "model_module_version": "1.5.0",
      "model_name": "DescriptionStyleModel",
      "state": {
       "description_width": ""
      }
     },
     "1b559f3bbc7545eba6ff1ef24c8a1f7b": {
      "model_module": "@jupyter-widgets/base",
      "model_module_version": "1.2.0",
      "model_name": "LayoutModel",
      "state": {}
     },
     "1be64f8d1b634880a98525f26398bab6": {
      "model_module": "@jupyter-widgets/base",
      "model_module_version": "1.2.0",
      "model_name": "LayoutModel",
      "state": {}
     },
     "1db90c13635e4fb0ab741409858da6fd": {
      "model_module": "@jupyter-widgets/controls",
      "model_module_version": "1.5.0",
      "model_name": "DropdownModel",
      "state": {
       "_options_labels": [
        "Login-timer / dag",
        "Indgående Opkald per dag",
        "Udgående Opkald per dag",
        "Tabte Opkald per dag",
        "Samtale (min) per Opkald",
        "Aktiv/Klar (T) - Samlet per dag",
        "Samtale (T) - per dag",
        "Klar (T) - per dag",
        "Administration (T) - per dag",
        "Pause (T) - per dag",
        "ikke klar (T) Andet - per dag",
        "Ukendt/Andet (T) - per dag"
       ],
       "description": "Attributes",
       "index": 0,
       "layout": "IPY_MODEL_3d158256bf2f48c4bd4dc9a441b55d8c",
       "style": "IPY_MODEL_cdd7f2d9e15144bea334b469bf254022"
      }
     },
     "1e1b0be40e3f452c8a11c2c72f0ea881": {
      "model_module": "@jupyter-widgets/controls",
      "model_module_version": "1.5.0",
      "model_name": "DropdownModel",
      "state": {
       "_options_labels": [
        "Login-timer / dag",
        "Indgående Opkald per dag",
        "Udgående Opkald per dag",
        "Tabte Opkald per dag",
        "Samtale (min) per Opkald",
        "Aktiv/Klar (T) - Samlet per dag",
        "Samtale (T) - per dag",
        "Klar (T) - per dag",
        "Administration (T) - per dag",
        "Pause (T) - per dag",
        "ikke klar (T) Andet - per dag",
        "Ukendt/Andet (T) - per dag"
       ],
       "description": "Attributes",
       "index": 1,
       "layout": "IPY_MODEL_b8dccf65530642158f706fb38eb15743",
       "style": "IPY_MODEL_622d66826a1141738c626af5557ec24b"
      }
     },
     "2294e54898f340db920c2fef2d69d3da": {
      "model_module": "@jupyter-widgets/controls",
      "model_module_version": "1.5.0",
      "model_name": "DescriptionStyleModel",
      "state": {
       "description_width": ""
      }
     },
     "2550dfbac6924a739b9b172d899c07b7": {
      "model_module": "@jupyter-widgets/controls",
      "model_module_version": "1.5.0",
      "model_name": "DescriptionStyleModel",
      "state": {
       "description_width": ""
      }
     },
     "2777c30f263b4ed6a595e6be80a71f9e": {
      "model_module": "@jupyter-widgets/base",
      "model_module_version": "1.2.0",
      "model_name": "LayoutModel",
      "state": {}
     },
     "27d9940cac304e2192aa2ce5bbb6b606": {
      "model_module": "@jupyter-widgets/base",
      "model_module_version": "1.2.0",
      "model_name": "LayoutModel",
      "state": {}
     },
     "2abbe97e55934fc684afb078fa5174b1": {
      "model_module": "@jupyter-widgets/base",
      "model_module_version": "1.2.0",
      "model_name": "LayoutModel",
      "state": {}
     },
     "2db9eabfa7eb4ea1a37b06dbd2e50904": {
      "model_module": "@jupyter-widgets/base",
      "model_module_version": "1.2.0",
      "model_name": "LayoutModel",
      "state": {}
     },
     "30ddeecd747d4cbeb4818000a8e22739": {
      "model_module": "@jupyter-widgets/controls",
      "model_module_version": "1.5.0",
      "model_name": "DescriptionStyleModel",
      "state": {
       "description_width": ""
      }
     },
     "34539fc7b2c940e68c4d863dbb9df0eb": {
      "model_module": "@jupyter-widgets/controls",
      "model_module_version": "1.5.0",
      "model_name": "DescriptionStyleModel",
      "state": {
       "description_width": ""
      }
     },
     "376c498a3ce845a9af45106f488d98a9": {
      "model_module": "@jupyter-widgets/controls",
      "model_module_version": "1.5.0",
      "model_name": "DropdownModel",
      "state": {
       "_options_labels": [
        "Stephanie Dam",
        "Hafsah Tasneem",
        "Jesper Jin Leen Larsen",
        "Anne Sylvester Walters"
       ],
       "description": "Agents",
       "index": 0,
       "layout": "IPY_MODEL_1401b6701ef54f8cabd3cb461939c7c7",
       "style": "IPY_MODEL_dd31b170de484402bd8e57cce4506344"
      }
     },
     "38fae2bff975467b8a5b9c6bb22f2a2e": {
      "model_module": "@jupyter-widgets/controls",
      "model_module_version": "1.5.0",
      "model_name": "DescriptionStyleModel",
      "state": {
       "description_width": ""
      }
     },
     "3acae820b49142a2b13ee172a15fc0bb": {
      "model_module": "@jupyter-widgets/controls",
      "model_module_version": "1.5.0",
      "model_name": "DescriptionStyleModel",
      "state": {
       "description_width": ""
      }
     },
     "3b43991330be47668d8bf89c5c2ba913": {
      "model_module": "@jupyter-widgets/base",
      "model_module_version": "1.2.0",
      "model_name": "LayoutModel",
      "state": {}
     },
     "3b52ac09d8c24c05be8a01b77df67d23": {
      "model_module": "@jupyter-widgets/controls",
      "model_module_version": "1.5.0",
      "model_name": "DescriptionStyleModel",
      "state": {
       "description_width": ""
      }
     },
     "3be4a212b36a431eb26a487fd4125f66": {
      "model_module": "@jupyter-widgets/controls",
      "model_module_version": "1.5.0",
      "model_name": "DescriptionStyleModel",
      "state": {
       "description_width": ""
      }
     },
     "3d158256bf2f48c4bd4dc9a441b55d8c": {
      "model_module": "@jupyter-widgets/base",
      "model_module_version": "1.2.0",
      "model_name": "LayoutModel",
      "state": {}
     },
     "3f3e23fcc1ed469c9bbdcc0e7b33e14e": {
      "model_module": "@jupyter-widgets/base",
      "model_module_version": "1.2.0",
      "model_name": "LayoutModel",
      "state": {}
     },
     "3ff601856b2a4b37aa046a00eea136aa": {
      "model_module": "@jupyter-widgets/controls",
      "model_module_version": "1.5.0",
      "model_name": "DropdownModel",
      "state": {
       "_options_labels": [
        "Login-timer / dag",
        "Indgående Opkald per dag",
        "Udgående Opkald per dag",
        "Tabte Opkald per dag",
        "Samtale (min) per Opkald",
        "Aktiv/Klar (T) - Samlet per dag",
        "Samtale (T) - per dag",
        "Klar (T) - per dag",
        "Administration (T) - per dag",
        "Pause (T) - per dag",
        "ikke klar (T) Andet - per dag",
        "Ukendt/Andet (T) - per dag"
       ],
       "description": "Attributes",
       "index": 0,
       "layout": "IPY_MODEL_f87e715ba2e94b36b5bb57fc6271cd86",
       "style": "IPY_MODEL_c70604e9bc7849649d8a0b0d236a1dde"
      }
     },
     "44a9a033c37744c79a75e25227978627": {
      "model_module": "@jupyter-widgets/controls",
      "model_module_version": "1.5.0",
      "model_name": "DropdownModel",
      "state": {
       "_options_labels": [
        "Stephanie Dam",
        "Hafsah Tasneem",
        "Jesper Jin Leen Larsen",
        "Anne Sylvester Walters"
       ],
       "description": "Agents",
       "index": 3,
       "layout": "IPY_MODEL_87a69932d433473eb84fd30bc5405b4b",
       "style": "IPY_MODEL_50b785f589fe4f168d2f03a870743921"
      }
     },
     "472eb3fba1c94738a33aaa8673d41bc3": {
      "model_module": "@jupyter-widgets/controls",
      "model_module_version": "1.5.0",
      "model_name": "DescriptionStyleModel",
      "state": {
       "description_width": ""
      }
     },
     "47689715565e4cd58911f6bd45bc91a1": {
      "model_module": "@jupyter-widgets/controls",
      "model_module_version": "1.5.0",
      "model_name": "DropdownModel",
      "state": {
       "_options_labels": [
        "Stephanie Dam",
        "Hafsah Tasneem",
        "Jesper Jin Leen Larsen"
       ],
       "description": "Agents",
       "index": 2,
       "layout": "IPY_MODEL_da1142707ba2479abbd220e0905a52eb",
       "style": "IPY_MODEL_e4dd6a40ccc64859ad5a422d95a5ecdb"
      }
     },
     "478a4853c4214c329e178f973fff106f": {
      "model_module": "@jupyter-widgets/controls",
      "model_module_version": "1.5.0",
      "model_name": "DropdownModel",
      "state": {
       "_options_labels": [
        "Login-timer / dag",
        "Tabte Opkald per dag",
        "Samtale (min) per Opkald",
        "Aktiv/Klar (T) - Samlet per dag",
        "Samtale (T) - per dag",
        "Klar (T) - per dag",
        "Administration (T) - per dag",
        "Pause (T) - per dag",
        "ikke klar (T) Andet - per dag",
        "Ukendt/Andet (T) - per dag"
       ],
       "description": "Attributes",
       "index": 7,
       "layout": "IPY_MODEL_ecf5f91fed024d2f95967a62b4611352",
       "style": "IPY_MODEL_826c298a9ae5451cbf77f8e4c02891fb"
      }
     },
     "4889b40f8a1b4ca3be9b5915e6696946": {
      "model_module": "@jupyter-widgets/base",
      "model_module_version": "1.2.0",
      "model_name": "LayoutModel",
      "state": {}
     },
     "4be7b8de00df45b8a53d893ccd224e1e": {
      "model_module": "@jupyter-widgets/controls",
      "model_module_version": "1.5.0",
      "model_name": "DropdownModel",
      "state": {
       "_options_labels": [
        "1",
        "2",
        "3"
       ],
       "description": "Number:",
       "index": 0,
       "layout": "IPY_MODEL_db2e73db7e084812a953573e985277fa",
       "style": "IPY_MODEL_2294e54898f340db920c2fef2d69d3da"
      }
     },
     "4cc08c2dda2c4a09b42663cb046210a6": {
      "model_module": "@jupyter-widgets/controls",
      "model_module_version": "1.5.0",
      "model_name": "DropdownModel",
      "state": {
       "_options_labels": [
        "Stephanie Dam",
        "Hafsah Tasneem",
        "Jesper Jin Leen Larsen",
        "Anne Sylvester Walters"
       ],
       "description": "Agents",
       "index": 1,
       "layout": "IPY_MODEL_9723d476b0f64a27951346b589e8ef63",
       "style": "IPY_MODEL_db5b8922b5334e95936e18045e15a3af"
      }
     },
     "4cc1765bdcb74f5caaa4b3ceee9b9a25": {
      "model_module": "@jupyter-widgets/controls",
      "model_module_version": "1.5.0",
      "model_name": "DropdownModel",
      "state": {
       "_options_labels": [
        "Login-timer / dag",
        "Tabte Opkald per dag",
        "Samtale (min) per Opkald",
        "Aktiv/Klar (T) - Samlet per dag",
        "Samtale (T) - per dag",
        "Klar (T) - per dag",
        "Administration (T) - per dag",
        "Pause (T) - per dag",
        "ikke klar (T) Andet - per dag",
        "Ukendt/Andet (T) - per dag"
       ],
       "description": "Attributes",
       "index": 0,
       "layout": "IPY_MODEL_3b43991330be47668d8bf89c5c2ba913",
       "style": "IPY_MODEL_a766fc3e24cb41e4a9ba201f8b8b163c"
      }
     },
     "4e58fb82b4a244bea5a39bb3709592f2": {
      "model_module": "@jupyter-widgets/base",
      "model_module_version": "1.2.0",
      "model_name": "LayoutModel",
      "state": {}
     },
     "50b785f589fe4f168d2f03a870743921": {
      "model_module": "@jupyter-widgets/controls",
      "model_module_version": "1.5.0",
      "model_name": "DescriptionStyleModel",
      "state": {
       "description_width": ""
      }
     },
     "51a9d3b1233146a59d46cec6c1ceff6b": {
      "model_module": "@jupyter-widgets/controls",
      "model_module_version": "1.5.0",
      "model_name": "DescriptionStyleModel",
      "state": {
       "description_width": ""
      }
     },
     "586e6980b2084933a6611e53502f52ef": {
      "model_module": "@jupyter-widgets/base",
      "model_module_version": "1.2.0",
      "model_name": "LayoutModel",
      "state": {}
     },
     "5a0f6da5473143e3afa24180b7c37fbd": {
      "model_module": "@jupyter-widgets/controls",
      "model_module_version": "1.5.0",
      "model_name": "DropdownModel",
      "state": {
       "_options_labels": [
        "Login-timer / dag",
        "Indgående Opkald per dag",
        "Udgående Opkald per dag",
        "Tabte Opkald per dag",
        "Samtale (min) per Opkald",
        "Aktiv/Klar (T) - Samlet per dag",
        "Samtale (T) - per dag",
        "Klar (T) - per dag",
        "Administration (T) - per dag",
        "Pause (T) - per dag",
        "ikke klar (T) Andet - per dag",
        "Ukendt/Andet (T) - per dag"
       ],
       "description": "Attributes",
       "index": 0,
       "layout": "IPY_MODEL_3f3e23fcc1ed469c9bbdcc0e7b33e14e",
       "style": "IPY_MODEL_2550dfbac6924a739b9b172d899c07b7"
      }
     },
     "5b51cc24b5a041d285f8b180939a4d0c": {
      "model_module": "@jupyter-widgets/controls",
      "model_module_version": "1.5.0",
      "model_name": "DropdownModel",
      "state": {
       "_options_labels": [
        "Stephanie Dam",
        "Hafsah Tasneem",
        "Jesper Jin Leen Larsen"
       ],
       "description": "Agents",
       "index": 0,
       "layout": "IPY_MODEL_a5e75e623cfa4802b9d1f285e39bb0c3",
       "style": "IPY_MODEL_472eb3fba1c94738a33aaa8673d41bc3"
      }
     },
     "5d57b72161f04c12b14e3e6a48b263e3": {
      "model_module": "@jupyter-widgets/controls",
      "model_module_version": "1.5.0",
      "model_name": "DescriptionStyleModel",
      "state": {
       "description_width": ""
      }
     },
     "622d66826a1141738c626af5557ec24b": {
      "model_module": "@jupyter-widgets/controls",
      "model_module_version": "1.5.0",
      "model_name": "DescriptionStyleModel",
      "state": {
       "description_width": ""
      }
     },
     "6b152914eaac4d5280b16012f959157d": {
      "model_module": "@jupyter-widgets/base",
      "model_module_version": "1.2.0",
      "model_name": "LayoutModel",
      "state": {}
     },
     "7020c277b8e647c2b2162f8607d88dea": {
      "model_module": "@jupyter-widgets/controls",
      "model_module_version": "1.5.0",
      "model_name": "DescriptionStyleModel",
      "state": {
       "description_width": ""
      }
     },
     "72651eebd50f4864b07456f52785e558": {
      "model_module": "@jupyter-widgets/controls",
      "model_module_version": "1.5.0",
      "model_name": "DropdownModel",
      "state": {
       "_options_labels": [
        "Stephanie Dam",
        "Hafsah Tasneem",
        "Jesper Jin Leen Larsen",
        "Anne Sylvester Walters"
       ],
       "description": "Agents",
       "index": 0,
       "layout": "IPY_MODEL_f47e6b6e44104e9fa8ff561708c41e7c",
       "style": "IPY_MODEL_8efafd3bbf614f4c836a5af8ba53b7fb"
      }
     },
     "72b53c454eb8410a8b8bfa699380d443": {
      "model_module": "@jupyter-widgets/base",
      "model_module_version": "1.2.0",
      "model_name": "LayoutModel",
      "state": {}
     },
     "754965388dbf41a2b91612797122f161": {
      "model_module": "@jupyter-widgets/controls",
      "model_module_version": "1.5.0",
      "model_name": "DescriptionStyleModel",
      "state": {
       "description_width": ""
      }
     },
     "766b8a2f5fc048bfae2ae6d3f502ddda": {
      "model_module": "@jupyter-widgets/controls",
      "model_module_version": "1.5.0",
      "model_name": "DropdownModel",
      "state": {
       "_options_labels": [
        "Login-timer / dag",
        "Tabte Opkald per dag",
        "Samtale (min) per Opkald",
        "Aktiv/Klar (T) - Samlet per dag",
        "Samtale (T) - per dag",
        "Klar (T) - per dag",
        "Administration (T) - per dag",
        "Pause (T) - per dag",
        "ikke klar (T) Andet - per dag",
        "Ukendt/Andet (T) - per dag"
       ],
       "description": "Attributes",
       "index": 0,
       "layout": "IPY_MODEL_af60134066d049e69ccc4605a5a922ac",
       "style": "IPY_MODEL_169b02edea8948308fe534859a9b35f3"
      }
     },
     "772b3bbe15f74e8fb0b39680c11c9e50": {
      "model_module": "@jupyter-widgets/base",
      "model_module_version": "1.2.0",
      "model_name": "LayoutModel",
      "state": {}
     },
     "7748ea7108184f75a9b12ab94fba8f1d": {
      "model_module": "@jupyter-widgets/controls",
      "model_module_version": "1.5.0",
      "model_name": "DescriptionStyleModel",
      "state": {
       "description_width": ""
      }
     },
     "7864fbf856d2493294073922695bc7fc": {
      "model_module": "@jupyter-widgets/controls",
      "model_module_version": "1.5.0",
      "model_name": "DropdownModel",
      "state": {
       "_options_labels": [
        "Stephanie Dam",
        "Hafsah Tasneem",
        "Jesper Jin Leen Larsen",
        "Anne Sylvester Walters"
       ],
       "description": "Agents",
       "index": 1,
       "layout": "IPY_MODEL_2777c30f263b4ed6a595e6be80a71f9e",
       "style": "IPY_MODEL_9710d2e017024789904c1f4263416dcd"
      }
     },
     "7a8391460e64446ea60d55547e5ad0e6": {
      "model_module": "@jupyter-widgets/controls",
      "model_module_version": "1.5.0",
      "model_name": "DescriptionStyleModel",
      "state": {
       "description_width": ""
      }
     },
     "7e71ccde2e134858b5794c77e8d5f1a1": {
      "model_module": "@jupyter-widgets/controls",
      "model_module_version": "1.5.0",
      "model_name": "DropdownModel",
      "state": {
       "_options_labels": [
        "1",
        "2",
        "3"
       ],
       "description": "Number:",
       "index": 0,
       "layout": "IPY_MODEL_4889b40f8a1b4ca3be9b5915e6696946",
       "style": "IPY_MODEL_5d57b72161f04c12b14e3e6a48b263e3"
      }
     },
     "826c298a9ae5451cbf77f8e4c02891fb": {
      "model_module": "@jupyter-widgets/controls",
      "model_module_version": "1.5.0",
      "model_name": "DescriptionStyleModel",
      "state": {
       "description_width": ""
      }
     },
     "87a69932d433473eb84fd30bc5405b4b": {
      "model_module": "@jupyter-widgets/base",
      "model_module_version": "1.2.0",
      "model_name": "LayoutModel",
      "state": {}
     },
     "87cccd6623b74fcba7c07c2f6a0519d4": {
      "model_module": "@jupyter-widgets/controls",
      "model_module_version": "1.5.0",
      "model_name": "DescriptionStyleModel",
      "state": {
       "description_width": ""
      }
     },
     "8847ab2f880a4d4199b971cffaacb4b5": {
      "model_module": "@jupyter-widgets/base",
      "model_module_version": "1.2.0",
      "model_name": "LayoutModel",
      "state": {}
     },
     "8af06964dd5a4561a483c05074c33b19": {
      "model_module": "@jupyter-widgets/controls",
      "model_module_version": "1.5.0",
      "model_name": "DescriptionStyleModel",
      "state": {
       "description_width": ""
      }
     },
     "8b3c576b74f5454eb487646cd2aabca1": {
      "model_module": "@jupyter-widgets/controls",
      "model_module_version": "1.5.0",
      "model_name": "DropdownModel",
      "state": {
       "_options_labels": [
        "Stephanie Dam",
        "Hafsah Tasneem",
        "Jesper Jin Leen Larsen"
       ],
       "description": "Agents",
       "index": 0,
       "layout": "IPY_MODEL_c1984ee0d39840cf95010f051b6f3add",
       "style": "IPY_MODEL_fdf5b02611554922a510e445c5a7b5ed"
      }
     },
     "8c251030cf8a4981911193390f07aa59": {
      "model_module": "@jupyter-widgets/controls",
      "model_module_version": "1.5.0",
      "model_name": "DescriptionStyleModel",
      "state": {
       "description_width": ""
      }
     },
     "8efafd3bbf614f4c836a5af8ba53b7fb": {
      "model_module": "@jupyter-widgets/controls",
      "model_module_version": "1.5.0",
      "model_name": "DescriptionStyleModel",
      "state": {
       "description_width": ""
      }
     },
     "8fd0d96909b14dd7ac8487e53c49f1f4": {
      "model_module": "@jupyter-widgets/controls",
      "model_module_version": "1.5.0",
      "model_name": "DropdownModel",
      "state": {
       "_options_labels": [
        "Stephanie Dam",
        "Hafsah Tasneem",
        "Jesper Jin Leen Larsen"
       ],
       "description": "Agents Names",
       "index": 0,
       "layout": "IPY_MODEL_c8ef9f8659744218b55094de7723679d",
       "style": "IPY_MODEL_d39e570980a84972bcb3aba225c36406"
      }
     },
     "8fe5c8d6b64e4c03b484c0b8a56a870a": {
      "model_module": "@jupyter-widgets/base",
      "model_module_version": "1.2.0",
      "model_name": "LayoutModel",
      "state": {}
     },
     "93bf674cd6e24c80a391b06d5bc39536": {
      "model_module": "@jupyter-widgets/controls",
      "model_module_version": "1.5.0",
      "model_name": "DropdownModel",
      "state": {
       "_options_labels": [
        "Login-timer / dag",
        "Tabte Opkald per dag",
        "Samtale (min) per Opkald",
        "Aktiv/Klar (T) - Samlet per dag",
        "Samtale (T) - per dag",
        "Klar (T) - per dag",
        "Administration (T) - per dag",
        "Pause (T) - per dag",
        "ikke klar (T) Andet - per dag",
        "Ukendt/Andet (T) - per dag"
       ],
       "description": "Attributes",
       "index": 1,
       "layout": "IPY_MODEL_1b559f3bbc7545eba6ff1ef24c8a1f7b",
       "style": "IPY_MODEL_754965388dbf41a2b91612797122f161"
      }
     },
     "94f311f7eb0b4bd1bf8628ada169703e": {
      "model_module": "@jupyter-widgets/base",
      "model_module_version": "1.2.0",
      "model_name": "LayoutModel",
      "state": {}
     },
     "96ffdbe143c14eebb93f879fc689611e": {
      "model_module": "@jupyter-widgets/controls",
      "model_module_version": "1.5.0",
      "model_name": "DropdownModel",
      "state": {
       "_options_labels": [
        "Stephanie Dam",
        "Hafsah Tasneem",
        "Jesper Jin Leen Larsen",
        "Anne Sylvester Walters"
       ],
       "description": "Agents",
       "index": 3,
       "layout": "IPY_MODEL_1be64f8d1b634880a98525f26398bab6",
       "style": "IPY_MODEL_3b52ac09d8c24c05be8a01b77df67d23"
      }
     },
     "9710d2e017024789904c1f4263416dcd": {
      "model_module": "@jupyter-widgets/controls",
      "model_module_version": "1.5.0",
      "model_name": "DescriptionStyleModel",
      "state": {
       "description_width": ""
      }
     },
     "9723d476b0f64a27951346b589e8ef63": {
      "model_module": "@jupyter-widgets/base",
      "model_module_version": "1.2.0",
      "model_name": "LayoutModel",
      "state": {}
     },
     "9e7cbbe678b94272a223d3ddaa658f7c": {
      "model_module": "@jupyter-widgets/base",
      "model_module_version": "1.2.0",
      "model_name": "LayoutModel",
      "state": {}
     },
     "a51f6e4461954f218b8f5f88636def94": {
      "model_module": "@jupyter-widgets/controls",
      "model_module_version": "1.5.0",
      "model_name": "DropdownModel",
      "state": {
       "_options_labels": [
        "Login-timer / dag",
        "Indgående Opkald per dag",
        "Udgående Opkald per dag",
        "Tabte Opkald per dag",
        "Samtale (min) per Opkald",
        "Aktiv/Klar (T) - Samlet per dag",
        "Samtale (T) - per dag",
        "Klar (T) - per dag",
        "Administration (T) - per dag",
        "Pause (T) - per dag",
        "ikke klar (T) Andet - per dag",
        "Ukendt/Andet (T) - per dag"
       ],
       "description": "Attributes",
       "index": 0,
       "layout": "IPY_MODEL_4e58fb82b4a244bea5a39bb3709592f2",
       "style": "IPY_MODEL_87cccd6623b74fcba7c07c2f6a0519d4"
      }
     },
     "a5e75e623cfa4802b9d1f285e39bb0c3": {
      "model_module": "@jupyter-widgets/base",
      "model_module_version": "1.2.0",
      "model_name": "LayoutModel",
      "state": {}
     },
     "a766fc3e24cb41e4a9ba201f8b8b163c": {
      "model_module": "@jupyter-widgets/controls",
      "model_module_version": "1.5.0",
      "model_name": "DescriptionStyleModel",
      "state": {
       "description_width": ""
      }
     },
     "ad975e4ed1bd476d95397a55bbf88731": {
      "model_module": "@jupyter-widgets/base",
      "model_module_version": "1.2.0",
      "model_name": "LayoutModel",
      "state": {}
     },
     "af60134066d049e69ccc4605a5a922ac": {
      "model_module": "@jupyter-widgets/base",
      "model_module_version": "1.2.0",
      "model_name": "LayoutModel",
      "state": {}
     },
     "b08ca60a3ff34882b32e8158441e5530": {
      "model_module": "@jupyter-widgets/controls",
      "model_module_version": "1.5.0",
      "model_name": "DescriptionStyleModel",
      "state": {
       "description_width": ""
      }
     },
     "b2b71d73d6094adda424aba2d372f4b8": {
      "model_module": "@jupyter-widgets/controls",
      "model_module_version": "1.5.0",
      "model_name": "DescriptionStyleModel",
      "state": {
       "description_width": ""
      }
     },
     "b8081799512b4daf985a7cf23942c2db": {
      "model_module": "@jupyter-widgets/controls",
      "model_module_version": "1.5.0",
      "model_name": "DropdownModel",
      "state": {
       "_options_labels": [
        "Stephanie Dam",
        "Hafsah Tasneem",
        "Jesper Jin Leen Larsen",
        "Anne Sylvester Walters"
       ],
       "description": "Agents",
       "index": 0,
       "layout": "IPY_MODEL_e5a452537302475d8e7b72b87c61571b",
       "style": "IPY_MODEL_d4cae1a571c44002838715add8bab208"
      }
     },
     "b8dccf65530642158f706fb38eb15743": {
      "model_module": "@jupyter-widgets/base",
      "model_module_version": "1.2.0",
      "model_name": "LayoutModel",
      "state": {}
     },
     "b8e71223416541d280256c9cd36ed36a": {
      "model_module": "@jupyter-widgets/base",
      "model_module_version": "1.2.0",
      "model_name": "LayoutModel",
      "state": {}
     },
     "bfbaf661330342d487935c05ddd05134": {
      "model_module": "@jupyter-widgets/base",
      "model_module_version": "1.2.0",
      "model_name": "LayoutModel",
      "state": {}
     },
     "bfd47a4e816a403e9888abd0ee167797": {
      "model_module": "@jupyter-widgets/controls",
      "model_module_version": "1.5.0",
      "model_name": "DropdownModel",
      "state": {
       "_options_labels": [
        "Stephanie Dam",
        "Hafsah Tasneem",
        "Jesper Jin Leen Larsen"
       ],
       "description": "Agents",
       "index": 0,
       "layout": "IPY_MODEL_b8e71223416541d280256c9cd36ed36a",
       "style": "IPY_MODEL_125c98017ce3491482976bc03aafa762"
      }
     },
     "c1984ee0d39840cf95010f051b6f3add": {
      "model_module": "@jupyter-widgets/base",
      "model_module_version": "1.2.0",
      "model_name": "LayoutModel",
      "state": {}
     },
     "c3c9012ed99b4250907129703d818b40": {
      "model_module": "@jupyter-widgets/controls",
      "model_module_version": "1.5.0",
      "model_name": "DropdownModel",
      "state": {
       "_options_labels": [
        "Login-timer / dag",
        "Indgående Opkald per dag",
        "Udgående Opkald per dag",
        "Tabte Opkald per dag",
        "Samtale (min) per Opkald",
        "Aktiv/Klar (T) - Samlet per dag",
        "Samtale (T) - per dag",
        "Klar (T) - per dag",
        "Administration (T) - per dag",
        "Pause (T) - per dag",
        "ikke klar (T) Andet - per dag",
        "Ukendt/Andet (T) - per dag"
       ],
       "description": "Attributes",
       "index": 1,
       "layout": "IPY_MODEL_000e22cfd85e4799a62cba1c3f2b7afb",
       "style": "IPY_MODEL_7748ea7108184f75a9b12ab94fba8f1d"
      }
     },
     "c70604e9bc7849649d8a0b0d236a1dde": {
      "model_module": "@jupyter-widgets/controls",
      "model_module_version": "1.5.0",
      "model_name": "DescriptionStyleModel",
      "state": {
       "description_width": ""
      }
     },
     "c869aab48a5e43ba8fe9382732669a39": {
      "model_module": "@jupyter-widgets/controls",
      "model_module_version": "1.5.0",
      "model_name": "DropdownModel",
      "state": {
       "_options_labels": [
        "Stephanie Dam",
        "Hafsah Tasneem",
        "Jesper Jin Leen Larsen"
       ],
       "description": "Agents",
       "index": 0,
       "layout": "IPY_MODEL_27d9940cac304e2192aa2ce5bbb6b606",
       "style": "IPY_MODEL_7a8391460e64446ea60d55547e5ad0e6"
      }
     },
     "c8ef9f8659744218b55094de7723679d": {
      "model_module": "@jupyter-widgets/base",
      "model_module_version": "1.2.0",
      "model_name": "LayoutModel",
      "state": {}
     },
     "cadd872662524c94a2e8dcfc184fffff": {
      "model_module": "@jupyter-widgets/controls",
      "model_module_version": "1.5.0",
      "model_name": "DropdownModel",
      "state": {
       "_options_labels": [
        "Login-timer / dag",
        "Indgående Opkald per dag",
        "Udgående Opkald per dag",
        "Tabte Opkald per dag",
        "Samtale (min) per Opkald",
        "Aktiv/Klar (T) - Samlet per dag",
        "Samtale (T) - per dag",
        "Klar (T) - per dag",
        "Administration (T) - per dag",
        "Pause (T) - per dag",
        "ikke klar (T) Andet - per dag",
        "Ukendt/Andet (T) - per dag"
       ],
       "description": "Attributes",
       "index": 1,
       "layout": "IPY_MODEL_8fe5c8d6b64e4c03b484c0b8a56a870a",
       "style": "IPY_MODEL_51a9d3b1233146a59d46cec6c1ceff6b"
      }
     },
     "cd65b2616cbe4479a7a6ba2373aab542": {
      "model_module": "@jupyter-widgets/controls",
      "model_module_version": "1.5.0",
      "model_name": "DropdownModel",
      "state": {
       "_options_labels": [
        "Stephanie Dam",
        "Hafsah Tasneem",
        "Jesper Jin Leen Larsen"
       ],
       "description": "Agents Names",
       "index": 0,
       "layout": "IPY_MODEL_72b53c454eb8410a8b8bfa699380d443",
       "style": "IPY_MODEL_11e910c46e2a4c179610f2b7e5a3a23f"
      }
     },
     "cdd7f2d9e15144bea334b469bf254022": {
      "model_module": "@jupyter-widgets/controls",
      "model_module_version": "1.5.0",
      "model_name": "DescriptionStyleModel",
      "state": {
       "description_width": ""
      }
     },
     "d2bbecea7ec54c3a8b615f26b333d1e9": {
      "model_module": "@jupyter-widgets/controls",
      "model_module_version": "1.5.0",
      "model_name": "DropdownModel",
      "state": {
       "_options_labels": [
        "Login-timer / dag",
        "Indgående Opkald per dag",
        "Udgående Opkald per dag",
        "Tabte Opkald per dag",
        "Samtale (min) per Opkald",
        "Aktiv/Klar (T) - Samlet per dag",
        "Samtale (T) - per dag",
        "Klar (T) - per dag",
        "Administration (T) - per dag",
        "Pause (T) - per dag",
        "ikke klar (T) Andet - per dag",
        "Ukendt/Andet (T) - per dag"
       ],
       "description": "Attributes",
       "index": 1,
       "layout": "IPY_MODEL_772b3bbe15f74e8fb0b39680c11c9e50",
       "style": "IPY_MODEL_fe976e58baa147d8a6274e1f9443321b"
      }
     },
     "d39e570980a84972bcb3aba225c36406": {
      "model_module": "@jupyter-widgets/controls",
      "model_module_version": "1.5.0",
      "model_name": "DescriptionStyleModel",
      "state": {
       "description_width": ""
      }
     },
     "d4cae1a571c44002838715add8bab208": {
      "model_module": "@jupyter-widgets/controls",
      "model_module_version": "1.5.0",
      "model_name": "DescriptionStyleModel",
      "state": {
       "description_width": ""
      }
     },
     "d5e04686d83f4e58abe88526c17d5126": {
      "model_module": "@jupyter-widgets/controls",
      "model_module_version": "1.5.0",
      "model_name": "DropdownModel",
      "state": {
       "_options_labels": [
        "Stephanie Dam",
        "Hafsah Tasneem",
        "Jesper Jin Leen Larsen"
       ],
       "description": "Agents Names",
       "index": 0,
       "layout": "IPY_MODEL_fcf113d2e101413097150c4ce4f65821",
       "style": "IPY_MODEL_30ddeecd747d4cbeb4818000a8e22739"
      }
     },
     "d78a94cc7a8148668d4e9fd375e1f567": {
      "model_module": "@jupyter-widgets/base",
      "model_module_version": "1.2.0",
      "model_name": "LayoutModel",
      "state": {}
     },
     "d79ed665f9744aaf8004648eb9cf4693": {
      "model_module": "@jupyter-widgets/controls",
      "model_module_version": "1.5.0",
      "model_name": "DropdownModel",
      "state": {
       "_options_labels": [
        "Stephanie Dam",
        "Hafsah Tasneem",
        "Jesper Jin Leen Larsen"
       ],
       "description": "Agents",
       "index": 0,
       "layout": "IPY_MODEL_04eb41fb04724faf933c57fe7267c9b8",
       "style": "IPY_MODEL_34539fc7b2c940e68c4d863dbb9df0eb"
      }
     },
     "da0e9c64b2824dbe8e4b4f9cb5b45053": {
      "model_module": "@jupyter-widgets/controls",
      "model_module_version": "1.5.0",
      "model_name": "DescriptionStyleModel",
      "state": {
       "description_width": ""
      }
     },
     "da1142707ba2479abbd220e0905a52eb": {
      "model_module": "@jupyter-widgets/base",
      "model_module_version": "1.2.0",
      "model_name": "LayoutModel",
      "state": {}
     },
     "db2e73db7e084812a953573e985277fa": {
      "model_module": "@jupyter-widgets/base",
      "model_module_version": "1.2.0",
      "model_name": "LayoutModel",
      "state": {}
     },
     "db5b8922b5334e95936e18045e15a3af": {
      "model_module": "@jupyter-widgets/controls",
      "model_module_version": "1.5.0",
      "model_name": "DescriptionStyleModel",
      "state": {
       "description_width": ""
      }
     },
     "db8b91ac7d2944f588dc82dc584a2d72": {
      "model_module": "@jupyter-widgets/controls",
      "model_module_version": "1.5.0",
      "model_name": "DropdownModel",
      "state": {
       "_options_labels": [
        "Stephanie Dam",
        "Hafsah Tasneem",
        "Jesper Jin Leen Larsen"
       ],
       "description": "Agents",
       "index": 0,
       "layout": "IPY_MODEL_decef810fd084747863f0b7ce9fe5916",
       "style": "IPY_MODEL_7020c277b8e647c2b2162f8607d88dea"
      }
     },
     "dd31b170de484402bd8e57cce4506344": {
      "model_module": "@jupyter-widgets/controls",
      "model_module_version": "1.5.0",
      "model_name": "DescriptionStyleModel",
      "state": {
       "description_width": ""
      }
     },
     "decef810fd084747863f0b7ce9fe5916": {
      "model_module": "@jupyter-widgets/base",
      "model_module_version": "1.2.0",
      "model_name": "LayoutModel",
      "state": {}
     },
     "dfe9f68e8a9940fe8637256cb1ca28c6": {
      "model_module": "@jupyter-widgets/controls",
      "model_module_version": "1.5.0",
      "model_name": "DropdownModel",
      "state": {
       "_options_labels": [
        "Stephanie Dam",
        "Hafsah Tasneem",
        "Jesper Jin Leen Larsen"
       ],
       "description": "Agents Names",
       "index": 0,
       "layout": "IPY_MODEL_8847ab2f880a4d4199b971cffaacb4b5",
       "style": "IPY_MODEL_8af06964dd5a4561a483c05074c33b19"
      }
     },
     "e2391d0674564fe1bd6bd3ad42003274": {
      "model_module": "@jupyter-widgets/controls",
      "model_module_version": "1.5.0",
      "model_name": "DropdownModel",
      "state": {
       "_options_labels": [
        "Login-timer / dag",
        "Tabte Opkald per dag",
        "Samtale (min) per Opkald",
        "Aktiv/Klar (T) - Samlet per dag",
        "Samtale (T) - per dag",
        "Klar (T) - per dag",
        "Administration (T) - per dag",
        "Pause (T) - per dag",
        "ikke klar (T) Andet - per dag",
        "Ukendt/Andet (T) - per dag"
       ],
       "description": "Attributes",
       "index": 0,
       "layout": "IPY_MODEL_bfbaf661330342d487935c05ddd05134",
       "style": "IPY_MODEL_3acae820b49142a2b13ee172a15fc0bb"
      }
     },
     "e4dd6a40ccc64859ad5a422d95a5ecdb": {
      "model_module": "@jupyter-widgets/controls",
      "model_module_version": "1.5.0",
      "model_name": "DescriptionStyleModel",
      "state": {
       "description_width": ""
      }
     },
     "e5a452537302475d8e7b72b87c61571b": {
      "model_module": "@jupyter-widgets/base",
      "model_module_version": "1.2.0",
      "model_name": "LayoutModel",
      "state": {}
     },
     "ea586f8403714d428c0af3a6cdc4b221": {
      "model_module": "@jupyter-widgets/controls",
      "model_module_version": "1.5.0",
      "model_name": "DropdownModel",
      "state": {
       "_options_labels": [
        "Login-timer / dag",
        "Tabte Opkald per dag",
        "Samtale (min) per Opkald",
        "Aktiv/Klar (T) - Samlet per dag",
        "Samtale (T) - per dag",
        "Klar (T) - per dag",
        "Administration (T) - per dag",
        "Pause (T) - per dag",
        "ikke klar (T) Andet - per dag",
        "Ukendt/Andet (T) - per dag"
       ],
       "description": "Attributes",
       "index": 0,
       "layout": "IPY_MODEL_ad975e4ed1bd476d95397a55bbf88731",
       "style": "IPY_MODEL_3be4a212b36a431eb26a487fd4125f66"
      }
     },
     "ebc41df03bbb49359a52e5e43be1f4c6": {
      "model_module": "@jupyter-widgets/controls",
      "model_module_version": "1.5.0",
      "model_name": "DescriptionStyleModel",
      "state": {
       "description_width": ""
      }
     },
     "eccd6dc08d5b48f78d0b4be83c60f5e9": {
      "model_module": "@jupyter-widgets/controls",
      "model_module_version": "1.5.0",
      "model_name": "DescriptionStyleModel",
      "state": {
       "description_width": ""
      }
     },
     "ecf5f91fed024d2f95967a62b4611352": {
      "model_module": "@jupyter-widgets/base",
      "model_module_version": "1.2.0",
      "model_name": "LayoutModel",
      "state": {}
     },
     "ed5e53e335df48d6a421296d8ccf2b2c": {
      "model_module": "@jupyter-widgets/controls",
      "model_module_version": "1.5.0",
      "model_name": "DropdownModel",
      "state": {
       "_options_labels": [
        "Stephanie Dam",
        "Hafsah Tasneem",
        "Jesper Jin Leen Larsen"
       ],
       "description": "Agents",
       "index": 0,
       "layout": "IPY_MODEL_d78a94cc7a8148668d4e9fd375e1f567",
       "style": "IPY_MODEL_0abb11d9113d4a48ae1a6c2a8bed8282"
      }
     },
     "f0609b51b0764345988dafba59f2eb22": {
      "model_module": "@jupyter-widgets/controls",
      "model_module_version": "1.5.0",
      "model_name": "DropdownModel",
      "state": {
       "_options_labels": [
        "Stephanie Dam",
        "Hafsah Tasneem",
        "Jesper Jin Leen Larsen",
        "Anne Sylvester Walters"
       ],
       "description": "Agents",
       "index": 0,
       "layout": "IPY_MODEL_9e7cbbe678b94272a223d3ddaa658f7c",
       "style": "IPY_MODEL_eccd6dc08d5b48f78d0b4be83c60f5e9"
      }
     },
     "f0fdfdebd04d40719634c5863a28176a": {
      "model_module": "@jupyter-widgets/controls",
      "model_module_version": "1.5.0",
      "model_name": "DropdownModel",
      "state": {
       "_options_labels": [
        "Login-timer / dag",
        "Tabte Opkald per dag",
        "Samtale (min) per Opkald",
        "Aktiv/Klar (T) - Samlet per dag",
        "Samtale (T) - per dag",
        "Klar (T) - per dag",
        "Administration (T) - per dag",
        "Pause (T) - per dag",
        "ikke klar (T) Andet - per dag",
        "Ukendt/Andet (T) - per dag"
       ],
       "description": "Attributes",
       "index": 0,
       "layout": "IPY_MODEL_2abbe97e55934fc684afb078fa5174b1",
       "style": "IPY_MODEL_38fae2bff975467b8a5b9c6bb22f2a2e"
      }
     },
     "f2bc939b835f4dfabb18a6daeaedf4da": {
      "model_module": "@jupyter-widgets/controls",
      "model_module_version": "1.5.0",
      "model_name": "DropdownModel",
      "state": {
       "_options_labels": [
        "Stephanie Dam",
        "Hafsah Tasneem",
        "Jesper Jin Leen Larsen"
       ],
       "description": "Agents",
       "index": 2,
       "layout": "IPY_MODEL_94f311f7eb0b4bd1bf8628ada169703e",
       "style": "IPY_MODEL_8c251030cf8a4981911193390f07aa59"
      }
     },
     "f47e6b6e44104e9fa8ff561708c41e7c": {
      "model_module": "@jupyter-widgets/base",
      "model_module_version": "1.2.0",
      "model_name": "LayoutModel",
      "state": {}
     },
     "f87e715ba2e94b36b5bb57fc6271cd86": {
      "model_module": "@jupyter-widgets/base",
      "model_module_version": "1.2.0",
      "model_name": "LayoutModel",
      "state": {}
     },
     "fcf113d2e101413097150c4ce4f65821": {
      "model_module": "@jupyter-widgets/base",
      "model_module_version": "1.2.0",
      "model_name": "LayoutModel",
      "state": {}
     },
     "fdf5b02611554922a510e445c5a7b5ed": {
      "model_module": "@jupyter-widgets/controls",
      "model_module_version": "1.5.0",
      "model_name": "DescriptionStyleModel",
      "state": {
       "description_width": ""
      }
     },
     "fe976e58baa147d8a6274e1f9443321b": {
      "model_module": "@jupyter-widgets/controls",
      "model_module_version": "1.5.0",
      "model_name": "DescriptionStyleModel",
      "state": {
       "description_width": ""
      }
     },
     "ff76dcc4db8e449182827f99911328ff": {
      "model_module": "@jupyter-widgets/controls",
      "model_module_version": "1.5.0",
      "model_name": "DropdownModel",
      "state": {
       "_options_labels": [
        "Login-timer / dag",
        "Tabte Opkald per dag",
        "Samtale (min) per Opkald",
        "Aktiv/Klar (T) - Samlet per dag",
        "Samtale (T) - per dag",
        "Klar (T) - per dag",
        "Administration (T) - per dag",
        "Pause (T) - per dag",
        "ikke klar (T) Andet - per dag",
        "Ukendt/Andet (T) - per dag"
       ],
       "description": "Attributes",
       "index": 0,
       "layout": "IPY_MODEL_2db9eabfa7eb4ea1a37b06dbd2e50904",
       "style": "IPY_MODEL_b08ca60a3ff34882b32e8158441e5530"
      }
     }
    },
    "version_major": 2,
    "version_minor": 0
   }
  }
 },
 "nbformat": 4,
 "nbformat_minor": 2
}
